{
  "cells": [
    {
      "cell_type": "markdown",
      "metadata": {
        "id": "view-in-github",
        "colab_type": "text"
      },
      "source": [
        "<a href=\"https://colab.research.google.com/github/parwinderau/machinelearning/blob/main/Panada-and-DataFrames.ipynb\" target=\"_parent\"><img src=\"https://colab.research.google.com/assets/colab-badge.svg\" alt=\"Open In Colab\"/></a>"
      ]
    },
    {
      "cell_type": "markdown",
      "metadata": {
        "id": "5EWpPhctE0ts"
      },
      "source": [
        "# Exercise_3 python basics\n",
        "ML Course, Aarhus Universitet, BTECH Department  \n",
        "\n",
        "---\n",
        "\n",
        "# Pandas and DataFrames in Python \n",
        "reference: \n",
        "\n",
        "https://pandas.pydata.org/Pandas_Cheat_Sheet.pdf\n"
      ]
    },
    {
      "cell_type": "code",
      "execution_count": null,
      "metadata": {
        "id": "emtffHdXxLR6"
      },
      "outputs": [],
      "source": [
        "import pandas as pd"
      ]
    },
    {
      "cell_type": "code",
      "execution_count": null,
      "metadata": {
        "colab": {
          "base_uri": "https://localhost:8080/"
        },
        "id": "TLmFWAKQzM5n",
        "outputId": "9d9daf32-2d54-4a24-a2e3-9cacc9c21610"
      },
      "outputs": [
        {
          "name": "stdout",
          "output_type": "stream",
          "text": [
            "     Brand  Price(dkk)  Doors number Producer\n",
            "0  Renault      200000             5   France\n",
            "1   Toyota      250000             3    Japan\n",
            "2     Ford      220000             5       US\n",
            "3     Audi      350000             3  Germany\n"
          ]
        }
      ],
      "source": [
        "# {'Column Label':[ list of values in row]}\n",
        "cars = {'Brand': ['Renault','Toyota','Ford','Audi'],\n",
        "        'Price(dkk)': [200000,250000,220000,350000],\n",
        "        'Doors number': [5, 3, 5, 3],\n",
        "        'Producer': ['France', 'Japan', 'US', 'Germany'],\n",
        "        }\n",
        "\n",
        "# is possible to decide how many colums use/show\n",
        "df = pd.DataFrame(cars)\n",
        "\n",
        "print (df)"
      ]
    },
    {
      "cell_type": "markdown",
      "metadata": {
        "id": "GNBwkGTsKlV5"
      },
      "source": [
        "What is the price for a Toyota?"
      ]
    },
    {
      "cell_type": "code",
      "execution_count": null,
      "metadata": {
        "colab": {
          "base_uri": "https://localhost:8080/"
        },
        "id": "D8dMDfdwEjMQ",
        "outputId": "008dca1a-bbb5-42ce-e6b7-78fa67a52ca4"
      },
      "outputs": [
        {
          "name": "stdout",
          "output_type": "stream",
          "text": [
            "The price for the  Toyota  is  250000 dkk\n"
          ]
        }
      ],
      "source": [
        "# Using df['Brand'] we can see all \n",
        "\n",
        "num_rows = df['Brand'].size\n",
        "\n",
        "i = 0\n",
        "\n",
        "while (i < num_rows) and (df['Brand'][i] != 'Toyota'):\n",
        "  i = i + 1\n",
        "\n",
        "print('The price for the ',df['Brand'][i],' is ',df['Price(dkk)'][i], 'dkk')\n"
      ]
    },
    {
      "cell_type": "code",
      "execution_count": null,
      "metadata": {
        "colab": {
          "base_uri": "https://localhost:8080/",
          "height": 206
        },
        "id": "n5OrfVkl6bLv",
        "outputId": "0aa75818-2c03-4543-d121-cc1b189a681a"
      },
      "outputs": [
        {
          "name": "stderr",
          "output_type": "stream",
          "text": [
            "/var/folders/p_/s8bql6g93m3fhyrpdqycq_9c8gdhfq/T/ipykernel_3001/3735149473.py:8: FutureWarning: The frame.append method is deprecated and will be removed from pandas in a future version. Use pandas.concat instead.\n",
            "  df.append(df_new)\n"
          ]
        },
        {
          "data": {
            "text/html": [
              "<div>\n",
              "<style scoped>\n",
              "    .dataframe tbody tr th:only-of-type {\n",
              "        vertical-align: middle;\n",
              "    }\n",
              "\n",
              "    .dataframe tbody tr th {\n",
              "        vertical-align: top;\n",
              "    }\n",
              "\n",
              "    .dataframe thead th {\n",
              "        text-align: right;\n",
              "    }\n",
              "</style>\n",
              "<table border=\"1\" class=\"dataframe\">\n",
              "  <thead>\n",
              "    <tr style=\"text-align: right;\">\n",
              "      <th></th>\n",
              "      <th>Brand</th>\n",
              "      <th>Price(dkk)</th>\n",
              "      <th>Doors number</th>\n",
              "      <th>Producer</th>\n",
              "    </tr>\n",
              "  </thead>\n",
              "  <tbody>\n",
              "    <tr>\n",
              "      <th>0</th>\n",
              "      <td>Renault</td>\n",
              "      <td>200000</td>\n",
              "      <td>5</td>\n",
              "      <td>France</td>\n",
              "    </tr>\n",
              "    <tr>\n",
              "      <th>1</th>\n",
              "      <td>Toyota</td>\n",
              "      <td>250000</td>\n",
              "      <td>3</td>\n",
              "      <td>Japan</td>\n",
              "    </tr>\n",
              "    <tr>\n",
              "      <th>2</th>\n",
              "      <td>Ford</td>\n",
              "      <td>220000</td>\n",
              "      <td>5</td>\n",
              "      <td>US</td>\n",
              "    </tr>\n",
              "    <tr>\n",
              "      <th>3</th>\n",
              "      <td>Audi</td>\n",
              "      <td>350000</td>\n",
              "      <td>3</td>\n",
              "      <td>Germany</td>\n",
              "    </tr>\n",
              "    <tr>\n",
              "      <th>0</th>\n",
              "      <td>Nissan</td>\n",
              "      <td>210000</td>\n",
              "      <td>5</td>\n",
              "      <td>Japan</td>\n",
              "    </tr>\n",
              "  </tbody>\n",
              "</table>\n",
              "</div>"
            ],
            "text/plain": [
              "     Brand  Price(dkk)  Doors number Producer\n",
              "0  Renault      200000             5   France\n",
              "1   Toyota      250000             3    Japan\n",
              "2     Ford      220000             5       US\n",
              "3     Audi      350000             3  Germany\n",
              "0   Nissan      210000             5    Japan"
            ]
          },
          "execution_count": 10,
          "metadata": {},
          "output_type": "execute_result"
        }
      ],
      "source": [
        "new_car= {'Brand': ['Nissan'],\n",
        "        'Price(dkk)': [210000],\n",
        "        'Doors number': [5],\n",
        "        'Producer': ['Japan'],\n",
        "        }\n",
        "\n",
        "df_new = pd.DataFrame(new_car)\n",
        "df.append(df_new)"
      ]
    },
    {
      "cell_type": "code",
      "execution_count": null,
      "metadata": {
        "id": "dTMo8Ar0DSEX"
      },
      "outputs": [],
      "source": [
        "# Find 5 doors cars price\n",
        "\n",
        "five_door_price_list = df.loc[df['Doors number'] == 5 , ['Price(dkk)']] \n",
        "\n",
        "print('The mean of the price is ', np.mean(five_door_price_list))"
      ]
    },
    {
      "cell_type": "markdown",
      "metadata": {
        "id": "3tmkkubxFhXP"
      },
      "source": [
        "**Numpy module** \n",
        "\n",
        "It allows you to make specific mathematical operation\n",
        "\n",
        "reference: \n",
        "https://www.datacamp.com/community/blog/python-numpy-cheat-sheet"
      ]
    },
    {
      "cell_type": "code",
      "execution_count": null,
      "metadata": {
        "colab": {
          "base_uri": "https://localhost:8080/"
        },
        "id": "UDrPMsND3W-D",
        "outputId": "cb70db58-e5a0-48f8-a737-4882039c1ee5"
      },
      "outputs": [
        {
          "name": "stdout",
          "output_type": "stream",
          "text": [
            "List of opeartion [5, 8, 9, 4, 8, 8, 8, 8, 9, 4, 5, 9, 3, 5, 4, 9, 5, 7, 6, 7, 3, 3, 5, 5, 9, 6, 4, 8, 8, 4, 8, 5, 9, 7, 6, 8, 8, 4, 3, 8, 4, 5, 8, 8, 8, 9, 4, 7, 5, 6, 9, 7, 6, 6, 8, 7, 7, 4, 3, 3, 9, 6, 3, 9, 4, 6, 8, 4, 9, 6, 6, 6, 4, 9, 4, 4, 9, 3, 3, 7, 9, 6, 4, 4, 9, 5, 8, 5, 3, 7, 8, 5, 9, 8, 3, 7, 6, 4, 5]\n"
          ]
        }
      ],
      "source": [
        "# if you want to create random values around some pivot value\n",
        "# suppose you want to create a random number between 3 and 9 centred in 6 (3 + (9-3)/2 = 6)\n",
        "import random as rd\n",
        "list_of_numbers = []\n",
        "for i in range(1,100):\n",
        "  list_of_numbers.append(rd.randint(3,9))\n",
        "\n",
        "print('List of opeartion', list_of_numbers)"
      ]
    },
    {
      "cell_type": "code",
      "execution_count": null,
      "metadata": {
        "colab": {
          "base_uri": "https://localhost:8080/"
        },
        "id": "RVuQCRr4GHeP",
        "outputId": "ab113bfe-be36-4819-84f2-f44d1027cf1c"
      },
      "outputs": [
        {
          "name": "stdout",
          "output_type": "stream",
          "text": [
            "This list of numbers is centered on 6.16\n"
          ]
        }
      ],
      "source": [
        "import numpy as np\n",
        "\n",
        "list_mean_value = np.mean(list_of_numbers)\n",
        "\n",
        "rounded_value = round(list_mean_value,2)\n",
        "\n",
        "print('This list of numbers is centered on',rounded_value)\n",
        "\n",
        "# round() it rounds not integer numbers to the precision you need. "
      ]
    },
    {
      "cell_type": "markdown",
      "metadata": {
        "id": "1sM7lCVGFjGw"
      },
      "source": [
        "**Example** Calculate the average cost of the 5 doors cars"
      ]
    },
    {
      "cell_type": "markdown",
      "metadata": {
        "id": "G4KqpkcEDSEc"
      },
      "source": []
    },
    {
      "cell_type": "code",
      "execution_count": null,
      "metadata": {
        "id": "tM_ASL6KF0Y2",
        "outputId": "4145a24b-e5f5-4b5a-f0b9-f760559f46cd"
      },
      "outputs": [
        {
          "name": "stdout",
          "output_type": "stream",
          "text": [
            "4\n"
          ]
        }
      ],
      "source": [
        "# Make your tests in this space"
      ]
    },
    {
      "cell_type": "markdown",
      "metadata": {
        "id": "qJKzgADnF7Tu"
      },
      "source": [
        "**Solution**"
      ]
    },
    {
      "cell_type": "code",
      "execution_count": null,
      "metadata": {
        "colab": {
          "base_uri": "https://localhost:8080/"
        },
        "id": "OCle98EnF_sN",
        "outputId": "dd556f94-4309-4387-ddfa-71794525076c"
      },
      "outputs": [
        {
          "name": "stdout",
          "output_type": "stream",
          "text": [
            "Price(dkk)    210000.0\n",
            "dtype: float64\n",
            "The mean price for 5-doors cars is  210000.0 dkk\n"
          ]
        }
      ],
      "source": []
    },
    {
      "cell_type": "code",
      "execution_count": null,
      "metadata": {
        "colab": {
          "base_uri": "https://localhost:8080/"
        },
        "id": "I7_wcvhpeHpj",
        "outputId": "67fc921b-9350-4c9c-de0d-068667176c2a"
      },
      "outputs": [
        {
          "name": "stdout",
          "output_type": "stream",
          "text": [
            "The mean of the price is  Price(dkk)    210000.0\n",
            "dtype: float64\n"
          ]
        }
      ],
      "source": []
    }
  ],
  "metadata": {
    "colab": {
      "collapsed_sections": [],
      "provenance": [],
      "include_colab_link": true
    },
    "kernelspec": {
      "display_name": "Python 3.9.13 ('venv')",
      "language": "python",
      "name": "python3"
    },
    "language_info": {
      "codemirror_mode": {
        "name": "ipython",
        "version": 3
      },
      "file_extension": ".py",
      "mimetype": "text/x-python",
      "name": "python",
      "nbconvert_exporter": "python",
      "pygments_lexer": "ipython3",
      "version": "3.9.13"
    },
    "vscode": {
      "interpreter": {
        "hash": "0893c847e86b6989aca98574b3fb25672d9afd474b88350388891778551f8785"
      }
    }
  },
  "nbformat": 4,
  "nbformat_minor": 0
}