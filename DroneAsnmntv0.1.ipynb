{
  "nbformat": 4,
  "nbformat_minor": 0,
  "metadata": {
    "colab": {
      "provenance": [],
      "authorship_tag": "ABX9TyPsYaPZfr4Gho1BySd/4HeY",
      "include_colab_link": true
    },
    "kernelspec": {
      "name": "python3",
      "display_name": "Python 3"
    },
    "language_info": {
      "name": "python"
    }
  },
  "cells": [
    {
      "cell_type": "markdown",
      "metadata": {
        "id": "view-in-github",
        "colab_type": "text"
      },
      "source": [
        "<a href=\"https://colab.research.google.com/github/parwinderau/machinelearning/blob/main/DroneAsnmntv0.1.ipynb\" target=\"_parent\"><img src=\"https://colab.research.google.com/assets/colab-badge.svg\" alt=\"Open In Colab\"/></a>"
      ]
    },
    {
      "cell_type": "code",
      "execution_count": 4,
      "metadata": {
        "colab": {
          "base_uri": "https://localhost:8080/"
        },
        "id": "kOPF3VNNCNVR",
        "outputId": "e4fbce36-a3b7-4416-caee-a2ebc21873aa"
      },
      "outputs": [
        {
          "output_type": "stream",
          "name": "stdout",
          "text": [
            "﻿Model,L,W,H,Propellers total,Vertical stabilizer Winglets,Max speed,,,,,,,,,,,,,,,,,,,,,\n",
            "\n",
            "Aerob 4D,1450,3600,440,1,2,41.67,,,,,,,,,,,,,,,,,,,,,\n",
            "\n",
            "AeroVironment Wasp III,380,720,150,1,1,18.06,,,,,,,,,,,,,,,,,,,,,\n",
            "\n",
            "Apex,1850,4300,500,1,2,27.78,,,,,,,,,,,,,,,,,,,,,\n",
            "\n"
          ]
        }
      ],
      "source": [
        "with open(\"./sample_data/Drone_Data_clnd.csv\", 'r',encoding = \"utf-8\") as file:\n",
        "    for i in range(0,4):\n",
        "        print(file.readline())"
      ]
    },
    {
      "cell_type": "code",
      "source": [
        "import matplotlib.pyplot as plt\n",
        "import numpy as np\n",
        "import sklearn.linear_model\n",
        "\n",
        "print(\"If there are no errors, modules are load!\")"
      ],
      "metadata": {
        "colab": {
          "base_uri": "https://localhost:8080/"
        },
        "id": "K_Of0VfeCUuK",
        "outputId": "59e5bbe4-f70b-4d43-eb9f-a5c07a5fd140"
      },
      "execution_count": 5,
      "outputs": [
        {
          "output_type": "stream",
          "name": "stdout",
          "text": [
            "If there are no errors, modules are load!\n"
          ]
        }
      ]
    },
    {
      "cell_type": "code",
      "source": [
        "import pandas as pd\n",
        "\n",
        "# Here we upload the data from csv files using pandas\n",
        "# the comma separates the coulms and we see the countries in each line.\n",
        "dataFrame = pd.read_csv(\"./sample_data/Drone_Data_clnd.csv\", delimiter=',', encoding='utf-8') \n",
        "\n",
        "#print(drdata.head())"
      ],
      "metadata": {
        "id": "tfZFXkLlCZYC"
      },
      "execution_count": 40,
      "outputs": []
    },
    {
      "cell_type": "code",
      "source": [
        "# Now we want to separate those from the dataset\n",
        "from sklearn import preprocessing\n",
        "df_l_w_h = dataFrame[[\"L\", \"W\",\"H\"]]\n",
        "#print(drdata_l_w_h.head())\n",
        "#df_l_w_h.isnull()\n"
      ],
      "metadata": {
        "id": "MioP7VCIDi1L"
      },
      "execution_count": 43,
      "outputs": []
    },
    {
      "cell_type": "code",
      "source": [
        "# Now we need to order the data according to the growing score\n",
        "df_sorted = df_l_w_h.sort_values(by=[\"H\"],ascending=True)\n",
        "#https://stackabuse.com/linear-regression-in-python-with-scikit-learn/\n",
        "\n",
        "df_sorted.dropna(\n",
        "    axis=0,\n",
        "    how='any',\n",
        "    thresh=None,\n",
        "    subset=None,\n",
        "    inplace=True\n",
        ")\n",
        "#Tell you rows and columns in oyur data\n",
        "df_sorted.shape\n",
        "\n",
        "#print(drdata_sorted.head(38))"
      ],
      "metadata": {
        "colab": {
          "base_uri": "https://localhost:8080/"
        },
        "id": "a_fKINKoFKsv",
        "outputId": "7cd705b5-a0d3-4d91-b8f9-5208e1e53817"
      },
      "execution_count": 45,
      "outputs": [
        {
          "output_type": "execute_result",
          "data": {
            "text/plain": [
              "(38, 3)"
            ]
          },
          "metadata": {},
          "execution_count": 45
        }
      ]
    },
    {
      "cell_type": "code",
      "source": [
        "#correlation between paramters\n",
        "print(df_sorted.corr())"
      ],
      "metadata": {
        "colab": {
          "base_uri": "https://localhost:8080/"
        },
        "id": "svxNDfss5Hae",
        "outputId": "52d3bc49-d026-4da9-c46b-408785b2fd41"
      },
      "execution_count": 54,
      "outputs": [
        {
          "output_type": "stream",
          "name": "stdout",
          "text": [
            "          L         W         H\n",
            "L  1.000000  0.958773  0.920486\n",
            "W  0.958773  1.000000  0.907141\n",
            "H  0.920486  0.907141  1.000000\n"
          ]
        }
      ]
    },
    {
      "cell_type": "code",
      "source": [
        "d = preprocessing.normalize(df_sorted)\n",
        "df_normalized = pd.DataFrame(d, columns=[\"L\", \"W\",\"H\"])\n",
        "df_normalized.head()"
      ],
      "metadata": {
        "colab": {
          "base_uri": "https://localhost:8080/",
          "height": 206
        },
        "id": "1fNGTXFf33lN",
        "outputId": "3fbfd1a3-e6ff-40ba-b2e9-cb090e300e82"
      },
      "execution_count": 55,
      "outputs": [
        {
          "output_type": "execute_result",
          "data": {
            "text/plain": [
              "          L         W         H\n",
              "0  0.784715  0.619512  0.020650\n",
              "1  0.775786  0.630973  0.005344\n",
              "2  0.291827  0.953300  0.077820\n",
              "3  0.488410  0.868284  0.086828\n",
              "4  0.459032  0.869745  0.181197"
            ],
            "text/html": [
              "\n",
              "  <div id=\"df-32f17b54-7a88-4dce-9486-12195af0abce\">\n",
              "    <div class=\"colab-df-container\">\n",
              "      <div>\n",
              "<style scoped>\n",
              "    .dataframe tbody tr th:only-of-type {\n",
              "        vertical-align: middle;\n",
              "    }\n",
              "\n",
              "    .dataframe tbody tr th {\n",
              "        vertical-align: top;\n",
              "    }\n",
              "\n",
              "    .dataframe thead th {\n",
              "        text-align: right;\n",
              "    }\n",
              "</style>\n",
              "<table border=\"1\" class=\"dataframe\">\n",
              "  <thead>\n",
              "    <tr style=\"text-align: right;\">\n",
              "      <th></th>\n",
              "      <th>L</th>\n",
              "      <th>W</th>\n",
              "      <th>H</th>\n",
              "    </tr>\n",
              "  </thead>\n",
              "  <tbody>\n",
              "    <tr>\n",
              "      <th>0</th>\n",
              "      <td>0.784715</td>\n",
              "      <td>0.619512</td>\n",
              "      <td>0.020650</td>\n",
              "    </tr>\n",
              "    <tr>\n",
              "      <th>1</th>\n",
              "      <td>0.775786</td>\n",
              "      <td>0.630973</td>\n",
              "      <td>0.005344</td>\n",
              "    </tr>\n",
              "    <tr>\n",
              "      <th>2</th>\n",
              "      <td>0.291827</td>\n",
              "      <td>0.953300</td>\n",
              "      <td>0.077820</td>\n",
              "    </tr>\n",
              "    <tr>\n",
              "      <th>3</th>\n",
              "      <td>0.488410</td>\n",
              "      <td>0.868284</td>\n",
              "      <td>0.086828</td>\n",
              "    </tr>\n",
              "    <tr>\n",
              "      <th>4</th>\n",
              "      <td>0.459032</td>\n",
              "      <td>0.869745</td>\n",
              "      <td>0.181197</td>\n",
              "    </tr>\n",
              "  </tbody>\n",
              "</table>\n",
              "</div>\n",
              "      <button class=\"colab-df-convert\" onclick=\"convertToInteractive('df-32f17b54-7a88-4dce-9486-12195af0abce')\"\n",
              "              title=\"Convert this dataframe to an interactive table.\"\n",
              "              style=\"display:none;\">\n",
              "        \n",
              "  <svg xmlns=\"http://www.w3.org/2000/svg\" height=\"24px\"viewBox=\"0 0 24 24\"\n",
              "       width=\"24px\">\n",
              "    <path d=\"M0 0h24v24H0V0z\" fill=\"none\"/>\n",
              "    <path d=\"M18.56 5.44l.94 2.06.94-2.06 2.06-.94-2.06-.94-.94-2.06-.94 2.06-2.06.94zm-11 1L8.5 8.5l.94-2.06 2.06-.94-2.06-.94L8.5 2.5l-.94 2.06-2.06.94zm10 10l.94 2.06.94-2.06 2.06-.94-2.06-.94-.94-2.06-.94 2.06-2.06.94z\"/><path d=\"M17.41 7.96l-1.37-1.37c-.4-.4-.92-.59-1.43-.59-.52 0-1.04.2-1.43.59L10.3 9.45l-7.72 7.72c-.78.78-.78 2.05 0 2.83L4 21.41c.39.39.9.59 1.41.59.51 0 1.02-.2 1.41-.59l7.78-7.78 2.81-2.81c.8-.78.8-2.07 0-2.86zM5.41 20L4 18.59l7.72-7.72 1.47 1.35L5.41 20z\"/>\n",
              "  </svg>\n",
              "      </button>\n",
              "      \n",
              "  <style>\n",
              "    .colab-df-container {\n",
              "      display:flex;\n",
              "      flex-wrap:wrap;\n",
              "      gap: 12px;\n",
              "    }\n",
              "\n",
              "    .colab-df-convert {\n",
              "      background-color: #E8F0FE;\n",
              "      border: none;\n",
              "      border-radius: 50%;\n",
              "      cursor: pointer;\n",
              "      display: none;\n",
              "      fill: #1967D2;\n",
              "      height: 32px;\n",
              "      padding: 0 0 0 0;\n",
              "      width: 32px;\n",
              "    }\n",
              "\n",
              "    .colab-df-convert:hover {\n",
              "      background-color: #E2EBFA;\n",
              "      box-shadow: 0px 1px 2px rgba(60, 64, 67, 0.3), 0px 1px 3px 1px rgba(60, 64, 67, 0.15);\n",
              "      fill: #174EA6;\n",
              "    }\n",
              "\n",
              "    [theme=dark] .colab-df-convert {\n",
              "      background-color: #3B4455;\n",
              "      fill: #D2E3FC;\n",
              "    }\n",
              "\n",
              "    [theme=dark] .colab-df-convert:hover {\n",
              "      background-color: #434B5C;\n",
              "      box-shadow: 0px 1px 3px 1px rgba(0, 0, 0, 0.15);\n",
              "      filter: drop-shadow(0px 1px 2px rgba(0, 0, 0, 0.3));\n",
              "      fill: #FFFFFF;\n",
              "    }\n",
              "  </style>\n",
              "\n",
              "      <script>\n",
              "        const buttonEl =\n",
              "          document.querySelector('#df-32f17b54-7a88-4dce-9486-12195af0abce button.colab-df-convert');\n",
              "        buttonEl.style.display =\n",
              "          google.colab.kernel.accessAllowed ? 'block' : 'none';\n",
              "\n",
              "        async function convertToInteractive(key) {\n",
              "          const element = document.querySelector('#df-32f17b54-7a88-4dce-9486-12195af0abce');\n",
              "          const dataTable =\n",
              "            await google.colab.kernel.invokeFunction('convertToInteractive',\n",
              "                                                     [key], {});\n",
              "          if (!dataTable) return;\n",
              "\n",
              "          const docLinkHtml = 'Like what you see? Visit the ' +\n",
              "            '<a target=\"_blank\" href=https://colab.research.google.com/notebooks/data_table.ipynb>data table notebook</a>'\n",
              "            + ' to learn more about interactive tables.';\n",
              "          element.innerHTML = '';\n",
              "          dataTable['output_type'] = 'display_data';\n",
              "          await google.colab.output.renderOutput(dataTable, element);\n",
              "          const docLink = document.createElement('div');\n",
              "          docLink.innerHTML = docLinkHtml;\n",
              "          element.appendChild(docLink);\n",
              "        }\n",
              "      </script>\n",
              "    </div>\n",
              "  </div>\n",
              "  "
            ]
          },
          "metadata": {},
          "execution_count": 55
        }
      ]
    },
    {
      "cell_type": "code",
      "source": [
        "print(df_normalized.head(38))"
      ],
      "metadata": {
        "colab": {
          "base_uri": "https://localhost:8080/"
        },
        "id": "LOFYqZ4FzwPM",
        "outputId": "c0100a1c-a83e-45ab-eb2e-3570b10199be"
      },
      "execution_count": 56,
      "outputs": [
        {
          "output_type": "stream",
          "name": "stdout",
          "text": [
            "           L         W         H\n",
            "0   0.784715  0.619512  0.020650\n",
            "1   0.775786  0.630973  0.005344\n",
            "2   0.291827  0.953300  0.077820\n",
            "3   0.488410  0.868284  0.086828\n",
            "4   0.459032  0.869745  0.181197\n",
            "5   0.325684  0.930524  0.167494\n",
            "6   0.364344  0.923872  0.117110\n",
            "7   0.365148  0.912871  0.182574\n",
            "8   0.328889  0.939682  0.093968\n",
            "9   0.341882  0.911685  0.227921\n",
            "10  0.502995  0.855092  0.125749\n",
            "11  0.334242  0.935879  0.111414\n",
            "12  0.353679  0.922640  0.153773\n",
            "13  0.201180  0.977959  0.055883\n",
            "14  0.512316  0.819705  0.256158\n",
            "15  0.475075  0.862174  0.175954\n",
            "16  0.519896  0.819836  0.239952\n",
            "17  0.339961  0.934893  0.101988\n",
            "18  0.357546  0.922700  0.144172\n",
            "19  0.370284  0.925710  0.077142\n",
            "20  0.359447  0.924293  0.128374\n",
            "21  0.311583  0.942489  0.120956\n",
            "22  0.370524  0.905726  0.205847\n",
            "23  0.287977  0.940724  0.179186\n",
            "24  0.382404  0.917770  0.107073\n",
            "25  0.287295  0.938498  0.191530\n",
            "26  0.617213  0.771517  0.154303\n",
            "27  0.459504  0.880716  0.114876\n",
            "28  0.288775  0.946805  0.142021\n",
            "29  0.395904  0.910579  0.118771\n",
            "30  0.348466  0.923644  0.159539\n",
            "31  0.359458  0.919545  0.158830\n",
            "32  0.426241  0.891232  0.154997\n",
            "33  0.371233  0.921681  0.112650\n",
            "34  0.392973  0.913396  0.106209\n",
            "35  0.674022  0.643842  0.362161\n",
            "36  0.655380  0.735305  0.172637\n",
            "37  0.583819  0.796117  0.159223\n"
          ]
        }
      ]
    },
    {
      "cell_type": "code",
      "source": [
        "#https://www.shanelynn.ie/pandas-drop-delete-dataframe-rows-columns/\n",
        "'''\n",
        "df_sorted.drop(\n",
        "    \n",
        "    labels=[31,5,14],\n",
        "    axis=0,\n",
        "    inplace=True\n",
        ")\n",
        "'''"
      ],
      "metadata": {
        "colab": {
          "base_uri": "https://localhost:8080/",
          "height": 35
        },
        "id": "fSzJytqQ0iGm",
        "outputId": "8b1e0a55-b614-4068-ca0d-e648543fc224"
      },
      "execution_count": 51,
      "outputs": [
        {
          "output_type": "execute_result",
          "data": {
            "text/plain": [
              "'\\ndf_sorted.drop(\\n    \\n    labels=[31,5,14],\\n    axis=0,\\n    inplace=True\\n)\\n'"
            ],
            "application/vnd.google.colaboratory.intrinsic+json": {
              "type": "string"
            }
          },
          "metadata": {},
          "execution_count": 51
        }
      ]
    },
    {
      "cell_type": "code",
      "source": [],
      "metadata": {
        "colab": {
          "base_uri": "https://localhost:8080/"
        },
        "id": "zCEZuqv5I7mq",
        "outputId": "a4006126-7069-485f-b7cf-b5d86674661b"
      },
      "execution_count": 53,
      "outputs": [
        {
          "output_type": "stream",
          "name": "stdout",
          "text": [
            "          L         W         H\n",
            "L  1.000000 -0.973282  0.039853\n",
            "W -0.973282  1.000000 -0.102884\n",
            "H  0.039853 -0.102884  1.000000\n"
          ]
        }
      ]
    },
    {
      "cell_type": "code",
      "source": [
        "print(df_normalized.describe())"
      ],
      "metadata": {
        "colab": {
          "base_uri": "https://localhost:8080/"
        },
        "id": "b9M02OC6Jp8G",
        "outputId": "8c190af4-c55f-443b-feab-a8334e35c2c6"
      },
      "execution_count": 57,
      "outputs": [
        {
          "output_type": "stream",
          "name": "stdout",
          "text": [
            "               L          W          H\n",
            "count  38.000000  38.000000  38.000000\n",
            "mean    0.422766   0.877919   0.143481\n",
            "std     0.135911   0.089672   0.065091\n",
            "min     0.201180   0.619512   0.005344\n",
            "25%     0.340441   0.863701   0.108158\n",
            "50%     0.370404   0.915583   0.143096\n",
            "75%     0.485076   0.929321   0.175125\n",
            "max     0.784715   0.977959   0.362161\n"
          ]
        }
      ]
    },
    {
      "cell_type": "code",
      "source": [
        "#Multiple linear Regressor\n",
        "#https://www.analyticsvidhya.com/blog/2021/05/multiple-linear-regression-using-python-and-scikit-learn/\n",
        "\n",
        "%matplotlib inline\n",
        "import matplotlib.pyplot as plt\n",
        "df_normalized.hist(bins=50, figsize=(20,15))\n",
        "#save_fig('histograms')\n",
        "plt.show()"
      ],
      "metadata": {
        "id": "-NflgJ2WK0wR",
        "colab": {
          "base_uri": "https://localhost:8080/",
          "height": 658
        },
        "outputId": "130a6a24-e247-4cc7-bef3-55c969738f8f"
      },
      "execution_count": 59,
      "outputs": [
        {
          "output_type": "display_data",
          "data": {
            "text/plain": [
              "<Figure size 1440x1080 with 4 Axes>"
            ],
            "image/png": "[encoded data removed]"
          },
          "metadata": {
            "needs_background": "light"
          }
        }
      ]
    },
    {
      "cell_type": "code",
      "source": [
        "np.random.seed(42)\n",
        "from sklearn.model_selection import train_test_split\n",
        "\n",
        "train_set, test_set = train_test_split(df_normalized, test_size=0.1, random_state=42)\n",
        "test_set.head()"
      ],
      "metadata": {
        "colab": {
          "base_uri": "https://localhost:8080/",
          "height": 175
        },
        "id": "dZqeyZjtMg7a",
        "outputId": "2d316592-d744-4d7b-f989-f7a6f76cf22a"
      },
      "execution_count": 86,
      "outputs": [
        {
          "output_type": "execute_result",
          "data": {
            "text/plain": [
              "           L         W         H\n",
              "33  0.371233  0.921681  0.112650\n",
              "36  0.655380  0.735305  0.172637\n",
              "4   0.459032  0.869745  0.181197\n",
              "13  0.201180  0.977959  0.055883"
            ],
            "text/html": [
              "\n",
              "  <div id=\"df-820b98de-9323-4f52-a9a1-eea3cee4d0f8\">\n",
              "    <div class=\"colab-df-container\">\n",
              "      <div>\n",
              "<style scoped>\n",
              "    .dataframe tbody tr th:only-of-type {\n",
              "        vertical-align: middle;\n",
              "    }\n",
              "\n",
              "    .dataframe tbody tr th {\n",
              "        vertical-align: top;\n",
              "    }\n",
              "\n",
              "    .dataframe thead th {\n",
              "        text-align: right;\n",
              "    }\n",
              "</style>\n",
              "<table border=\"1\" class=\"dataframe\">\n",
              "  <thead>\n",
              "    <tr style=\"text-align: right;\">\n",
              "      <th></th>\n",
              "      <th>L</th>\n",
              "      <th>W</th>\n",
              "      <th>H</th>\n",
              "    </tr>\n",
              "  </thead>\n",
              "  <tbody>\n",
              "    <tr>\n",
              "      <th>33</th>\n",
              "      <td>0.371233</td>\n",
              "      <td>0.921681</td>\n",
              "      <td>0.112650</td>\n",
              "    </tr>\n",
              "    <tr>\n",
              "      <th>36</th>\n",
              "      <td>0.655380</td>\n",
              "      <td>0.735305</td>\n",
              "      <td>0.172637</td>\n",
              "    </tr>\n",
              "    <tr>\n",
              "      <th>4</th>\n",
              "      <td>0.459032</td>\n",
              "      <td>0.869745</td>\n",
              "      <td>0.181197</td>\n",
              "    </tr>\n",
              "    <tr>\n",
              "      <th>13</th>\n",
              "      <td>0.201180</td>\n",
              "      <td>0.977959</td>\n",
              "      <td>0.055883</td>\n",
              "    </tr>\n",
              "  </tbody>\n",
              "</table>\n",
              "</div>\n",
              "      <button class=\"colab-df-convert\" onclick=\"convertToInteractive('df-820b98de-9323-4f52-a9a1-eea3cee4d0f8')\"\n",
              "              title=\"Convert this dataframe to an interactive table.\"\n",
              "              style=\"display:none;\">\n",
              "        \n",
              "  <svg xmlns=\"http://www.w3.org/2000/svg\" height=\"24px\"viewBox=\"0 0 24 24\"\n",
              "       width=\"24px\">\n",
              "    <path d=\"M0 0h24v24H0V0z\" fill=\"none\"/>\n",
              "    <path d=\"M18.56 5.44l.94 2.06.94-2.06 2.06-.94-2.06-.94-.94-2.06-.94 2.06-2.06.94zm-11 1L8.5 8.5l.94-2.06 2.06-.94-2.06-.94L8.5 2.5l-.94 2.06-2.06.94zm10 10l.94 2.06.94-2.06 2.06-.94-2.06-.94-.94-2.06-.94 2.06-2.06.94z\"/><path d=\"M17.41 7.96l-1.37-1.37c-.4-.4-.92-.59-1.43-.59-.52 0-1.04.2-1.43.59L10.3 9.45l-7.72 7.72c-.78.78-.78 2.05 0 2.83L4 21.41c.39.39.9.59 1.41.59.51 0 1.02-.2 1.41-.59l7.78-7.78 2.81-2.81c.8-.78.8-2.07 0-2.86zM5.41 20L4 18.59l7.72-7.72 1.47 1.35L5.41 20z\"/>\n",
              "  </svg>\n",
              "      </button>\n",
              "      \n",
              "  <style>\n",
              "    .colab-df-container {\n",
              "      display:flex;\n",
              "      flex-wrap:wrap;\n",
              "      gap: 12px;\n",
              "    }\n",
              "\n",
              "    .colab-df-convert {\n",
              "      background-color: #E8F0FE;\n",
              "      border: none;\n",
              "      border-radius: 50%;\n",
              "      cursor: pointer;\n",
              "      display: none;\n",
              "      fill: #1967D2;\n",
              "      height: 32px;\n",
              "      padding: 0 0 0 0;\n",
              "      width: 32px;\n",
              "    }\n",
              "\n",
              "    .colab-df-convert:hover {\n",
              "      background-color: #E2EBFA;\n",
              "      box-shadow: 0px 1px 2px rgba(60, 64, 67, 0.3), 0px 1px 3px 1px rgba(60, 64, 67, 0.15);\n",
              "      fill: #174EA6;\n",
              "    }\n",
              "\n",
              "    [theme=dark] .colab-df-convert {\n",
              "      background-color: #3B4455;\n",
              "      fill: #D2E3FC;\n",
              "    }\n",
              "\n",
              "    [theme=dark] .colab-df-convert:hover {\n",
              "      background-color: #434B5C;\n",
              "      box-shadow: 0px 1px 3px 1px rgba(0, 0, 0, 0.15);\n",
              "      filter: drop-shadow(0px 1px 2px rgba(0, 0, 0, 0.3));\n",
              "      fill: #FFFFFF;\n",
              "    }\n",
              "  </style>\n",
              "\n",
              "      <script>\n",
              "        const buttonEl =\n",
              "          document.querySelector('#df-820b98de-9323-4f52-a9a1-eea3cee4d0f8 button.colab-df-convert');\n",
              "        buttonEl.style.display =\n",
              "          google.colab.kernel.accessAllowed ? 'block' : 'none';\n",
              "\n",
              "        async function convertToInteractive(key) {\n",
              "          const element = document.querySelector('#df-820b98de-9323-4f52-a9a1-eea3cee4d0f8');\n",
              "          const dataTable =\n",
              "            await google.colab.kernel.invokeFunction('convertToInteractive',\n",
              "                                                     [key], {});\n",
              "          if (!dataTable) return;\n",
              "\n",
              "          const docLinkHtml = 'Like what you see? Visit the ' +\n",
              "            '<a target=\"_blank\" href=https://colab.research.google.com/notebooks/data_table.ipynb>data table notebook</a>'\n",
              "            + ' to learn more about interactive tables.';\n",
              "          element.innerHTML = '';\n",
              "          dataTable['output_type'] = 'display_data';\n",
              "          await google.colab.output.renderOutput(dataTable, element);\n",
              "          const docLink = document.createElement('div');\n",
              "          docLink.innerHTML = docLinkHtml;\n",
              "          element.appendChild(docLink);\n",
              "        }\n",
              "      </script>\n",
              "    </div>\n",
              "  </div>\n",
              "  "
            ]
          },
          "metadata": {},
          "execution_count": 86
        }
      ]
    },
    {
      "cell_type": "code",
      "source": [
        "train_set.head(11)"
      ],
      "metadata": {
        "colab": {
          "base_uri": "https://localhost:8080/",
          "height": 394
        },
        "id": "cb_nkhdS9le0",
        "outputId": "4fff895e-e260-42e8-f96d-8b9d78115ff9"
      },
      "execution_count": 88,
      "outputs": [
        {
          "output_type": "execute_result",
          "data": {
            "text/plain": [
              "           L         W         H\n",
              "30  0.348466  0.923644  0.159539\n",
              "26  0.617213  0.771517  0.154303\n",
              "6   0.364344  0.923872  0.117110\n",
              "27  0.459504  0.880716  0.114876\n",
              "24  0.382404  0.917770  0.107073\n",
              "15  0.475075  0.862174  0.175954\n",
              "17  0.339961  0.934893  0.101988\n",
              "8   0.328889  0.939682  0.093968\n",
              "16  0.519896  0.819836  0.239952\n",
              "12  0.353679  0.922640  0.153773\n",
              "19  0.370284  0.925710  0.077142"
            ],
            "text/html": [
              "\n",
              "  <div id=\"df-e7f7d9e3-bfd1-4844-ba11-2ea521f4f178\">\n",
              "    <div class=\"colab-df-container\">\n",
              "      <div>\n",
              "<style scoped>\n",
              "    .dataframe tbody tr th:only-of-type {\n",
              "        vertical-align: middle;\n",
              "    }\n",
              "\n",
              "    .dataframe tbody tr th {\n",
              "        vertical-align: top;\n",
              "    }\n",
              "\n",
              "    .dataframe thead th {\n",
              "        text-align: right;\n",
              "    }\n",
              "</style>\n",
              "<table border=\"1\" class=\"dataframe\">\n",
              "  <thead>\n",
              "    <tr style=\"text-align: right;\">\n",
              "      <th></th>\n",
              "      <th>L</th>\n",
              "      <th>W</th>\n",
              "      <th>H</th>\n",
              "    </tr>\n",
              "  </thead>\n",
              "  <tbody>\n",
              "    <tr>\n",
              "      <th>30</th>\n",
              "      <td>0.348466</td>\n",
              "      <td>0.923644</td>\n",
              "      <td>0.159539</td>\n",
              "    </tr>\n",
              "    <tr>\n",
              "      <th>26</th>\n",
              "      <td>0.617213</td>\n",
              "      <td>0.771517</td>\n",
              "      <td>0.154303</td>\n",
              "    </tr>\n",
              "    <tr>\n",
              "      <th>6</th>\n",
              "      <td>0.364344</td>\n",
              "      <td>0.923872</td>\n",
              "      <td>0.117110</td>\n",
              "    </tr>\n",
              "    <tr>\n",
              "      <th>27</th>\n",
              "      <td>0.459504</td>\n",
              "      <td>0.880716</td>\n",
              "      <td>0.114876</td>\n",
              "    </tr>\n",
              "    <tr>\n",
              "      <th>24</th>\n",
              "      <td>0.382404</td>\n",
              "      <td>0.917770</td>\n",
              "      <td>0.107073</td>\n",
              "    </tr>\n",
              "    <tr>\n",
              "      <th>15</th>\n",
              "      <td>0.475075</td>\n",
              "      <td>0.862174</td>\n",
              "      <td>0.175954</td>\n",
              "    </tr>\n",
              "    <tr>\n",
              "      <th>17</th>\n",
              "      <td>0.339961</td>\n",
              "      <td>0.934893</td>\n",
              "      <td>0.101988</td>\n",
              "    </tr>\n",
              "    <tr>\n",
              "      <th>8</th>\n",
              "      <td>0.328889</td>\n",
              "      <td>0.939682</td>\n",
              "      <td>0.093968</td>\n",
              "    </tr>\n",
              "    <tr>\n",
              "      <th>16</th>\n",
              "      <td>0.519896</td>\n",
              "      <td>0.819836</td>\n",
              "      <td>0.239952</td>\n",
              "    </tr>\n",
              "    <tr>\n",
              "      <th>12</th>\n",
              "      <td>0.353679</td>\n",
              "      <td>0.922640</td>\n",
              "      <td>0.153773</td>\n",
              "    </tr>\n",
              "    <tr>\n",
              "      <th>19</th>\n",
              "      <td>0.370284</td>\n",
              "      <td>0.925710</td>\n",
              "      <td>0.077142</td>\n",
              "    </tr>\n",
              "  </tbody>\n",
              "</table>\n",
              "</div>\n",
              "      <button class=\"colab-df-convert\" onclick=\"convertToInteractive('df-e7f7d9e3-bfd1-4844-ba11-2ea521f4f178')\"\n",
              "              title=\"Convert this dataframe to an interactive table.\"\n",
              "              style=\"display:none;\">\n",
              "        \n",
              "  <svg xmlns=\"http://www.w3.org/2000/svg\" height=\"24px\"viewBox=\"0 0 24 24\"\n",
              "       width=\"24px\">\n",
              "    <path d=\"M0 0h24v24H0V0z\" fill=\"none\"/>\n",
              "    <path d=\"M18.56 5.44l.94 2.06.94-2.06 2.06-.94-2.06-.94-.94-2.06-.94 2.06-2.06.94zm-11 1L8.5 8.5l.94-2.06 2.06-.94-2.06-.94L8.5 2.5l-.94 2.06-2.06.94zm10 10l.94 2.06.94-2.06 2.06-.94-2.06-.94-.94-2.06-.94 2.06-2.06.94z\"/><path d=\"M17.41 7.96l-1.37-1.37c-.4-.4-.92-.59-1.43-.59-.52 0-1.04.2-1.43.59L10.3 9.45l-7.72 7.72c-.78.78-.78 2.05 0 2.83L4 21.41c.39.39.9.59 1.41.59.51 0 1.02-.2 1.41-.59l7.78-7.78 2.81-2.81c.8-.78.8-2.07 0-2.86zM5.41 20L4 18.59l7.72-7.72 1.47 1.35L5.41 20z\"/>\n",
              "  </svg>\n",
              "      </button>\n",
              "      \n",
              "  <style>\n",
              "    .colab-df-container {\n",
              "      display:flex;\n",
              "      flex-wrap:wrap;\n",
              "      gap: 12px;\n",
              "    }\n",
              "\n",
              "    .colab-df-convert {\n",
              "      background-color: #E8F0FE;\n",
              "      border: none;\n",
              "      border-radius: 50%;\n",
              "      cursor: pointer;\n",
              "      display: none;\n",
              "      fill: #1967D2;\n",
              "      height: 32px;\n",
              "      padding: 0 0 0 0;\n",
              "      width: 32px;\n",
              "    }\n",
              "\n",
              "    .colab-df-convert:hover {\n",
              "      background-color: #E2EBFA;\n",
              "      box-shadow: 0px 1px 2px rgba(60, 64, 67, 0.3), 0px 1px 3px 1px rgba(60, 64, 67, 0.15);\n",
              "      fill: #174EA6;\n",
              "    }\n",
              "\n",
              "    [theme=dark] .colab-df-convert {\n",
              "      background-color: #3B4455;\n",
              "      fill: #D2E3FC;\n",
              "    }\n",
              "\n",
              "    [theme=dark] .colab-df-convert:hover {\n",
              "      background-color: #434B5C;\n",
              "      box-shadow: 0px 1px 3px 1px rgba(0, 0, 0, 0.15);\n",
              "      filter: drop-shadow(0px 1px 2px rgba(0, 0, 0, 0.3));\n",
              "      fill: #FFFFFF;\n",
              "    }\n",
              "  </style>\n",
              "\n",
              "      <script>\n",
              "        const buttonEl =\n",
              "          document.querySelector('#df-e7f7d9e3-bfd1-4844-ba11-2ea521f4f178 button.colab-df-convert');\n",
              "        buttonEl.style.display =\n",
              "          google.colab.kernel.accessAllowed ? 'block' : 'none';\n",
              "\n",
              "        async function convertToInteractive(key) {\n",
              "          const element = document.querySelector('#df-e7f7d9e3-bfd1-4844-ba11-2ea521f4f178');\n",
              "          const dataTable =\n",
              "            await google.colab.kernel.invokeFunction('convertToInteractive',\n",
              "                                                     [key], {});\n",
              "          if (!dataTable) return;\n",
              "\n",
              "          const docLinkHtml = 'Like what you see? Visit the ' +\n",
              "            '<a target=\"_blank\" href=https://colab.research.google.com/notebooks/data_table.ipynb>data table notebook</a>'\n",
              "            + ' to learn more about interactive tables.';\n",
              "          element.innerHTML = '';\n",
              "          dataTable['output_type'] = 'display_data';\n",
              "          await google.colab.output.renderOutput(dataTable, element);\n",
              "          const docLink = document.createElement('div');\n",
              "          docLink.innerHTML = docLinkHtml;\n",
              "          element.appendChild(docLink);\n",
              "        }\n",
              "      </script>\n",
              "    </div>\n",
              "  </div>\n",
              "  "
            ]
          },
          "metadata": {},
          "execution_count": 88
        }
      ]
    },
    {
      "cell_type": "code",
      "source": [
        "d_names = (train_set, test_set)\n",
        "#print (d_names)\n",
        "y_pos = range(len(d_names))\n",
        "plt.bar(\n",
        "    y_pos, \n",
        "    (train_set.shape[0], test_set.shape[0]), \n",
        "    align='center', \n",
        "    alpha=0.8\n",
        ")\n",
        "#plt.xticks(y_pos, d_names)\n",
        "plt.ylabel('Number of rows') \n",
        "plt.title('😱 Train Vs Test Samples!')\n",
        "plt.show()"
      ],
      "metadata": {
        "colab": {
          "base_uri": "https://localhost:8080/",
          "height": 281
        },
        "id": "prCy342b8vnX",
        "outputId": "762899a3-3479-404f-fd3f-72f53e75a3a1"
      },
      "execution_count": 91,
      "outputs": [
        {
          "output_type": "display_data",
          "data": {
            "text/plain": [
              "<Figure size 432x288 with 1 Axes>"
            ],
            "image/png": "[encoded data removed]"
          },
          "metadata": {
            "needs_background": "light"
          }
        }
      ]
    },
    {
      "cell_type": "code",
      "source": [
        "df_lw = train_set.drop(\"H\", axis=1) # drop labels for training set\n",
        "df_h_label = train_set[\"H\"].copy()"
      ],
      "metadata": {
        "id": "C_-tkLSWMyS2"
      },
      "execution_count": 92,
      "outputs": []
    },
    {
      "cell_type": "code",
      "source": [
        "df_lw.head()"
      ],
      "metadata": {
        "colab": {
          "base_uri": "https://localhost:8080/",
          "height": 206
        },
        "id": "H3PDY6cCNEyF",
        "outputId": "d9aa2fbf-8494-4dac-87a4-56216f1d3a0c"
      },
      "execution_count": 93,
      "outputs": [
        {
          "output_type": "execute_result",
          "data": {
            "text/plain": [
              "           L         W\n",
              "30  0.348466  0.923644\n",
              "26  0.617213  0.771517\n",
              "6   0.364344  0.923872\n",
              "27  0.459504  0.880716\n",
              "24  0.382404  0.917770"
            ],
            "text/html": [
              "\n",
              "  <div id=\"df-aadb752e-351d-4c63-8dee-818f622aa091\">\n",
              "    <div class=\"colab-df-container\">\n",
              "      <div>\n",
              "<style scoped>\n",
              "    .dataframe tbody tr th:only-of-type {\n",
              "        vertical-align: middle;\n",
              "    }\n",
              "\n",
              "    .dataframe tbody tr th {\n",
              "        vertical-align: top;\n",
              "    }\n",
              "\n",
              "    .dataframe thead th {\n",
              "        text-align: right;\n",
              "    }\n",
              "</style>\n",
              "<table border=\"1\" class=\"dataframe\">\n",
              "  <thead>\n",
              "    <tr style=\"text-align: right;\">\n",
              "      <th></th>\n",
              "      <th>L</th>\n",
              "      <th>W</th>\n",
              "    </tr>\n",
              "  </thead>\n",
              "  <tbody>\n",
              "    <tr>\n",
              "      <th>30</th>\n",
              "      <td>0.348466</td>\n",
              "      <td>0.923644</td>\n",
              "    </tr>\n",
              "    <tr>\n",
              "      <th>26</th>\n",
              "      <td>0.617213</td>\n",
              "      <td>0.771517</td>\n",
              "    </tr>\n",
              "    <tr>\n",
              "      <th>6</th>\n",
              "      <td>0.364344</td>\n",
              "      <td>0.923872</td>\n",
              "    </tr>\n",
              "    <tr>\n",
              "      <th>27</th>\n",
              "      <td>0.459504</td>\n",
              "      <td>0.880716</td>\n",
              "    </tr>\n",
              "    <tr>\n",
              "      <th>24</th>\n",
              "      <td>0.382404</td>\n",
              "      <td>0.917770</td>\n",
              "    </tr>\n",
              "  </tbody>\n",
              "</table>\n",
              "</div>\n",
              "      <button class=\"colab-df-convert\" onclick=\"convertToInteractive('df-aadb752e-351d-4c63-8dee-818f622aa091')\"\n",
              "              title=\"Convert this dataframe to an interactive table.\"\n",
              "              style=\"display:none;\">\n",
              "        \n",
              "  <svg xmlns=\"http://www.w3.org/2000/svg\" height=\"24px\"viewBox=\"0 0 24 24\"\n",
              "       width=\"24px\">\n",
              "    <path d=\"M0 0h24v24H0V0z\" fill=\"none\"/>\n",
              "    <path d=\"M18.56 5.44l.94 2.06.94-2.06 2.06-.94-2.06-.94-.94-2.06-.94 2.06-2.06.94zm-11 1L8.5 8.5l.94-2.06 2.06-.94-2.06-.94L8.5 2.5l-.94 2.06-2.06.94zm10 10l.94 2.06.94-2.06 2.06-.94-2.06-.94-.94-2.06-.94 2.06-2.06.94z\"/><path d=\"M17.41 7.96l-1.37-1.37c-.4-.4-.92-.59-1.43-.59-.52 0-1.04.2-1.43.59L10.3 9.45l-7.72 7.72c-.78.78-.78 2.05 0 2.83L4 21.41c.39.39.9.59 1.41.59.51 0 1.02-.2 1.41-.59l7.78-7.78 2.81-2.81c.8-.78.8-2.07 0-2.86zM5.41 20L4 18.59l7.72-7.72 1.47 1.35L5.41 20z\"/>\n",
              "  </svg>\n",
              "      </button>\n",
              "      \n",
              "  <style>\n",
              "    .colab-df-container {\n",
              "      display:flex;\n",
              "      flex-wrap:wrap;\n",
              "      gap: 12px;\n",
              "    }\n",
              "\n",
              "    .colab-df-convert {\n",
              "      background-color: #E8F0FE;\n",
              "      border: none;\n",
              "      border-radius: 50%;\n",
              "      cursor: pointer;\n",
              "      display: none;\n",
              "      fill: #1967D2;\n",
              "      height: 32px;\n",
              "      padding: 0 0 0 0;\n",
              "      width: 32px;\n",
              "    }\n",
              "\n",
              "    .colab-df-convert:hover {\n",
              "      background-color: #E2EBFA;\n",
              "      box-shadow: 0px 1px 2px rgba(60, 64, 67, 0.3), 0px 1px 3px 1px rgba(60, 64, 67, 0.15);\n",
              "      fill: #174EA6;\n",
              "    }\n",
              "\n",
              "    [theme=dark] .colab-df-convert {\n",
              "      background-color: #3B4455;\n",
              "      fill: #D2E3FC;\n",
              "    }\n",
              "\n",
              "    [theme=dark] .colab-df-convert:hover {\n",
              "      background-color: #434B5C;\n",
              "      box-shadow: 0px 1px 3px 1px rgba(0, 0, 0, 0.15);\n",
              "      filter: drop-shadow(0px 1px 2px rgba(0, 0, 0, 0.3));\n",
              "      fill: #FFFFFF;\n",
              "    }\n",
              "  </style>\n",
              "\n",
              "      <script>\n",
              "        const buttonEl =\n",
              "          document.querySelector('#df-aadb752e-351d-4c63-8dee-818f622aa091 button.colab-df-convert');\n",
              "        buttonEl.style.display =\n",
              "          google.colab.kernel.accessAllowed ? 'block' : 'none';\n",
              "\n",
              "        async function convertToInteractive(key) {\n",
              "          const element = document.querySelector('#df-aadb752e-351d-4c63-8dee-818f622aa091');\n",
              "          const dataTable =\n",
              "            await google.colab.kernel.invokeFunction('convertToInteractive',\n",
              "                                                     [key], {});\n",
              "          if (!dataTable) return;\n",
              "\n",
              "          const docLinkHtml = 'Like what you see? Visit the ' +\n",
              "            '<a target=\"_blank\" href=https://colab.research.google.com/notebooks/data_table.ipynb>data table notebook</a>'\n",
              "            + ' to learn more about interactive tables.';\n",
              "          element.innerHTML = '';\n",
              "          dataTable['output_type'] = 'display_data';\n",
              "          await google.colab.output.renderOutput(dataTable, element);\n",
              "          const docLink = document.createElement('div');\n",
              "          docLink.innerHTML = docLinkHtml;\n",
              "          element.appendChild(docLink);\n",
              "        }\n",
              "      </script>\n",
              "    </div>\n",
              "  </div>\n",
              "  "
            ]
          },
          "metadata": {},
          "execution_count": 93
        }
      ]
    },
    {
      "cell_type": "code",
      "source": [
        "df_h_label.head()"
      ],
      "metadata": {
        "colab": {
          "base_uri": "https://localhost:8080/"
        },
        "id": "c7Z0MP41NKVP",
        "outputId": "2e80f147-1cea-4185-c669-833b8ddbc3bb"
      },
      "execution_count": 94,
      "outputs": [
        {
          "output_type": "execute_result",
          "data": {
            "text/plain": [
              "30    0.159539\n",
              "26    0.154303\n",
              "6     0.117110\n",
              "27    0.114876\n",
              "24    0.107073\n",
              "Name: H, dtype: float64"
            ]
          },
          "metadata": {},
          "execution_count": 94
        }
      ]
    },
    {
      "cell_type": "code",
      "source": [
        "from sklearn.pipeline import Pipeline\n",
        "from sklearn.preprocessing import StandardScaler\n",
        "\n",
        "num_pipeline = Pipeline([\n",
        "        ('std_scaler', StandardScaler()),\n",
        "    ])\n",
        "from sklearn.compose import ColumnTransformer"
      ],
      "metadata": {
        "id": "L7drjQMeNSyz"
      },
      "execution_count": 95,
      "outputs": []
    },
    {
      "cell_type": "code",
      "source": [
        "num_attribs = list(df_lw)\n",
        "\n",
        "full_pipeline = ColumnTransformer([\n",
        "        (\"num\", num_pipeline, num_attribs),\n",
        "    ])\n",
        "\n",
        "df_prepared = full_pipeline.fit_transform(df_lw)\n",
        "#label_prepared = full_pipeline.transform(df_h_label) \n",
        "df_prepared"
      ],
      "metadata": {
        "id": "0tnOkW8UNaha",
        "colab": {
          "base_uri": "https://localhost:8080/"
        },
        "outputId": "1bfc2ee5-5517-45dc-f7e5-26657628c433"
      },
      "execution_count": 96,
      "outputs": [
        {
          "output_type": "execute_result",
          "data": {
            "text/plain": [
              "array([[-0.57166497,  0.51542328],\n",
              "       [ 1.4926111 , -1.20711228],\n",
              "       [-0.44970534,  0.51799599],\n",
              "       [ 0.28122795,  0.02934111],\n",
              "       [-0.31098052,  0.44891077],\n",
              "       [ 0.40083498, -0.1806061 ],\n",
              "       [-0.63699093,  0.64279018],\n",
              "       [-0.72203901,  0.69701596],\n",
              "       [ 0.74510694, -0.65999474],\n",
              "       [-0.53162398,  0.50405348],\n",
              "       [-0.40407791,  0.53881077],\n",
              "       [-0.62223821,  0.38000295],\n",
              "       [ 0.02573617,  0.14841766],\n",
              "       [ 2.7792102 , -2.92825439],\n",
              "       [-1.04152283,  0.68360507],\n",
              "       [-0.74665782,  0.5933262 ],\n",
              "       [-0.68091673,  0.65395152],\n",
              "       [ 2.71062587, -2.79848419],\n",
              "       [ 1.2361084 , -0.92856078],\n",
              "       [-0.85496822,  0.72880205],\n",
              "       [-1.00671664,  0.85121436],\n",
              "       [-0.2072895 ,  0.36748098],\n",
              "       [ 1.92896682, -2.65276479],\n",
              "       [ 0.50325708, -0.11142225],\n",
              "       [-0.22980369,  0.39938036],\n",
              "       [-1.03628737,  0.70881643],\n",
              "       [-0.48723008,  0.46900296],\n",
              "       [ 0.61529197, -0.26078989],\n",
              "       [-0.4022331 ,  0.31253004],\n",
              "       [-0.5019177 ,  0.50472903],\n",
              "       [-0.48731523,  0.52276835],\n",
              "       [-0.44352487,  0.39343557],\n",
              "       [ 0.68688029, -0.66148052],\n",
              "       [-1.03015313,  0.77766488]])"
            ]
          },
          "metadata": {},
          "execution_count": 96
        }
      ]
    },
    {
      "cell_type": "code",
      "source": [
        "from sklearn.linear_model import LinearRegression\n",
        "from sklearn.svm import SVR\n",
        "from sklearn.ensemble import RandomForestRegressor\n",
        "\n",
        "#reg = RandomForestRegressor(n_estimators=10, random_state=42)\n",
        "#reg = SVR(kernel=\"linear\")\n",
        "reg = LinearRegression()\n",
        "\n",
        "reg.fit(df_prepared, df_h_label)"
      ],
      "metadata": {
        "colab": {
          "base_uri": "https://localhost:8080/"
        },
        "id": "J2fvtAD-N5hs",
        "outputId": "f3f9de89-68e3-485c-9d33-570256a67b51"
      },
      "execution_count": 108,
      "outputs": [
        {
          "output_type": "execute_result",
          "data": {
            "text/plain": [
              "LinearRegression()"
            ]
          },
          "metadata": {},
          "execution_count": 108
        }
      ]
    },
    {
      "cell_type": "code",
      "source": [
        "some_data = df_lw.iloc[:14]\n",
        "some_labels = df_h_label.iloc[:4]\n",
        "some_data_prepared = full_pipeline.transform(some_data)\n",
        "\n",
        "print(\"Predictions:\", reg.predict(some_data_prepared))"
      ],
      "metadata": {
        "colab": {
          "base_uri": "https://localhost:8080/"
        },
        "id": "fdNaFJ7iOInv",
        "outputId": "a34eee6c-5a2f-4021-d708-19daa07aa7b4"
      },
      "execution_count": 106,
      "outputs": [
        {
          "output_type": "stream",
          "name": "stdout",
          "text": [
            "Predictions: [0.15214752 0.10948035 0.13694778 0.10710367 0.12840896 0.11801507\n",
            " 0.14464484 0.14843718 0.13424321 0.14864146 0.12884895 0.17477615\n",
            " 0.12382117 0.16157177]\n"
          ]
        }
      ]
    },
    {
      "cell_type": "code",
      "source": [
        "reg.score(df_prepared,df_h_label)"
      ],
      "metadata": {
        "colab": {
          "base_uri": "https://localhost:8080/"
        },
        "id": "v3cWPS6x7Bt0",
        "outputId": "7e5828b5-cf4f-42d7-9675-e9a3acae3fb4"
      },
      "execution_count": 107,
      "outputs": [
        {
          "output_type": "execute_result",
          "data": {
            "text/plain": [
              "0.1758169635943272"
            ]
          },
          "metadata": {},
          "execution_count": 107
        }
      ]
    },
    {
      "cell_type": "code",
      "source": [
        "print(\"Labels:\", list(some_labels))"
      ],
      "metadata": {
        "colab": {
          "base_uri": "https://localhost:8080/"
        },
        "id": "Z1v7JjiROZpn",
        "outputId": "ed499b1d-f4d4-4fe9-9e8f-59bfa7702088"
      },
      "execution_count": 81,
      "outputs": [
        {
          "output_type": "stream",
          "name": "stdout",
          "text": [
            "Labels: [0.10707319971995141, 0.1759538357694467]\n"
          ]
        }
      ]
    },
    {
      "cell_type": "code",
      "source": [
        "from sklearn.metrics import mean_squared_error\n",
        "from sklearn.metrics import mean_absolute_error\n",
        "\n",
        "df_predictions = reg.predict(df_prepared)\n",
        "mse = mean_squared_error(df_h_label, df_predictions)\n",
        "rmse = np.sqrt(mse)\n",
        "mae = mean_absolute_error(df_h_label, df_predictions)\n",
        "#print('My name is', os.getlogin(), 'and I am', 42)\n",
        "print ('RMSE:', rmse, 'and MAE:', mae) "
      ],
      "metadata": {
        "colab": {
          "base_uri": "https://localhost:8080/"
        },
        "id": "zoGGKOUWOh9n",
        "outputId": "5716e2d8-2892-4d2a-b1c7-72171938750a"
      },
      "execution_count": 78,
      "outputs": [
        {
          "output_type": "stream",
          "name": "stdout",
          "text": [
            "RMSE: 0.06252655916268611 and MAE: 0.04633561871763649\n"
          ]
        }
      ]
    }
  ]
}