{
  "nbformat": 4,
  "nbformat_minor": 0,
  "metadata": {
    "colab": {
      "provenance": [],
      "include_colab_link": true
    },
    "kernelspec": {
      "name": "python3",
      "display_name": "Python 3"
    },
    "language_info": {
      "name": "python"
    }
  },
  "cells": [
    {
      "cell_type": "markdown",
      "metadata": {
        "id": "view-in-github",
        "colab_type": "text"
      },
      "source": [
        "<a href=\"https://colab.research.google.com/github/parwinderau/machinelearning/blob/main/DroneAsnmnt_Outlier-LR_130Recrd_workingv4.ipynb\" target=\"_parent\"><img src=\"https://colab.research.google.com/assets/colab-badge.svg\" alt=\"Open In Colab\"/></a>"
      ]
    },
    {
      "cell_type": "code",
      "execution_count": 1258,
      "metadata": {
        "colab": {
          "base_uri": "https://localhost:8080/"
        },
        "id": "kOPF3VNNCNVR",
        "outputId": "a7fe4e4f-0df0-4695-c745-90669e60874b"
      },
      "outputs": [
        {
          "output_type": "stream",
          "name": "stdout",
          "text": [
            "﻿Model,L,W,H,P,V,S\n",
            "\n",
            "AAI Shadow 200,3400,4200,1050,1,2,48.61\n",
            "\n",
            "AAI Shadow 400,3841,5150,112,1,2,51.39\n",
            "\n",
            "AAI Shadow 600,4800,6830,1120,1,2,55.56\n",
            "\n"
          ]
        }
      ],
      "source": [
        "with open(\"./sample_data/Drone_Data_clnd130.csv\", 'r',encoding = \"utf-8\") as file:\n",
        "    for i in range(0,4):\n",
        "        print(file.readline())"
      ]
    },
    {
      "cell_type": "code",
      "source": [
        "import matplotlib.pyplot as plt\n",
        "import numpy as np\n",
        "import sklearn.linear_model\n",
        "\n",
        "print(\"If there are no errors, modules are load!\")"
      ],
      "metadata": {
        "colab": {
          "base_uri": "https://localhost:8080/"
        },
        "id": "K_Of0VfeCUuK",
        "outputId": "d1300e60-d355-418a-e982-318117caccef"
      },
      "execution_count": 1259,
      "outputs": [
        {
          "output_type": "stream",
          "name": "stdout",
          "text": [
            "If there are no errors, modules are load!\n"
          ]
        }
      ]
    },
    {
      "cell_type": "code",
      "source": [
        "import pandas as pd\n",
        "\n",
        "# Here we upload the data from csv files using pandas\n",
        "# the comma separates the coulms and we see the countries in each line.\n",
        "dataFrame = pd.read_csv(\"./sample_data/Drone_Data_clnd130.csv\", delimiter=',', encoding='utf-8') \n",
        "\n",
        "#dataFrame=dataFrame.dropna()\n",
        "dataFrame = dataFrame.loc[:, ~dataFrame.columns.str.contains('^Unnamed')]\n",
        "#dataFrame['UAV_Model'] = dataFrame.to_numeric(dataFrame['UAV_Model'])\n",
        "#Check values of the column\n",
        "#dataFrame.Class.unique()\n",
        "#dataFrame.Class = dataFrame.Class.map( {'Plane':0 , 'Flying_wing':1, 'Hexacopter':2, 'Quadcopter':3} )\n",
        "#dataFrame.Class.unique()\n",
        "#print(drdata.head())"
      ],
      "metadata": {
        "id": "tfZFXkLlCZYC"
      },
      "execution_count": 1260,
      "outputs": []
    },
    {
      "cell_type": "code",
      "source": [
        "#Rename Columns\n",
        "#dataFrame=dataFrame.rename(columns={\"UAV_Model\":\"M\",\"Class\":\"C\",\"Propellers\": \"P\", \"V_Stabilizer_and_Winglets\": \"V\", \"Max speed, m/s\": \"S\"})"
      ],
      "metadata": {
        "id": "5RqpupFQ4bBW"
      },
      "execution_count": 1261,
      "outputs": []
    },
    {
      "cell_type": "code",
      "source": [
        "# Now we want to separate those from the dataset\n",
        "from sklearn import preprocessing\n",
        "\n",
        "df_l_w_h = dataFrame[[\"L\",\"W\", \"H\", \"P\", \"S\"]]\n",
        "#df_l_w_h = dataFrame[[\"C\",\"W\", \"H\", \"P\", \"S\"]]\n",
        "#print(drdata_l_w_h.head())\n",
        "\n"
      ],
      "metadata": {
        "id": "MioP7VCIDi1L"
      },
      "execution_count": 1262,
      "outputs": []
    },
    {
      "cell_type": "code",
      "source": [
        "#df_l_w_h.isnull()\n",
        "#Print Count of null values for each coloumn \n",
        "print(df_l_w_h.isnull().sum())"
      ],
      "metadata": {
        "colab": {
          "base_uri": "https://localhost:8080/"
        },
        "id": "tR76DIwKePBk",
        "outputId": "a4a7e037-1e85-4dd3-cdc0-628e07c9097e"
      },
      "execution_count": 1263,
      "outputs": [
        {
          "output_type": "stream",
          "name": "stdout",
          "text": [
            "L     0\n",
            "W     0\n",
            "H    14\n",
            "P     0\n",
            "S     0\n",
            "dtype: int64\n"
          ]
        }
      ]
    },
    {
      "cell_type": "code",
      "source": [
        "\n",
        "# drop all rows with any NaN and NaT values\n",
        "df_l_w_h = df_l_w_h.dropna()\n",
        "print(df_l_w_h.isnull().sum())"
      ],
      "metadata": {
        "colab": {
          "base_uri": "https://localhost:8080/"
        },
        "id": "T50yTqQ7ePRx",
        "outputId": "dc761c31-a8f3-461d-dacf-b4bece983828"
      },
      "execution_count": 1264,
      "outputs": [
        {
          "output_type": "stream",
          "name": "stdout",
          "text": [
            "L    0\n",
            "W    0\n",
            "H    0\n",
            "P    0\n",
            "S    0\n",
            "dtype: int64\n"
          ]
        }
      ]
    },
    {
      "cell_type": "code",
      "source": [
        "# Now we need to order the data according to the growing score\n",
        "df_sorted = df_l_w_h.sort_values(by=[\"S\"],ascending=True)\n",
        "#https://stackabuse.com/linear-regression-in-python-with-scikit-learn/\n",
        "\n",
        "df_sorted.dropna(\n",
        "    axis=0,\n",
        "    how='any',\n",
        "    thresh=None,\n",
        "    subset=None,\n",
        "    inplace=True\n",
        ")\n",
        "#Tell you rows and columns in oyur data\n",
        "df_sorted.shape\n"
      ],
      "metadata": {
        "colab": {
          "base_uri": "https://localhost:8080/"
        },
        "id": "a_fKINKoFKsv",
        "outputId": "0b295747-0572-42bb-e8f5-8c20848412b2"
      },
      "execution_count": 1265,
      "outputs": [
        {
          "output_type": "execute_result",
          "data": {
            "text/plain": [
              "(122, 5)"
            ]
          },
          "metadata": {},
          "execution_count": 1265
        }
      ]
    },
    {
      "cell_type": "code",
      "source": [
        "#correlation between paramters\n",
        "print(df_sorted.corr())"
      ],
      "metadata": {
        "colab": {
          "base_uri": "https://localhost:8080/"
        },
        "id": "svxNDfss5Hae",
        "outputId": "21334c23-28ca-4424-998e-73529a16aa31"
      },
      "execution_count": 1266,
      "outputs": [
        {
          "output_type": "stream",
          "name": "stdout",
          "text": [
            "          L         W         H         P         S\n",
            "L  1.000000  0.793645  0.841842  0.375655  0.551967\n",
            "W  0.793645  1.000000  0.808515  0.509158  0.355438\n",
            "H  0.841842  0.808515  1.000000  0.337046  0.548735\n",
            "P  0.375655  0.509158  0.337046  1.000000  0.143290\n",
            "S  0.551967  0.355438  0.548735  0.143290  1.000000\n"
          ]
        }
      ]
    },
    {
      "cell_type": "code",
      "source": [
        "#d = preprocessing.normalize(df_sorted)\n",
        "d = df_sorted\n",
        "#df_normalized = pd.DataFrame(d, columns=[\"L\", \"W\",\"H\"])\n",
        "df_normalized=df_sorted\n",
        "#df_normalized.head()"
      ],
      "metadata": {
        "id": "1fNGTXFf33lN"
      },
      "execution_count": 1267,
      "outputs": []
    },
    {
      "cell_type": "code",
      "source": [
        "#print(df_normalized.head(38))"
      ],
      "metadata": {
        "id": "LOFYqZ4FzwPM"
      },
      "execution_count": 1268,
      "outputs": []
    },
    {
      "cell_type": "code",
      "source": [
        "#print(df_normalized.describe())"
      ],
      "metadata": {
        "id": "b9M02OC6Jp8G"
      },
      "execution_count": 1269,
      "outputs": []
    },
    {
      "cell_type": "code",
      "source": [
        "import seaborn as sns\n",
        "#Outlier for specific column\n",
        "def outlierPlot(df, columnName):\n",
        "  sns.boxplot(df[columnName])\n",
        "  plt.title(columnName)\n",
        "  plt.show()\n",
        "'''\n",
        "for column in df_normalized:\n",
        "    outlierPlot(df_normalized,column)\n",
        "'''"
      ],
      "metadata": {
        "colab": {
          "base_uri": "https://localhost:8080/",
          "height": 35
        },
        "id": "yGbgrfa0CiIt",
        "outputId": "be3b4ec9-8aae-4ccd-e831-f18dfcb13ae7"
      },
      "execution_count": 1270,
      "outputs": [
        {
          "output_type": "execute_result",
          "data": {
            "text/plain": [
              "'\\nfor column in df_normalized:\\n    outlierPlot(df_normalized,column)\\n'"
            ],
            "application/vnd.google.colaboratory.intrinsic+json": {
              "type": "string"
            }
          },
          "metadata": {},
          "execution_count": 1270
        }
      ]
    },
    {
      "cell_type": "code",
      "source": [
        "def colLogTransformation(df, colName):\n",
        "  col_to_transform=df_normalized[colName]\n",
        "  sns.distplot(col_to_transform)\n",
        "  plt.title(\"Before log Transformation for Column:\"+ colName)\n",
        "  sns.despine()\n",
        "  plt.show()\n",
        "  col_to_transform=np.log(col_to_transform)\n",
        "  sns.distplot(col_to_transform)\n",
        "  plt.title(\"After log Transformation for Column:\"+colName)\n",
        "  sns.despine()\n",
        "  plt.show()\n",
        "  df_normalized[colName]=col_to_transform\n",
        "\n",
        "colLogTransformation(df_normalized,\"W\")\n",
        "colLogTransformation(df_normalized,\"H\")\n",
        "colLogTransformation(df_normalized,\"S\")\n",
        "#for column in df_normalized:\n",
        "#    colLogTransformation(df_normalized,column)\n"
      ],
      "metadata": {
        "colab": {
          "base_uri": "https://localhost:8080/",
          "height": 1000
        },
        "id": "3QrkoaMUFegz",
        "outputId": "5c41efb4-b112-4f1e-c617-0697ace0a0bd"
      },
      "execution_count": 1271,
      "outputs": [
        {
          "output_type": "stream",
          "name": "stderr",
          "text": [
            "/usr/local/lib/python3.8/dist-packages/seaborn/distributions.py:2619: FutureWarning: `distplot` is a deprecated function and will be removed in a future version. Please adapt your code to use either `displot` (a figure-level function with similar flexibility) or `histplot` (an axes-level function for histograms).\n",
            "  warnings.warn(msg, FutureWarning)\n"
          ]
        },
        {
          "output_type": "display_data",
          "data": {
            "text/plain": [
              "<Figure size 432x288 with 1 Axes>"
            ],
            "image/png": "[encoded data removed]"
          },
          "metadata": {
            "needs_background": "light"
          }
        },
        {
          "output_type": "stream",
          "name": "stderr",
          "text": [
            "/usr/local/lib/python3.8/dist-packages/seaborn/distributions.py:2619: FutureWarning: `distplot` is a deprecated function and will be removed in a future version. Please adapt your code to use either `displot` (a figure-level function with similar flexibility) or `histplot` (an axes-level function for histograms).\n",
            "  warnings.warn(msg, FutureWarning)\n"
          ]
        },
        {
          "output_type": "display_data",
          "data": {
            "text/plain": [
              "<Figure size 432x288 with 1 Axes>"
            ],
            "image/png": "[encoded data removed]"
          },
          "metadata": {
            "needs_background": "light"
          }
        },
        {
          "output_type": "stream",
          "name": "stderr",
          "text": [
            "/usr/local/lib/python3.8/dist-packages/seaborn/distributions.py:2619: FutureWarning: `distplot` is a deprecated function and will be removed in a future version. Please adapt your code to use either `displot` (a figure-level function with similar flexibility) or `histplot` (an axes-level function for histograms).\n",
            "  warnings.warn(msg, FutureWarning)\n"
          ]
        },
        {
          "output_type": "display_data",
          "data": {
            "text/plain": [
              "<Figure size 432x288 with 1 Axes>"
            ],
            "image/png": "[encoded data removed]"
          },
          "metadata": {
            "needs_background": "light"
          }
        },
        {
          "output_type": "stream",
          "name": "stderr",
          "text": [
            "/usr/local/lib/python3.8/dist-packages/seaborn/distributions.py:2619: FutureWarning: `distplot` is a deprecated function and will be removed in a future version. Please adapt your code to use either `displot` (a figure-level function with similar flexibility) or `histplot` (an axes-level function for histograms).\n",
            "  warnings.warn(msg, FutureWarning)\n"
          ]
        },
        {
          "output_type": "display_data",
          "data": {
            "text/plain": [
              "<Figure size 432x288 with 1 Axes>"
            ],
            "image/png": "[encoded data removed]"
          },
          "metadata": {
            "needs_background": "light"
          }
        },
        {
          "output_type": "stream",
          "name": "stderr",
          "text": [
            "/usr/local/lib/python3.8/dist-packages/seaborn/distributions.py:2619: FutureWarning: `distplot` is a deprecated function and will be removed in a future version. Please adapt your code to use either `displot` (a figure-level function with similar flexibility) or `histplot` (an axes-level function for histograms).\n",
            "  warnings.warn(msg, FutureWarning)\n"
          ]
        },
        {
          "output_type": "display_data",
          "data": {
            "text/plain": [
              "<Figure size 432x288 with 1 Axes>"
            ],
            "image/png": "[encoded data removed]"
          },
          "metadata": {
            "needs_background": "light"
          }
        },
        {
          "output_type": "stream",
          "name": "stderr",
          "text": [
            "/usr/local/lib/python3.8/dist-packages/seaborn/distributions.py:2619: FutureWarning: `distplot` is a deprecated function and will be removed in a future version. Please adapt your code to use either `displot` (a figure-level function with similar flexibility) or `histplot` (an axes-level function for histograms).\n",
            "  warnings.warn(msg, FutureWarning)\n"
          ]
        },
        {
          "output_type": "display_data",
          "data": {
            "text/plain": [
              "<Figure size 432x288 with 1 Axes>"
            ],
            "image/png": "[encoded data removed]"
          },
          "metadata": {
            "needs_background": "light"
          }
        }
      ]
    },
    {
      "cell_type": "code",
      "source": [
        "#Remove Outliers..run only once\n",
        "def drop_outliers(df, colName):\n",
        "  iqr=1.5*(np.percentile(df[colName],75) - np.percentile(df[colName],25))\n",
        "  df.drop(df[df[colName] > (iqr+np.percentile(df[colName],75))].index, inplace=True)\n",
        "  df.drop(df[df[colName] < (np.percentile(df[colName],25)-iqr)].index, inplace=True)\n",
        "\n",
        "outlierPlot(df_normalized,'W')\n",
        "print(\"No. of rows Before\", df_normalized.shape[0])\n",
        "drop_outliers(df_normalized,'H')\n",
        "drop_outliers(df_normalized,'W')\n",
        "\n",
        "outlierPlot(df_normalized,'W')\n",
        "outlierPlot(df_normalized,'L')\n",
        "outlierPlot(df_normalized,'H')\n",
        "outlierPlot(df_normalized,'P')\n",
        "outlierPlot(df_normalized,'S')\n",
        "print(\"No. of rows After\", df_normalized.shape[0])"
      ],
      "metadata": {
        "colab": {
          "base_uri": "https://localhost:8080/",
          "height": 1000
        },
        "id": "EDMnLX6AL53Z",
        "outputId": "09486f0e-a0d8-46bf-92b2-18f3ec4276c0"
      },
      "execution_count": 1272,
      "outputs": [
        {
          "output_type": "stream",
          "name": "stderr",
          "text": [
            "/usr/local/lib/python3.8/dist-packages/seaborn/_decorators.py:36: FutureWarning: Pass the following variable as a keyword arg: x. From version 0.12, the only valid positional argument will be `data`, and passing other arguments without an explicit keyword will result in an error or misinterpretation.\n",
            "  warnings.warn(\n"
          ]
        },
        {
          "output_type": "display_data",
          "data": {
            "text/plain": [
              "<Figure size 432x288 with 1 Axes>"
            ],
            "image/png": "[encoded data removed]"
          },
          "metadata": {
            "needs_background": "light"
          }
        },
        {
          "output_type": "stream",
          "name": "stdout",
          "text": [
            "No. of rows Before 122\n"
          ]
        },
        {
          "output_type": "stream",
          "name": "stderr",
          "text": [
            "/usr/local/lib/python3.8/dist-packages/seaborn/_decorators.py:36: FutureWarning: Pass the following variable as a keyword arg: x. From version 0.12, the only valid positional argument will be `data`, and passing other arguments without an explicit keyword will result in an error or misinterpretation.\n",
            "  warnings.warn(\n"
          ]
        },
        {
          "output_type": "display_data",
          "data": {
            "text/plain": [
              "<Figure size 432x288 with 1 Axes>"
            ],
            "image/png": "[encoded data removed]"
          },
          "metadata": {
            "needs_background": "light"
          }
        },
        {
          "output_type": "stream",
          "name": "stderr",
          "text": [
            "/usr/local/lib/python3.8/dist-packages/seaborn/_decorators.py:36: FutureWarning: Pass the following variable as a keyword arg: x. From version 0.12, the only valid positional argument will be `data`, and passing other arguments without an explicit keyword will result in an error or misinterpretation.\n",
            "  warnings.warn(\n"
          ]
        },
        {
          "output_type": "display_data",
          "data": {
            "text/plain": [
              "<Figure size 432x288 with 1 Axes>"
            ],
            "image/png": "[encoded data removed]"
          },
          "metadata": {
            "needs_background": "light"
          }
        },
        {
          "output_type": "stream",
          "name": "stderr",
          "text": [
            "/usr/local/lib/python3.8/dist-packages/seaborn/_decorators.py:36: FutureWarning: Pass the following variable as a keyword arg: x. From version 0.12, the only valid positional argument will be `data`, and passing other arguments without an explicit keyword will result in an error or misinterpretation.\n",
            "  warnings.warn(\n"
          ]
        },
        {
          "output_type": "display_data",
          "data": {
            "text/plain": [
              "<Figure size 432x288 with 1 Axes>"
            ],
            "image/png": "[encoded data removed]"
          },
          "metadata": {
            "needs_background": "light"
          }
        },
        {
          "output_type": "stream",
          "name": "stderr",
          "text": [
            "/usr/local/lib/python3.8/dist-packages/seaborn/_decorators.py:36: FutureWarning: Pass the following variable as a keyword arg: x. From version 0.12, the only valid positional argument will be `data`, and passing other arguments without an explicit keyword will result in an error or misinterpretation.\n",
            "  warnings.warn(\n"
          ]
        },
        {
          "output_type": "display_data",
          "data": {
            "text/plain": [
              "<Figure size 432x288 with 1 Axes>"
            ],
            "image/png": "[encoded data removed]"
          },
          "metadata": {
            "needs_background": "light"
          }
        },
        {
          "output_type": "stream",
          "name": "stderr",
          "text": [
            "/usr/local/lib/python3.8/dist-packages/seaborn/_decorators.py:36: FutureWarning: Pass the following variable as a keyword arg: x. From version 0.12, the only valid positional argument will be `data`, and passing other arguments without an explicit keyword will result in an error or misinterpretation.\n",
            "  warnings.warn(\n"
          ]
        },
        {
          "output_type": "display_data",
          "data": {
            "text/plain": [
              "<Figure size 432x288 with 1 Axes>"
            ],
            "image/png": "[encoded data removed]"
          },
          "metadata": {
            "needs_background": "light"
          }
        },
        {
          "output_type": "stream",
          "name": "stdout",
          "text": [
            "No. of rows After 113\n"
          ]
        }
      ]
    },
    {
      "cell_type": "code",
      "source": [
        "#Multiple linear Regressor\n",
        "#https://www.analyticsvidhya.com/blog/2021/05/multiple-linear-regression-using-python-and-scikit-learn/\n",
        "\n",
        "\n",
        "#df_normalized.hist(bins=50, figsize=(20,15))\n",
        "#save_fig('histograms')\n",
        "'''\n",
        "plt.figure()\n",
        "plt.plot(df_normalized['L'],'.', label='L')\n",
        "plt.plot(df_normalized['W'],'.', label='W')\n",
        "plt.plot(df_normalized['H'],'.', label='H')\n",
        "plt.plot(df_normalized['H'],'.', label='S')\n",
        "plt.legend()\n",
        "plt.show()\n",
        "'''"
      ],
      "metadata": {
        "id": "-NflgJ2WK0wR",
        "colab": {
          "base_uri": "https://localhost:8080/",
          "height": 70
        },
        "outputId": "8b8db46c-3f69-470b-e982-2e6a658df62a"
      },
      "execution_count": 1273,
      "outputs": [
        {
          "output_type": "execute_result",
          "data": {
            "text/plain": [
              "\"\\nplt.figure()\\nplt.plot(df_normalized['L'],'.', label='L')\\nplt.plot(df_normalized['W'],'.', label='W')\\nplt.plot(df_normalized['H'],'.', label='H')\\nplt.plot(df_normalized['H'],'.', label='S')\\nplt.legend()\\nplt.show()\\n\""
            ],
            "application/vnd.google.colaboratory.intrinsic+json": {
              "type": "string"
            }
          },
          "metadata": {},
          "execution_count": 1273
        }
      ]
    },
    {
      "cell_type": "code",
      "source": [
        "np.random.seed(42)\n",
        "from sklearn.model_selection import train_test_split\n",
        "'''\n",
        "d= df_normalized.drop(columns = 'H')\n",
        "d=preprocessing.normalize(d)\n",
        "X=pd.DataFrame(d, columns=[\"L\", \"W\"])\n",
        "'''\n",
        "X= df_normalized.drop(columns = ['L','P','S'])\n",
        "y=df_normalized['S']\n",
        "X_train, X_test,y_train,y_test = train_test_split(X,y, test_size=0.2, random_state=42)\n",
        "#test_set.head()"
      ],
      "metadata": {
        "id": "dZqeyZjtMg7a"
      },
      "execution_count": 1274,
      "outputs": []
    },
    {
      "cell_type": "code",
      "source": [
        "y.head(11)"
      ],
      "metadata": {
        "colab": {
          "base_uri": "https://localhost:8080/"
        },
        "id": "cb_nkhdS9le0",
        "outputId": "c78b6c98-c2bf-42c0-cc4d-5402b0ccad48"
      },
      "execution_count": 1275,
      "outputs": [
        {
          "output_type": "execute_result",
          "data": {
            "text/plain": [
              "89     2.813611\n",
              "124    2.893700\n",
              "26     3.036394\n",
              "34     3.100993\n",
              "79     3.100993\n",
              "55     3.161670\n",
              "126    3.161670\n",
              "132    3.218876\n",
              "117    3.218876\n",
              "67     3.218876\n",
              "78     3.241029\n",
              "Name: S, dtype: float64"
            ]
          },
          "metadata": {},
          "execution_count": 1275
        }
      ]
    },
    {
      "cell_type": "code",
      "source": [
        "\n",
        "d_names = (X_train, y_test)\n",
        "y_pos = range(len(d_names))\n",
        "plt.bar(\n",
        "    y_pos, \n",
        "    (X_train.shape[0], y_test.shape[0]), \n",
        "    align='center', \n",
        "    alpha=0.8\n",
        ")\n",
        "\n",
        "plt.ylabel('Number of rows') \n",
        "plt.title('😱 Train Vs Test Samples!')\n",
        "plt.show()\n"
      ],
      "metadata": {
        "colab": {
          "base_uri": "https://localhost:8080/",
          "height": 281
        },
        "id": "prCy342b8vnX",
        "outputId": "84866919-7d8f-4ad3-bf47-03763b1207d3"
      },
      "execution_count": 1276,
      "outputs": [
        {
          "output_type": "display_data",
          "data": {
            "text/plain": [
              "<Figure size 432x288 with 1 Axes>"
            ],
            "image/png": "[encoded data removed]"
          },
          "metadata": {
            "needs_background": "light"
          }
        }
      ]
    },
    {
      "cell_type": "code",
      "source": [
        "from sklearn.preprocessing import StandardScaler\n",
        "scaler = StandardScaler()\n",
        "X_train_scaled = scaler.fit_transform(X_train)\n",
        "X_test_scaled = scaler.transform(X_test)\n",
        "#X_train_scaled = X_train\n",
        "#X_test_scaled = X_test\n",
        "#df_prepared = full_pipeline.fit_transform(df_lw)\n",
        "#label_prepared = full_pipeline.transform(df_h_label) \n",
        "#df_prepared\n",
        "X_test_scaled"
      ],
      "metadata": {
        "colab": {
          "base_uri": "https://localhost:8080/"
        },
        "id": "ZSla9FLInQti",
        "outputId": "6f262b1a-7acb-476f-bf2e-d39e9c66fada"
      },
      "execution_count": 1277,
      "outputs": [
        {
          "output_type": "execute_result",
          "data": {
            "text/plain": [
              "array([[-0.18110206,  0.14305508],\n",
              "       [-0.50121264, -1.08251633],\n",
              "       [ 1.02237356,  1.54702519],\n",
              "       [-0.08517307, -0.82728382],\n",
              "       [-1.89980895, -1.55354486],\n",
              "       [ 0.67895921,  0.64236544],\n",
              "       [ 1.25014507,  1.20997731],\n",
              "       [-0.44134742, -0.89558532],\n",
              "       [ 0.15122397,  0.64236544],\n",
              "       [-0.19769317, -0.7621603 ],\n",
              "       [-0.40270315,  0.23963841],\n",
              "       [ 0.37891121,  0.15962217],\n",
              "       [ 0.49447526,  0.84812627],\n",
              "       [ 1.33649221,  1.20997731],\n",
              "       [-0.44624748, -0.89558532],\n",
              "       [-1.13544187, -1.86592421],\n",
              "       [-0.9677007 , -0.7943434 ],\n",
              "       [-0.60652111, -0.11217744],\n",
              "       [ 2.10085929,  0.95474479],\n",
              "       [-0.35573429, -0.52830077],\n",
              "       [ 1.61478189,  0.95474479],\n",
              "       [-1.04562965, -0.11217744],\n",
              "       [-1.46070041, -1.29831235]])"
            ]
          },
          "metadata": {},
          "execution_count": 1277
        }
      ]
    },
    {
      "cell_type": "code",
      "source": [
        "\n",
        "from sklearn.ensemble import RandomForestRegressor\n",
        "from sklearn.linear_model import LogisticRegression\n",
        "from sklearn.linear_model import LinearRegression\n",
        "#reg = LogisticRegression(random_state=42)\n",
        "#reg = RandomForestRegressor(n_estimators=7, random_state=42)\n",
        "#reg = SVR(kernel=\"linear\")\n",
        "reg = LinearRegression()\n",
        "reg.fit(X_train_scaled,y_train)\n"
      ],
      "metadata": {
        "colab": {
          "base_uri": "https://localhost:8080/"
        },
        "id": "J2fvtAD-N5hs",
        "outputId": "fb9b5f5b-438b-4ecc-c5b5-8d24d2acca12"
      },
      "execution_count": 1278,
      "outputs": [
        {
          "output_type": "execute_result",
          "data": {
            "text/plain": [
              "LinearRegression()"
            ]
          },
          "metadata": {},
          "execution_count": 1278
        }
      ]
    },
    {
      "cell_type": "code",
      "source": [
        "reg.predict(X_train_scaled)\n"
      ],
      "metadata": {
        "colab": {
          "base_uri": "https://localhost:8080/"
        },
        "id": "DJzZUN5kf38y",
        "outputId": "296d5c73-bcda-434f-8dfa-982a6db2b18a"
      },
      "execution_count": 1279,
      "outputs": [
        {
          "output_type": "execute_result",
          "data": {
            "text/plain": [
              "array([3.88349466, 3.80442944, 4.3125431 , 4.20876738, 3.68788622,\n",
              "       3.92683852, 3.88725468, 4.10870632, 3.32674483, 3.89334017,\n",
              "       4.28082889, 3.46910221, 3.73282618, 3.93206934, 3.6199344 ,\n",
              "       3.75657842, 3.65936811, 3.46910221, 3.72730455, 3.85252276,\n",
              "       3.65153083, 3.6313371 , 3.60186997, 4.03515766, 3.33739414,\n",
              "       3.82010154, 3.64354273, 3.62298321, 3.79092349, 3.66697128,\n",
              "       3.65124708, 3.64948385, 3.87518062, 3.84158069, 3.59920876,\n",
              "       3.360052  , 3.83516618, 3.79345936, 3.58270448, 3.77578946,\n",
              "       3.33473293, 3.55171024, 3.53364432, 3.91640451, 4.05301907,\n",
              "       3.63982603, 3.75726129, 3.93923786, 3.73870728, 4.17766844,\n",
              "       3.87128765, 4.17134672, 3.58989786, 3.71129419, 3.58987859,\n",
              "       3.89063719, 4.03869658, 3.64354273, 3.72356503, 3.81348942,\n",
              "       3.75663122, 3.50583051, 3.29058175, 3.87514855, 4.0762521 ,\n",
              "       3.88059211, 3.49091335, 3.96041882, 3.78428996, 3.62755383,\n",
              "       3.63059641, 3.18032475, 3.6346128 , 3.67260723, 3.39283317,\n",
              "       3.325144  , 3.94448022, 4.05863672, 3.81711941, 4.2900204 ,\n",
              "       3.68358627, 4.17702946, 3.61488072, 3.54914959, 4.22545423,\n",
              "       4.31180621, 3.71463039, 3.89997869, 3.69157707, 3.68638806])"
            ]
          },
          "metadata": {},
          "execution_count": 1279
        }
      ]
    },
    {
      "cell_type": "code",
      "source": [
        "reg.score(X_train_scaled,y_train)"
      ],
      "metadata": {
        "colab": {
          "base_uri": "https://localhost:8080/"
        },
        "id": "tt1zfsmNf7Ox",
        "outputId": "93b1242e-05ca-4d51-c163-b64c965b6694"
      },
      "execution_count": 1280,
      "outputs": [
        {
          "output_type": "execute_result",
          "data": {
            "text/plain": [
              "0.4580661196100221"
            ]
          },
          "metadata": {},
          "execution_count": 1280
        }
      ]
    },
    {
      "cell_type": "code",
      "source": [
        "reg.score(X_test_scaled,y_test)"
      ],
      "metadata": {
        "colab": {
          "base_uri": "https://localhost:8080/"
        },
        "id": "uE9AAdYEgLeh",
        "outputId": "cdb8e6a4-37bb-40ff-bdd5-3e8b0cc982af"
      },
      "execution_count": 1281,
      "outputs": [
        {
          "output_type": "execute_result",
          "data": {
            "text/plain": [
              "0.35000026164891396"
            ]
          },
          "metadata": {},
          "execution_count": 1281
        }
      ]
    },
    {
      "cell_type": "code",
      "source": [
        "#value wise prediction\n",
        "some_data = X_train.iloc[:5]\n",
        "some_labels = y_train.iloc[:5]\n",
        "# Part of the dataset (not used for training) is used to build for the prediction\n",
        "some_data_prepared = scaler.transform(some_data)\n",
        "\n",
        "print(\"Predictions:\", reg.predict(some_data_prepared))\n",
        "print(\"Labels:\", list(some_labels))"
      ],
      "metadata": {
        "colab": {
          "base_uri": "https://localhost:8080/"
        },
        "id": "vsnCxF6FoWPS",
        "outputId": "800da7c4-2c16-4588-b932-1e6403d6675c"
      },
      "execution_count": 1282,
      "outputs": [
        {
          "output_type": "stream",
          "name": "stdout",
          "text": [
            "Predictions: [3.88349466 3.80442944 4.3125431  4.20876738 3.68788622]\n",
            "Labels: [3.506457892319648, 3.8548175316573667, 4.422808628394115, 4.378520495344594, 3.4196919642983197]\n"
          ]
        }
      ]
    },
    {
      "cell_type": "code",
      "source": [
        "test_data = X_test\n",
        "test_labels = y_test\n",
        "test_data_prepared = scaler.transform(test_data)\n",
        "test_data_predictions=reg.predict(test_data_prepared)\n",
        "print(\"Predictions:\", test_data_predictions)\n",
        "print(\"Labels:\", list(test_labels))\n",
        "#reg.score(test_data_prepared,test_labels)"
      ],
      "metadata": {
        "colab": {
          "base_uri": "https://localhost:8080/"
        },
        "id": "x9PsMSmN0Bqs",
        "outputId": "d97f8033-85b5-4950-84f2-9e6f5a9e96c8"
      },
      "execution_count": 1283,
      "outputs": [
        {
          "output_type": "stream",
          "name": "stdout",
          "text": [
            "Predictions: [3.73525224 3.60475679 4.05235318 3.70191522 3.29909875 3.93456997\n",
            " 4.07972322 3.6268721  3.82886123 3.68290372 3.69609494 3.84832373\n",
            " 3.90876038 4.09701911 3.62589059 3.43528833 3.5269233  3.63621504\n",
            " 4.23630368 3.66391258 4.13893927 3.54825879 3.40087804]\n",
            "Labels: [3.9394436010041383, 3.100992784211484, 3.660737148167656, 3.883829271057364, 3.241028629509334, 3.7297814454343623, 3.912023005428146, 3.8548175316573667, 3.7297814454343623, 3.3243163373261977, 4.199755076629969, 3.5473158897921495, 3.966132331075178, 4.422808628394115, 3.3243163373261977, 2.813610696762703, 3.912023005428146, 3.506457892319648, 3.9394436010041383, 3.7297814454343623, 4.240463070352095, 4.017463517886143, 3.3243163373261977]\n"
          ]
        }
      ]
    },
    {
      "cell_type": "code",
      "source": [
        "from sklearn.metrics import mean_squared_error\n",
        "from sklearn.metrics import mean_absolute_error\n",
        "from sklearn.metrics import mean_absolute_percentage_error\n",
        "\n",
        "print ('==================TEST-Start=====================================') \n",
        "print(\"Count of Values equals in Prediction Column=\",(test_data_predictions == 0).sum())\n",
        "mse = mean_squared_error(test_labels, test_data_predictions)\n",
        "rmse = np.sqrt(mse)\n",
        "mae = mean_absolute_error(test_labels, test_data_predictions)\n",
        "mape = mean_absolute_percentage_error(test_labels, test_data_predictions)\n",
        "\n",
        "print ('MSE:',mse ,'RMSE:', rmse, 'and MAE:', mae, 'and MAPE:', mae) \n",
        "print ('==================TEST-End=====================================') "
      ],
      "metadata": {
        "colab": {
          "base_uri": "https://localhost:8080/"
        },
        "id": "yH5rftal0y3H",
        "outputId": "9fc3d141-52b7-42a5-a679-37a10b4ec0cf"
      },
      "execution_count": 1284,
      "outputs": [
        {
          "output_type": "stream",
          "name": "stdout",
          "text": [
            "==================TEST-Start=====================================\n",
            "Count of Values equals in Prediction Column= 0\n",
            "MSE: 0.09438207340582554 RMSE: 0.30721665548245514 and MAE: 0.2623310556170373 and MAPE: 0.2623310556170373\n",
            "==================TEST-End=====================================\n"
          ]
        }
      ]
    },
    {
      "cell_type": "markdown",
      "source": [],
      "metadata": {
        "id": "Dm1VgbfSetIO"
      }
    },
    {
      "cell_type": "code",
      "source": [
        "y_train"
      ],
      "metadata": {
        "colab": {
          "base_uri": "https://localhost:8080/"
        },
        "id": "vIvL3CiQzK2S",
        "outputId": "e98728f8-acb4-408a-fe7c-467b66bd4851"
      },
      "execution_count": 1285,
      "outputs": [
        {
          "output_type": "execute_result",
          "data": {
            "text/plain": [
              "109    3.506458\n",
              "45     3.854818\n",
              "74     4.422809\n",
              "70     4.378520\n",
              "110    3.419692\n",
              "         ...   \n",
              "114    4.343026\n",
              "66     3.324316\n",
              "68     4.066117\n",
              "42     3.729781\n",
              "59     4.240463\n",
              "Name: S, Length: 90, dtype: float64"
            ]
          },
          "metadata": {},
          "execution_count": 1285
        }
      ]
    },
    {
      "cell_type": "code",
      "source": [
        "from sklearn.metrics import mean_squared_error\n",
        "from sklearn.metrics import mean_absolute_error\n",
        "from sklearn.metrics import mean_absolute_percentage_error\n",
        "df_predictions = reg.predict(X_train_scaled)\n",
        "print(\"Count of Values equals in Prediction Column=\",(df_predictions == 0).sum())\n",
        "mse = mean_squared_error(y_train, df_predictions)\n",
        "rmse = np.sqrt(mse)\n",
        "mae = mean_absolute_error(y_train, df_predictions)\n",
        "mape = mean_absolute_percentage_error(y_train, df_predictions)\n",
        "#print('My name is', os.getlogin(), 'and I am', 42)\n",
        "print ('MSE:',mse ,'RMSE:', rmse, 'and MAE:', mae, 'and MAPE:', mae) "
      ],
      "metadata": {
        "id": "zoGGKOUWOh9n",
        "colab": {
          "base_uri": "https://localhost:8080/"
        },
        "outputId": "57acb64f-ff9a-47d8-b97c-a4ced4d41a53"
      },
      "execution_count": 1286,
      "outputs": [
        {
          "output_type": "stream",
          "name": "stdout",
          "text": [
            "Count of Values equals in Prediction Column= 0\n",
            "MSE: 0.07152835456007792 RMSE: 0.2674478539081552 and MAE: 0.2195669901763442 and MAPE: 0.2195669901763442\n"
          ]
        }
      ]
    },
    {
      "cell_type": "code",
      "source": [
        "def display_scores(scores):\n",
        "    print(\"Scores:\", scores)\n",
        "    print(\"Mean:\", scores.mean())\n",
        "    print(\"Standard deviation:\", scores.std())\n",
        "    \n",
        "from sklearn.model_selection import cross_val_score\n",
        "# cross_val_score is a way to use the cross-validation in sklearn.\n",
        "# cross validation https://scikit-learn.org/stable/modules/cross_validation.html\n",
        "cross_validation_scores = cross_val_score(reg, X_train_scaled, y_train,\n",
        "                                          scoring=\"neg_mean_squared_error\", cv=10)\n",
        "rmse_scores = np.sqrt(-cross_validation_scores)\n",
        "display_scores(rmse_scores)"
      ],
      "metadata": {
        "colab": {
          "base_uri": "https://localhost:8080/"
        },
        "id": "s0eZ4kOgxitz",
        "outputId": "66277dfa-0a3a-4c09-9a13-582152bded41"
      },
      "execution_count": 1287,
      "outputs": [
        {
          "output_type": "stream",
          "name": "stdout",
          "text": [
            "Scores: [0.27014778 0.24475755 0.20483959 0.20774254 0.23355304 0.29063501\n",
            " 0.34757865 0.30404746 0.23789547 0.40087482]\n",
            "Mean: 0.2742071912957824\n",
            "Standard deviation: 0.05972675361134117\n"
          ]
        }
      ]
    }
  ]
}