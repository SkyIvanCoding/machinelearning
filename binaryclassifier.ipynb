{
  "cells": [
    {
      "cell_type": "markdown",
      "metadata": {
        "id": "view-in-github",
        "colab_type": "text"
      },
      "source": [
        "<a href=\"https://colab.research.google.com/github/parwinderau/machinelearning/blob/main/binaryclassifier.ipynb\" target=\"_parent\"><img src=\"https://colab.research.google.com/assets/colab-badge.svg\" alt=\"Open In Colab\"/></a>"
      ]
    },
    {
      "cell_type": "markdown",
      "metadata": {
        "id": "Xty_zgqCLs5d"
      },
      "source": [
        "# Predicting the number of distressed O-rings for space shuttles\n",
        "\n",
        "Please keep in mind that the number of data samples is very low for this example."
      ]
    },
    {
      "cell_type": "code",
      "execution_count": 110,
      "metadata": {
        "id": "YLac_-XdLs5f"
      },
      "outputs": [],
      "source": [
        "# Case scenario:\n",
        "# On January 28, 1986, a routine launch was anticipated for the Challenger space shuttle. \n",
        "# Seventy-three seconds into the flight, disaster happened: the shuttle broke apart, killing all \n",
        "# seven crew members on board. An investigation into the cause of the disaster focused on a critical # seal called an O-ring, and it is believed that damage to these O-rings during a shuttle launch may # be related to the ambient temperature during the launch. The table below summarizes observational # data on O-rings for 23 shuttle missions, where the mission order is based on the temperature at\n",
        "# the time of the launch.\n",
        "#\n",
        "# The goal is to predict the number of O-rings that will experience thermal distress for a given \n",
        "# flight when the launch temperature is below freezing.\n",
        "\n",
        "# To support both python 2 and python 3\n",
        "from __future__ import division, print_function, unicode_literals\n",
        "\n",
        "# Common imports\n",
        "import numpy as np\n",
        "import os\n",
        "\n",
        "# to make this notebook's output stable across runs\n",
        "np.random.seed(42)\n",
        "\n",
        "# To plot pretty figures\n",
        "%matplotlib inline\n",
        "import matplotlib as mpl\n",
        "import matplotlib.pyplot as plt\n",
        "mpl.rc('axes', labelsize=14)\n",
        "mpl.rc('xtick', labelsize=12)\n",
        "mpl.rc('ytick', labelsize=12)\n",
        "\n",
        "# function definition to save the figure\n",
        "def save_fig(fig_id, tight_layout=True, fig_extension=\"png\", resolution=300):\n",
        "    file = fig_id + \".\" + fig_extension\n",
        "    print(\"Saving figure\", fig_id)\n",
        "    if tight_layout:\n",
        "        plt.tight_layout()\n",
        "    plt.savefig(file, format=fig_extension, dpi=resolution)\n",
        "\n",
        "# Ignore useless warnings (see SciPy issue #5998)\n",
        "import warnings\n",
        "warnings.filterwarnings(action=\"ignore\", message=\"^internal gelsd\")"
      ]
    },
    {
      "cell_type": "code",
      "execution_count": 111,
      "metadata": {
        "id": "jDdCBIa7Ls5o"
      },
      "outputs": [],
      "source": [
        "# import pandas to import the dataset\n",
        "import pandas as pd\n",
        "# import the dataset\n",
        "\n",
        "def load_o_ring_data():\n",
        "    # a way to save the name of the file as a string\n",
        "    csv_file =  'iris.data'\n",
        "    # The separator in this dataset is given by a space instad of ','\n",
        "    data = pd.read_csv(\n",
        "                        csv_file, sep = ','\n",
        "                        #header=none\n",
        "                       ); \n",
        "    df = pd.DataFrame(data)\n",
        "    return df"
      ]
    },
    {
      "cell_type": "code",
      "execution_count": 112,
      "metadata": {
        "colab": {
          "base_uri": "https://localhost:8080/",
          "height": 206
        },
        "id": "UJv4l3XNLs5u",
        "outputId": "794c6d10-0092-4aa2-f508-ae817613855a"
      },
      "outputs": [
        {
          "output_type": "execute_result",
          "data": {
            "text/plain": [
              "   sepal-length  sepal-width  petal-length  petal-width        class\n",
              "0           5.1          3.5           1.4          0.2  Iris-setosa\n",
              "1           4.9          3.0           1.4          0.2  Iris-setosa\n",
              "2           4.7          3.2           1.3          0.2  Iris-setosa\n",
              "3           4.6          3.1           1.5          0.2  Iris-setosa\n",
              "4           5.0          3.6           1.4          0.2  Iris-setosa"
            ],
            "text/html": [
              "\n",
              "  <div id=\"df-2cbd5d12-cc13-40af-ac8f-02a950708998\">\n",
              "    <div class=\"colab-df-container\">\n",
              "      <div>\n",
              "<style scoped>\n",
              "    .dataframe tbody tr th:only-of-type {\n",
              "        vertical-align: middle;\n",
              "    }\n",
              "\n",
              "    .dataframe tbody tr th {\n",
              "        vertical-align: top;\n",
              "    }\n",
              "\n",
              "    .dataframe thead th {\n",
              "        text-align: right;\n",
              "    }\n",
              "</style>\n",
              "<table border=\"1\" class=\"dataframe\">\n",
              "  <thead>\n",
              "    <tr style=\"text-align: right;\">\n",
              "      <th></th>\n",
              "      <th>sepal-length</th>\n",
              "      <th>sepal-width</th>\n",
              "      <th>petal-length</th>\n",
              "      <th>petal-width</th>\n",
              "      <th>class</th>\n",
              "    </tr>\n",
              "  </thead>\n",
              "  <tbody>\n",
              "    <tr>\n",
              "      <th>0</th>\n",
              "      <td>5.1</td>\n",
              "      <td>3.5</td>\n",
              "      <td>1.4</td>\n",
              "      <td>0.2</td>\n",
              "      <td>Iris-setosa</td>\n",
              "    </tr>\n",
              "    <tr>\n",
              "      <th>1</th>\n",
              "      <td>4.9</td>\n",
              "      <td>3.0</td>\n",
              "      <td>1.4</td>\n",
              "      <td>0.2</td>\n",
              "      <td>Iris-setosa</td>\n",
              "    </tr>\n",
              "    <tr>\n",
              "      <th>2</th>\n",
              "      <td>4.7</td>\n",
              "      <td>3.2</td>\n",
              "      <td>1.3</td>\n",
              "      <td>0.2</td>\n",
              "      <td>Iris-setosa</td>\n",
              "    </tr>\n",
              "    <tr>\n",
              "      <th>3</th>\n",
              "      <td>4.6</td>\n",
              "      <td>3.1</td>\n",
              "      <td>1.5</td>\n",
              "      <td>0.2</td>\n",
              "      <td>Iris-setosa</td>\n",
              "    </tr>\n",
              "    <tr>\n",
              "      <th>4</th>\n",
              "      <td>5.0</td>\n",
              "      <td>3.6</td>\n",
              "      <td>1.4</td>\n",
              "      <td>0.2</td>\n",
              "      <td>Iris-setosa</td>\n",
              "    </tr>\n",
              "  </tbody>\n",
              "</table>\n",
              "</div>\n",
              "      <button class=\"colab-df-convert\" onclick=\"convertToInteractive('df-2cbd5d12-cc13-40af-ac8f-02a950708998')\"\n",
              "              title=\"Convert this dataframe to an interactive table.\"\n",
              "              style=\"display:none;\">\n",
              "        \n",
              "  <svg xmlns=\"http://www.w3.org/2000/svg\" height=\"24px\"viewBox=\"0 0 24 24\"\n",
              "       width=\"24px\">\n",
              "    <path d=\"M0 0h24v24H0V0z\" fill=\"none\"/>\n",
              "    <path d=\"M18.56 5.44l.94 2.06.94-2.06 2.06-.94-2.06-.94-.94-2.06-.94 2.06-2.06.94zm-11 1L8.5 8.5l.94-2.06 2.06-.94-2.06-.94L8.5 2.5l-.94 2.06-2.06.94zm10 10l.94 2.06.94-2.06 2.06-.94-2.06-.94-.94-2.06-.94 2.06-2.06.94z\"/><path d=\"M17.41 7.96l-1.37-1.37c-.4-.4-.92-.59-1.43-.59-.52 0-1.04.2-1.43.59L10.3 9.45l-7.72 7.72c-.78.78-.78 2.05 0 2.83L4 21.41c.39.39.9.59 1.41.59.51 0 1.02-.2 1.41-.59l7.78-7.78 2.81-2.81c.8-.78.8-2.07 0-2.86zM5.41 20L4 18.59l7.72-7.72 1.47 1.35L5.41 20z\"/>\n",
              "  </svg>\n",
              "      </button>\n",
              "      \n",
              "  <style>\n",
              "    .colab-df-container {\n",
              "      display:flex;\n",
              "      flex-wrap:wrap;\n",
              "      gap: 12px;\n",
              "    }\n",
              "\n",
              "    .colab-df-convert {\n",
              "      background-color: #E8F0FE;\n",
              "      border: none;\n",
              "      border-radius: 50%;\n",
              "      cursor: pointer;\n",
              "      display: none;\n",
              "      fill: #1967D2;\n",
              "      height: 32px;\n",
              "      padding: 0 0 0 0;\n",
              "      width: 32px;\n",
              "    }\n",
              "\n",
              "    .colab-df-convert:hover {\n",
              "      background-color: #E2EBFA;\n",
              "      box-shadow: 0px 1px 2px rgba(60, 64, 67, 0.3), 0px 1px 3px 1px rgba(60, 64, 67, 0.15);\n",
              "      fill: #174EA6;\n",
              "    }\n",
              "\n",
              "    [theme=dark] .colab-df-convert {\n",
              "      background-color: #3B4455;\n",
              "      fill: #D2E3FC;\n",
              "    }\n",
              "\n",
              "    [theme=dark] .colab-df-convert:hover {\n",
              "      background-color: #434B5C;\n",
              "      box-shadow: 0px 1px 3px 1px rgba(0, 0, 0, 0.15);\n",
              "      filter: drop-shadow(0px 1px 2px rgba(0, 0, 0, 0.3));\n",
              "      fill: #FFFFFF;\n",
              "    }\n",
              "  </style>\n",
              "\n",
              "      <script>\n",
              "        const buttonEl =\n",
              "          document.querySelector('#df-2cbd5d12-cc13-40af-ac8f-02a950708998 button.colab-df-convert');\n",
              "        buttonEl.style.display =\n",
              "          google.colab.kernel.accessAllowed ? 'block' : 'none';\n",
              "\n",
              "        async function convertToInteractive(key) {\n",
              "          const element = document.querySelector('#df-2cbd5d12-cc13-40af-ac8f-02a950708998');\n",
              "          const dataTable =\n",
              "            await google.colab.kernel.invokeFunction('convertToInteractive',\n",
              "                                                     [key], {});\n",
              "          if (!dataTable) return;\n",
              "\n",
              "          const docLinkHtml = 'Like what you see? Visit the ' +\n",
              "            '<a target=\"_blank\" href=https://colab.research.google.com/notebooks/data_table.ipynb>data table notebook</a>'\n",
              "            + ' to learn more about interactive tables.';\n",
              "          element.innerHTML = '';\n",
              "          dataTable['output_type'] = 'display_data';\n",
              "          await google.colab.output.renderOutput(dataTable, element);\n",
              "          const docLink = document.createElement('div');\n",
              "          docLink.innerHTML = docLinkHtml;\n",
              "          element.appendChild(docLink);\n",
              "        }\n",
              "      </script>\n",
              "    </div>\n",
              "  </div>\n",
              "  "
            ]
          },
          "metadata": {},
          "execution_count": 112
        }
      ],
      "source": [
        "# call of function to load the dataset and display it\n",
        "o_ring = load_o_ring_data(); o_ring.head()"
      ]
    },
    {
      "cell_type": "code",
      "execution_count": 113,
      "metadata": {
        "colab": {
          "base_uri": "https://localhost:8080/"
        },
        "id": "GCLZEtXmLs50",
        "outputId": "5baef3ab-7932-42d6-cc0e-9518bb66cf12"
      },
      "outputs": [
        {
          "output_type": "stream",
          "name": "stdout",
          "text": [
            "<class 'pandas.core.frame.DataFrame'>\n",
            "RangeIndex: 150 entries, 0 to 149\n",
            "Data columns (total 5 columns):\n",
            " #   Column        Non-Null Count  Dtype  \n",
            "---  ------        --------------  -----  \n",
            " 0   sepal-length  150 non-null    float64\n",
            " 1   sepal-width   150 non-null    float64\n",
            " 2   petal-length  150 non-null    float64\n",
            " 3   petal-width   150 non-null    float64\n",
            " 4   class         150 non-null    object \n",
            "dtypes: float64(4), object(1)\n",
            "memory usage: 6.0+ KB\n"
          ]
        }
      ],
      "source": [
        "# we can also observe some information about the data\n",
        "o_ring.info()"
      ]
    },
    {
      "cell_type": "code",
      "execution_count": 114,
      "metadata": {
        "colab": {
          "base_uri": "https://localhost:8080/"
        },
        "id": "YRhwxxqyLs55",
        "outputId": "c39145d5-f77c-4e5b-eca0-298f0a888f23"
      },
      "outputs": [
        {
          "output_type": "execute_result",
          "data": {
            "text/plain": [
              "Iris-setosa        50\n",
              "Iris-versicolor    50\n",
              "Iris-virginica     50\n",
              "Name: class, dtype: int64"
            ]
          },
          "metadata": {},
          "execution_count": 114
        }
      ],
      "source": [
        "# we count the number of time the values in O_rings_thermal_distress are repeated\n",
        "o_ring[\"class\"].value_counts()"
      ]
    },
    {
      "cell_type": "code",
      "execution_count": 115,
      "metadata": {
        "id": "BkMRKmWSLs5-"
      },
      "outputs": [],
      "source": [
        "# This is in case you want to show also some statistics of the data \n",
        "o_ring.describe()\n",
        "o_ring.replace({'Iris-setosa':0, 'Iris-virginica':0,'Iris-versicolor':1 }, inplace=True)"
      ]
    },
    {
      "cell_type": "code",
      "execution_count": 116,
      "metadata": {
        "colab": {
          "base_uri": "https://localhost:8080/",
          "height": 666
        },
        "id": "vmPxCMlULs6D",
        "outputId": "baaf326d-8e25-41c4-8ef0-67ca351d38ae"
      },
      "outputs": [
        {
          "output_type": "stream",
          "name": "stdout",
          "text": [
            "Saving figure histograms\n"
          ]
        },
        {
          "output_type": "display_data",
          "data": {
            "text/plain": [
              "<Figure size 1440x1080 with 6 Axes>"
            ],
            "image/png": "[encoded data removed]"
          },
          "metadata": {
            "needs_background": "light"
          }
        }
      ],
      "source": [
        "# We want to dsiplay the values of the dataset\n",
        "# Display the plots in line\n",
        "%matplotlib inline\n",
        "import matplotlib.pyplot as plt\n",
        "o_ring.hist(bins=10, figsize=(20,15))\n",
        "save_fig('histograms')\n",
        "plt.show()"
      ]
    },
    {
      "cell_type": "code",
      "execution_count": 117,
      "metadata": {
        "id": "B90GOs1KLs6J"
      },
      "outputs": [],
      "source": [
        "# to make this notebook's output identical at every run\n",
        "np.random.seed(42)"
      ]
    },
    {
      "cell_type": "code",
      "execution_count": 120,
      "metadata": {
        "id": "LTdziLLaLs6P"
      },
      "outputs": [],
      "source": [
        "from sklearn.model_selection import train_test_split\n",
        "# split the data into training and test set.\n",
        "#Put labelling\n",
        "\n",
        "\n",
        "train_set, test_set = train_test_split(o_ring, test_size=0.2, random_state=42)"
      ]
    },
    {
      "cell_type": "code",
      "execution_count": 121,
      "metadata": {
        "colab": {
          "base_uri": "https://localhost:8080/",
          "height": 206
        },
        "id": "rALXRzo8Ls6T",
        "outputId": "7f7be31d-91b9-42bc-c845-d62abb795331"
      },
      "outputs": [
        {
          "output_type": "execute_result",
          "data": {
            "text/plain": [
              "     sepal-length  sepal-width  petal-length  petal-width  class\n",
              "73            6.1          2.8           4.7          1.2      1\n",
              "18            5.7          3.8           1.7          0.3      0\n",
              "118           7.7          2.6           6.9          2.3      0\n",
              "78            6.0          2.9           4.5          1.5      1\n",
              "76            6.8          2.8           4.8          1.4      1"
            ],
            "text/html": [
              "\n",
              "  <div id=\"df-defa42cf-cac2-42a4-bd52-fa81bd27b272\">\n",
              "    <div class=\"colab-df-container\">\n",
              "      <div>\n",
              "<style scoped>\n",
              "    .dataframe tbody tr th:only-of-type {\n",
              "        vertical-align: middle;\n",
              "    }\n",
              "\n",
              "    .dataframe tbody tr th {\n",
              "        vertical-align: top;\n",
              "    }\n",
              "\n",
              "    .dataframe thead th {\n",
              "        text-align: right;\n",
              "    }\n",
              "</style>\n",
              "<table border=\"1\" class=\"dataframe\">\n",
              "  <thead>\n",
              "    <tr style=\"text-align: right;\">\n",
              "      <th></th>\n",
              "      <th>sepal-length</th>\n",
              "      <th>sepal-width</th>\n",
              "      <th>petal-length</th>\n",
              "      <th>petal-width</th>\n",
              "      <th>class</th>\n",
              "    </tr>\n",
              "  </thead>\n",
              "  <tbody>\n",
              "    <tr>\n",
              "      <th>73</th>\n",
              "      <td>6.1</td>\n",
              "      <td>2.8</td>\n",
              "      <td>4.7</td>\n",
              "      <td>1.2</td>\n",
              "      <td>1</td>\n",
              "    </tr>\n",
              "    <tr>\n",
              "      <th>18</th>\n",
              "      <td>5.7</td>\n",
              "      <td>3.8</td>\n",
              "      <td>1.7</td>\n",
              "      <td>0.3</td>\n",
              "      <td>0</td>\n",
              "    </tr>\n",
              "    <tr>\n",
              "      <th>118</th>\n",
              "      <td>7.7</td>\n",
              "      <td>2.6</td>\n",
              "      <td>6.9</td>\n",
              "      <td>2.3</td>\n",
              "      <td>0</td>\n",
              "    </tr>\n",
              "    <tr>\n",
              "      <th>78</th>\n",
              "      <td>6.0</td>\n",
              "      <td>2.9</td>\n",
              "      <td>4.5</td>\n",
              "      <td>1.5</td>\n",
              "      <td>1</td>\n",
              "    </tr>\n",
              "    <tr>\n",
              "      <th>76</th>\n",
              "      <td>6.8</td>\n",
              "      <td>2.8</td>\n",
              "      <td>4.8</td>\n",
              "      <td>1.4</td>\n",
              "      <td>1</td>\n",
              "    </tr>\n",
              "  </tbody>\n",
              "</table>\n",
              "</div>\n",
              "      <button class=\"colab-df-convert\" onclick=\"convertToInteractive('df-defa42cf-cac2-42a4-bd52-fa81bd27b272')\"\n",
              "              title=\"Convert this dataframe to an interactive table.\"\n",
              "              style=\"display:none;\">\n",
              "        \n",
              "  <svg xmlns=\"http://www.w3.org/2000/svg\" height=\"24px\"viewBox=\"0 0 24 24\"\n",
              "       width=\"24px\">\n",
              "    <path d=\"M0 0h24v24H0V0z\" fill=\"none\"/>\n",
              "    <path d=\"M18.56 5.44l.94 2.06.94-2.06 2.06-.94-2.06-.94-.94-2.06-.94 2.06-2.06.94zm-11 1L8.5 8.5l.94-2.06 2.06-.94-2.06-.94L8.5 2.5l-.94 2.06-2.06.94zm10 10l.94 2.06.94-2.06 2.06-.94-2.06-.94-.94-2.06-.94 2.06-2.06.94z\"/><path d=\"M17.41 7.96l-1.37-1.37c-.4-.4-.92-.59-1.43-.59-.52 0-1.04.2-1.43.59L10.3 9.45l-7.72 7.72c-.78.78-.78 2.05 0 2.83L4 21.41c.39.39.9.59 1.41.59.51 0 1.02-.2 1.41-.59l7.78-7.78 2.81-2.81c.8-.78.8-2.07 0-2.86zM5.41 20L4 18.59l7.72-7.72 1.47 1.35L5.41 20z\"/>\n",
              "  </svg>\n",
              "      </button>\n",
              "      \n",
              "  <style>\n",
              "    .colab-df-container {\n",
              "      display:flex;\n",
              "      flex-wrap:wrap;\n",
              "      gap: 12px;\n",
              "    }\n",
              "\n",
              "    .colab-df-convert {\n",
              "      background-color: #E8F0FE;\n",
              "      border: none;\n",
              "      border-radius: 50%;\n",
              "      cursor: pointer;\n",
              "      display: none;\n",
              "      fill: #1967D2;\n",
              "      height: 32px;\n",
              "      padding: 0 0 0 0;\n",
              "      width: 32px;\n",
              "    }\n",
              "\n",
              "    .colab-df-convert:hover {\n",
              "      background-color: #E2EBFA;\n",
              "      box-shadow: 0px 1px 2px rgba(60, 64, 67, 0.3), 0px 1px 3px 1px rgba(60, 64, 67, 0.15);\n",
              "      fill: #174EA6;\n",
              "    }\n",
              "\n",
              "    [theme=dark] .colab-df-convert {\n",
              "      background-color: #3B4455;\n",
              "      fill: #D2E3FC;\n",
              "    }\n",
              "\n",
              "    [theme=dark] .colab-df-convert:hover {\n",
              "      background-color: #434B5C;\n",
              "      box-shadow: 0px 1px 3px 1px rgba(0, 0, 0, 0.15);\n",
              "      filter: drop-shadow(0px 1px 2px rgba(0, 0, 0, 0.3));\n",
              "      fill: #FFFFFF;\n",
              "    }\n",
              "  </style>\n",
              "\n",
              "      <script>\n",
              "        const buttonEl =\n",
              "          document.querySelector('#df-defa42cf-cac2-42a4-bd52-fa81bd27b272 button.colab-df-convert');\n",
              "        buttonEl.style.display =\n",
              "          google.colab.kernel.accessAllowed ? 'block' : 'none';\n",
              "\n",
              "        async function convertToInteractive(key) {\n",
              "          const element = document.querySelector('#df-defa42cf-cac2-42a4-bd52-fa81bd27b272');\n",
              "          const dataTable =\n",
              "            await google.colab.kernel.invokeFunction('convertToInteractive',\n",
              "                                                     [key], {});\n",
              "          if (!dataTable) return;\n",
              "\n",
              "          const docLinkHtml = 'Like what you see? Visit the ' +\n",
              "            '<a target=\"_blank\" href=https://colab.research.google.com/notebooks/data_table.ipynb>data table notebook</a>'\n",
              "            + ' to learn more about interactive tables.';\n",
              "          element.innerHTML = '';\n",
              "          dataTable['output_type'] = 'display_data';\n",
              "          await google.colab.output.renderOutput(dataTable, element);\n",
              "          const docLink = document.createElement('div');\n",
              "          docLink.innerHTML = docLinkHtml;\n",
              "          element.appendChild(docLink);\n",
              "        }\n",
              "      </script>\n",
              "    </div>\n",
              "  </div>\n",
              "  "
            ]
          },
          "metadata": {},
          "execution_count": 121
        }
      ],
      "source": [
        "test_set.head()"
      ]
    },
    {
      "cell_type": "code",
      "execution_count": 122,
      "metadata": {
        "id": "PCIvHGN-Ls6X"
      },
      "outputs": [],
      "source": [
        "# To \"filter\" the dataset and create the one needed for the training\n",
        "# drop the labels for training set to create the input training set\n",
        "o_ring = train_set.drop(\"class\", axis=1) \n",
        "#o_ring = o_ring.drop(\"Nr_of_Flight\", axis=1)\n",
        "# The label for the training is characterised by the column with the\n",
        "# \"O_rings_thermal_distress\"\n",
        "o_ring_labels = train_set[\"class\"].copy()"
      ]
    },
    {
      "cell_type": "code",
      "execution_count": 123,
      "metadata": {
        "colab": {
          "base_uri": "https://localhost:8080/",
          "height": 206
        },
        "id": "L9fuJKbBLs6a",
        "outputId": "29b5f563-0eed-4f79-c951-75f8f4cd560e"
      },
      "outputs": [
        {
          "output_type": "execute_result",
          "data": {
            "text/plain": [
              "    sepal-length  sepal-width  petal-length  petal-width\n",
              "22           4.6          3.6           1.0          0.2\n",
              "15           5.7          4.4           1.5          0.4\n",
              "65           6.7          3.1           4.4          1.4\n",
              "11           4.8          3.4           1.6          0.2\n",
              "42           4.4          3.2           1.3          0.2"
            ],
            "text/html": [
              "\n",
              "  <div id=\"df-ccf50249-6f53-4058-9e64-2275e65b9de0\">\n",
              "    <div class=\"colab-df-container\">\n",
              "      <div>\n",
              "<style scoped>\n",
              "    .dataframe tbody tr th:only-of-type {\n",
              "        vertical-align: middle;\n",
              "    }\n",
              "\n",
              "    .dataframe tbody tr th {\n",
              "        vertical-align: top;\n",
              "    }\n",
              "\n",
              "    .dataframe thead th {\n",
              "        text-align: right;\n",
              "    }\n",
              "</style>\n",
              "<table border=\"1\" class=\"dataframe\">\n",
              "  <thead>\n",
              "    <tr style=\"text-align: right;\">\n",
              "      <th></th>\n",
              "      <th>sepal-length</th>\n",
              "      <th>sepal-width</th>\n",
              "      <th>petal-length</th>\n",
              "      <th>petal-width</th>\n",
              "    </tr>\n",
              "  </thead>\n",
              "  <tbody>\n",
              "    <tr>\n",
              "      <th>22</th>\n",
              "      <td>4.6</td>\n",
              "      <td>3.6</td>\n",
              "      <td>1.0</td>\n",
              "      <td>0.2</td>\n",
              "    </tr>\n",
              "    <tr>\n",
              "      <th>15</th>\n",
              "      <td>5.7</td>\n",
              "      <td>4.4</td>\n",
              "      <td>1.5</td>\n",
              "      <td>0.4</td>\n",
              "    </tr>\n",
              "    <tr>\n",
              "      <th>65</th>\n",
              "      <td>6.7</td>\n",
              "      <td>3.1</td>\n",
              "      <td>4.4</td>\n",
              "      <td>1.4</td>\n",
              "    </tr>\n",
              "    <tr>\n",
              "      <th>11</th>\n",
              "      <td>4.8</td>\n",
              "      <td>3.4</td>\n",
              "      <td>1.6</td>\n",
              "      <td>0.2</td>\n",
              "    </tr>\n",
              "    <tr>\n",
              "      <th>42</th>\n",
              "      <td>4.4</td>\n",
              "      <td>3.2</td>\n",
              "      <td>1.3</td>\n",
              "      <td>0.2</td>\n",
              "    </tr>\n",
              "  </tbody>\n",
              "</table>\n",
              "</div>\n",
              "      <button class=\"colab-df-convert\" onclick=\"convertToInteractive('df-ccf50249-6f53-4058-9e64-2275e65b9de0')\"\n",
              "              title=\"Convert this dataframe to an interactive table.\"\n",
              "              style=\"display:none;\">\n",
              "        \n",
              "  <svg xmlns=\"http://www.w3.org/2000/svg\" height=\"24px\"viewBox=\"0 0 24 24\"\n",
              "       width=\"24px\">\n",
              "    <path d=\"M0 0h24v24H0V0z\" fill=\"none\"/>\n",
              "    <path d=\"M18.56 5.44l.94 2.06.94-2.06 2.06-.94-2.06-.94-.94-2.06-.94 2.06-2.06.94zm-11 1L8.5 8.5l.94-2.06 2.06-.94-2.06-.94L8.5 2.5l-.94 2.06-2.06.94zm10 10l.94 2.06.94-2.06 2.06-.94-2.06-.94-.94-2.06-.94 2.06-2.06.94z\"/><path d=\"M17.41 7.96l-1.37-1.37c-.4-.4-.92-.59-1.43-.59-.52 0-1.04.2-1.43.59L10.3 9.45l-7.72 7.72c-.78.78-.78 2.05 0 2.83L4 21.41c.39.39.9.59 1.41.59.51 0 1.02-.2 1.41-.59l7.78-7.78 2.81-2.81c.8-.78.8-2.07 0-2.86zM5.41 20L4 18.59l7.72-7.72 1.47 1.35L5.41 20z\"/>\n",
              "  </svg>\n",
              "      </button>\n",
              "      \n",
              "  <style>\n",
              "    .colab-df-container {\n",
              "      display:flex;\n",
              "      flex-wrap:wrap;\n",
              "      gap: 12px;\n",
              "    }\n",
              "\n",
              "    .colab-df-convert {\n",
              "      background-color: #E8F0FE;\n",
              "      border: none;\n",
              "      border-radius: 50%;\n",
              "      cursor: pointer;\n",
              "      display: none;\n",
              "      fill: #1967D2;\n",
              "      height: 32px;\n",
              "      padding: 0 0 0 0;\n",
              "      width: 32px;\n",
              "    }\n",
              "\n",
              "    .colab-df-convert:hover {\n",
              "      background-color: #E2EBFA;\n",
              "      box-shadow: 0px 1px 2px rgba(60, 64, 67, 0.3), 0px 1px 3px 1px rgba(60, 64, 67, 0.15);\n",
              "      fill: #174EA6;\n",
              "    }\n",
              "\n",
              "    [theme=dark] .colab-df-convert {\n",
              "      background-color: #3B4455;\n",
              "      fill: #D2E3FC;\n",
              "    }\n",
              "\n",
              "    [theme=dark] .colab-df-convert:hover {\n",
              "      background-color: #434B5C;\n",
              "      box-shadow: 0px 1px 3px 1px rgba(0, 0, 0, 0.15);\n",
              "      filter: drop-shadow(0px 1px 2px rgba(0, 0, 0, 0.3));\n",
              "      fill: #FFFFFF;\n",
              "    }\n",
              "  </style>\n",
              "\n",
              "      <script>\n",
              "        const buttonEl =\n",
              "          document.querySelector('#df-ccf50249-6f53-4058-9e64-2275e65b9de0 button.colab-df-convert');\n",
              "        buttonEl.style.display =\n",
              "          google.colab.kernel.accessAllowed ? 'block' : 'none';\n",
              "\n",
              "        async function convertToInteractive(key) {\n",
              "          const element = document.querySelector('#df-ccf50249-6f53-4058-9e64-2275e65b9de0');\n",
              "          const dataTable =\n",
              "            await google.colab.kernel.invokeFunction('convertToInteractive',\n",
              "                                                     [key], {});\n",
              "          if (!dataTable) return;\n",
              "\n",
              "          const docLinkHtml = 'Like what you see? Visit the ' +\n",
              "            '<a target=\"_blank\" href=https://colab.research.google.com/notebooks/data_table.ipynb>data table notebook</a>'\n",
              "            + ' to learn more about interactive tables.';\n",
              "          element.innerHTML = '';\n",
              "          dataTable['output_type'] = 'display_data';\n",
              "          await google.colab.output.renderOutput(dataTable, element);\n",
              "          const docLink = document.createElement('div');\n",
              "          docLink.innerHTML = docLinkHtml;\n",
              "          element.appendChild(docLink);\n",
              "        }\n",
              "      </script>\n",
              "    </div>\n",
              "  </div>\n",
              "  "
            ]
          },
          "metadata": {},
          "execution_count": 123
        }
      ],
      "source": [
        "#train_set.head()\n",
        "o_ring.head()"
      ]
    },
    {
      "cell_type": "code",
      "execution_count": 124,
      "metadata": {
        "colab": {
          "base_uri": "https://localhost:8080/",
          "height": 206
        },
        "id": "C-97jFvVLs6f",
        "outputId": "8cc1d357-475f-4eba-9394-64f6ddb54f2d"
      },
      "outputs": [
        {
          "output_type": "execute_result",
          "data": {
            "text/plain": [
              "    sepal-length  sepal-width  petal-length  petal-width\n",
              "22           4.6          3.6           1.0          0.2\n",
              "15           5.7          4.4           1.5          0.4\n",
              "65           6.7          3.1           4.4          1.4\n",
              "11           4.8          3.4           1.6          0.2\n",
              "42           4.4          3.2           1.3          0.2"
            ],
            "text/html": [
              "\n",
              "  <div id=\"df-531b279e-6f5f-4d50-a9a3-8e6b3708c283\">\n",
              "    <div class=\"colab-df-container\">\n",
              "      <div>\n",
              "<style scoped>\n",
              "    .dataframe tbody tr th:only-of-type {\n",
              "        vertical-align: middle;\n",
              "    }\n",
              "\n",
              "    .dataframe tbody tr th {\n",
              "        vertical-align: top;\n",
              "    }\n",
              "\n",
              "    .dataframe thead th {\n",
              "        text-align: right;\n",
              "    }\n",
              "</style>\n",
              "<table border=\"1\" class=\"dataframe\">\n",
              "  <thead>\n",
              "    <tr style=\"text-align: right;\">\n",
              "      <th></th>\n",
              "      <th>sepal-length</th>\n",
              "      <th>sepal-width</th>\n",
              "      <th>petal-length</th>\n",
              "      <th>petal-width</th>\n",
              "    </tr>\n",
              "  </thead>\n",
              "  <tbody>\n",
              "    <tr>\n",
              "      <th>22</th>\n",
              "      <td>4.6</td>\n",
              "      <td>3.6</td>\n",
              "      <td>1.0</td>\n",
              "      <td>0.2</td>\n",
              "    </tr>\n",
              "    <tr>\n",
              "      <th>15</th>\n",
              "      <td>5.7</td>\n",
              "      <td>4.4</td>\n",
              "      <td>1.5</td>\n",
              "      <td>0.4</td>\n",
              "    </tr>\n",
              "    <tr>\n",
              "      <th>65</th>\n",
              "      <td>6.7</td>\n",
              "      <td>3.1</td>\n",
              "      <td>4.4</td>\n",
              "      <td>1.4</td>\n",
              "    </tr>\n",
              "    <tr>\n",
              "      <th>11</th>\n",
              "      <td>4.8</td>\n",
              "      <td>3.4</td>\n",
              "      <td>1.6</td>\n",
              "      <td>0.2</td>\n",
              "    </tr>\n",
              "    <tr>\n",
              "      <th>42</th>\n",
              "      <td>4.4</td>\n",
              "      <td>3.2</td>\n",
              "      <td>1.3</td>\n",
              "      <td>0.2</td>\n",
              "    </tr>\n",
              "  </tbody>\n",
              "</table>\n",
              "</div>\n",
              "      <button class=\"colab-df-convert\" onclick=\"convertToInteractive('df-531b279e-6f5f-4d50-a9a3-8e6b3708c283')\"\n",
              "              title=\"Convert this dataframe to an interactive table.\"\n",
              "              style=\"display:none;\">\n",
              "        \n",
              "  <svg xmlns=\"http://www.w3.org/2000/svg\" height=\"24px\"viewBox=\"0 0 24 24\"\n",
              "       width=\"24px\">\n",
              "    <path d=\"M0 0h24v24H0V0z\" fill=\"none\"/>\n",
              "    <path d=\"M18.56 5.44l.94 2.06.94-2.06 2.06-.94-2.06-.94-.94-2.06-.94 2.06-2.06.94zm-11 1L8.5 8.5l.94-2.06 2.06-.94-2.06-.94L8.5 2.5l-.94 2.06-2.06.94zm10 10l.94 2.06.94-2.06 2.06-.94-2.06-.94-.94-2.06-.94 2.06-2.06.94z\"/><path d=\"M17.41 7.96l-1.37-1.37c-.4-.4-.92-.59-1.43-.59-.52 0-1.04.2-1.43.59L10.3 9.45l-7.72 7.72c-.78.78-.78 2.05 0 2.83L4 21.41c.39.39.9.59 1.41.59.51 0 1.02-.2 1.41-.59l7.78-7.78 2.81-2.81c.8-.78.8-2.07 0-2.86zM5.41 20L4 18.59l7.72-7.72 1.47 1.35L5.41 20z\"/>\n",
              "  </svg>\n",
              "      </button>\n",
              "      \n",
              "  <style>\n",
              "    .colab-df-container {\n",
              "      display:flex;\n",
              "      flex-wrap:wrap;\n",
              "      gap: 12px;\n",
              "    }\n",
              "\n",
              "    .colab-df-convert {\n",
              "      background-color: #E8F0FE;\n",
              "      border: none;\n",
              "      border-radius: 50%;\n",
              "      cursor: pointer;\n",
              "      display: none;\n",
              "      fill: #1967D2;\n",
              "      height: 32px;\n",
              "      padding: 0 0 0 0;\n",
              "      width: 32px;\n",
              "    }\n",
              "\n",
              "    .colab-df-convert:hover {\n",
              "      background-color: #E2EBFA;\n",
              "      box-shadow: 0px 1px 2px rgba(60, 64, 67, 0.3), 0px 1px 3px 1px rgba(60, 64, 67, 0.15);\n",
              "      fill: #174EA6;\n",
              "    }\n",
              "\n",
              "    [theme=dark] .colab-df-convert {\n",
              "      background-color: #3B4455;\n",
              "      fill: #D2E3FC;\n",
              "    }\n",
              "\n",
              "    [theme=dark] .colab-df-convert:hover {\n",
              "      background-color: #434B5C;\n",
              "      box-shadow: 0px 1px 3px 1px rgba(0, 0, 0, 0.15);\n",
              "      filter: drop-shadow(0px 1px 2px rgba(0, 0, 0, 0.3));\n",
              "      fill: #FFFFFF;\n",
              "    }\n",
              "  </style>\n",
              "\n",
              "      <script>\n",
              "        const buttonEl =\n",
              "          document.querySelector('#df-531b279e-6f5f-4d50-a9a3-8e6b3708c283 button.colab-df-convert');\n",
              "        buttonEl.style.display =\n",
              "          google.colab.kernel.accessAllowed ? 'block' : 'none';\n",
              "\n",
              "        async function convertToInteractive(key) {\n",
              "          const element = document.querySelector('#df-531b279e-6f5f-4d50-a9a3-8e6b3708c283');\n",
              "          const dataTable =\n",
              "            await google.colab.kernel.invokeFunction('convertToInteractive',\n",
              "                                                     [key], {});\n",
              "          if (!dataTable) return;\n",
              "\n",
              "          const docLinkHtml = 'Like what you see? Visit the ' +\n",
              "            '<a target=\"_blank\" href=https://colab.research.google.com/notebooks/data_table.ipynb>data table notebook</a>'\n",
              "            + ' to learn more about interactive tables.';\n",
              "          element.innerHTML = '';\n",
              "          dataTable['output_type'] = 'display_data';\n",
              "          await google.colab.output.renderOutput(dataTable, element);\n",
              "          const docLink = document.createElement('div');\n",
              "          docLink.innerHTML = docLinkHtml;\n",
              "          element.appendChild(docLink);\n",
              "        }\n",
              "      </script>\n",
              "    </div>\n",
              "  </div>\n",
              "  "
            ]
          },
          "metadata": {},
          "execution_count": 124
        }
      ],
      "source": [
        "o_ring.head()"
      ]
    },
    {
      "cell_type": "code",
      "execution_count": 125,
      "metadata": {
        "colab": {
          "base_uri": "https://localhost:8080/"
        },
        "id": "OQGGPPOWLs6i",
        "outputId": "7c8fb773-a247-4704-de12-ace317811e8a"
      },
      "outputs": [
        {
          "output_type": "execute_result",
          "data": {
            "text/plain": [
              "22    0\n",
              "15    0\n",
              "65    1\n",
              "11    0\n",
              "42    0\n",
              "Name: class, dtype: int64"
            ]
          },
          "metadata": {},
          "execution_count": 125
        }
      ],
      "source": [
        "o_ring_labels.head()"
      ]
    },
    {
      "cell_type": "code",
      "execution_count": 136,
      "metadata": {
        "colab": {
          "base_uri": "https://localhost:8080/"
        },
        "id": "zGvc9WzrLs6m",
        "outputId": "59229cd8-f8b3-405d-ea05-2805a8780d8d"
      },
      "outputs": [
        {
          "output_type": "stream",
          "name": "stdout",
          "text": [
            "Pipeline(steps=[('std_scaler', StandardScaler())])\n"
          ]
        }
      ],
      "source": [
        "# To prepare the data it is possible to use a Pipeline\n",
        "# I leave to you to look into the information about Pipelines and Transformers.\n",
        "# Here some suggestions: https://www.databricks.com/glossary/what-are-ml-pipelines\n",
        "# http://scikit-learn.org/stable/modules/generated/sklearn.pipeline.Pipeline.html \n",
        "\n",
        "from sklearn.pipeline import Pipeline\n",
        "from sklearn.preprocessing import StandardScaler\n",
        "\n",
        "num_pipeline = Pipeline([\n",
        "        ('std_scaler', StandardScaler()),\n",
        "    ])\n",
        "print(num_pipeline)"
      ]
    },
    {
      "cell_type": "code",
      "execution_count": 127,
      "metadata": {
        "id": "nFZQrpXdLs6p"
      },
      "outputs": [],
      "source": [
        "from sklearn.compose import ColumnTransformer"
      ]
    },
    {
      "cell_type": "code",
      "execution_count": 137,
      "metadata": {
        "id": "UXJ4G22JLs6u"
      },
      "outputs": [],
      "source": [
        "\n",
        "num_attribs = list(o_ring)\n",
        "\n",
        "full_pipeline = ColumnTransformer([\n",
        "        (\"num\", num_pipeline, num_attribs),\n",
        "    ])\n",
        "\n",
        "o_ring_prepared = full_pipeline.fit_transform(o_ring)"
      ]
    },
    {
      "cell_type": "code",
      "execution_count": 129,
      "metadata": {
        "colab": {
          "base_uri": "https://localhost:8080/"
        },
        "id": "Zso9GTf7Ls6x",
        "outputId": "e23bb03f-0206-4e3a-a8e4-2a7635b7fe17"
      },
      "outputs": [
        {
          "output_type": "execute_result",
          "data": {
            "text/plain": [
              "array([[-1.47393679,  1.22037928, -1.5639872 , -1.30948358],\n",
              "       [-0.13307079,  3.02001693, -1.27728011, -1.04292204],\n",
              "       [ 1.08589829,  0.09560575,  0.38562104,  0.28988568],\n",
              "       [-1.23014297,  0.77046987, -1.21993869, -1.30948358],\n",
              "       [-1.7177306 ,  0.32056046, -1.39196294, -1.30948358],\n",
              "       [ 0.59831066, -1.25412249,  0.72966956,  0.95628954],\n",
              "       [ 0.72020757,  0.32056046,  0.44296246,  0.42316645],\n",
              "       [-0.74255534,  0.99542457, -1.27728011, -1.30948358],\n",
              "       [-0.98634915,  1.22037928, -1.33462153, -1.30948358],\n",
              "       [-0.74255534,  2.34515281, -1.27728011, -1.44276436],\n",
              "       [-0.01117388, -0.80421307,  0.78701097,  0.95628954],\n",
              "       [ 0.23261993,  0.77046987,  0.44296246,  0.55644722],\n",
              "       [ 1.08589829,  0.09560575,  0.5576453 ,  0.42316645],\n",
              "       [-0.49876152,  1.8952434 , -1.39196294, -1.04292204],\n",
              "       [-0.49876152,  1.44533399, -1.27728011, -1.30948358],\n",
              "       [-0.37686461, -1.47907719, -0.01576889, -0.24323741],\n",
              "       [ 0.59831066, -0.57925837,  0.78701097,  0.42316645],\n",
              "       [ 0.72020757,  0.09560575,  1.01637665,  0.82300877],\n",
              "       [ 0.96400139, -0.12934896,  0.38562104,  0.28988568],\n",
              "       [ 1.69538284,  1.22037928,  1.36042516,  1.75597417],\n",
              "       [-0.13307079, -0.35430366,  0.2709382 ,  0.15660491],\n",
              "       [ 2.18297047, -0.12934896,  1.64713226,  1.22285108],\n",
              "       [-0.2549677 , -0.12934896,  0.44296246,  0.42316645],\n",
              "       [-0.86445224,  0.99542457, -1.33462153, -1.30948358],\n",
              "       [ 2.30486738, -0.57925837,  1.70447368,  1.08957031],\n",
              "       [-0.01117388, -0.80421307,  0.21359679, -0.24323741],\n",
              "       [-0.74255534,  0.77046987, -1.33462153, -1.30948358],\n",
              "       [-0.98634915,  0.99542457, -1.39196294, -1.17620281],\n",
              "       [-0.86445224,  1.67028869, -1.04791443, -1.04292204],\n",
              "       [-0.98634915, -2.37889602, -0.13045173, -0.24323741],\n",
              "       [ 0.59831066, -0.80421307,  0.67232814,  0.82300877],\n",
              "       [-1.23014297,  0.77046987, -1.04791443, -1.30948358],\n",
              "       [-0.98634915, -0.12934896, -1.21993869, -1.30948358],\n",
              "       [-0.86445224,  0.54551516, -1.16259727, -0.90964127],\n",
              "       [-0.2549677 , -0.80421307,  0.2709382 ,  0.15660491],\n",
              "       [-0.86445224,  0.77046987, -1.27728011, -1.30948358],\n",
              "       [-0.13307079, -0.12934896,  0.2709382 ,  0.02332414],\n",
              "       [ 2.30486738,  1.67028869,  1.70447368,  1.35613185],\n",
              "       [-1.47393679,  0.32056046, -1.33462153, -1.30948358],\n",
              "       [ 0.47641375, -0.35430366,  0.32827962,  0.15660491],\n",
              "       [-0.13307079, -1.25412249,  0.72966956,  1.08957031],\n",
              "       [-0.37686461,  2.57010752, -1.33462153, -1.30948358],\n",
              "       [ 0.23261993, -0.12934896,  0.61498672,  0.82300877],\n",
              "       [-0.01117388, -0.80421307,  0.78701097,  0.95628954],\n",
              "       [ 0.23261993, -1.9289866 ,  0.15625537, -0.24323741],\n",
              "       [-0.49876152, -0.12934896,  0.44296246,  0.42316645],\n",
              "       [ 0.47641375,  0.77046987,  0.95903523,  1.48941263],\n",
              "       [-0.37686461, -1.7040319 ,  0.15625537,  0.15660491],\n",
              "       [-0.49876152,  1.8952434 , -1.16259727, -1.04292204],\n",
              "       [-0.98634915, -1.7040319 , -0.24513457, -0.24323741],\n",
              "       [ 0.72020757, -0.80421307,  0.90169381,  0.95628954],\n",
              "       [-0.98634915,  0.54551516, -1.33462153, -1.30948358],\n",
              "       [-0.98634915,  0.32056046, -1.44930436, -1.30948358],\n",
              "       [-0.37686461, -1.47907719,  0.04157253, -0.10995664],\n",
              "       [ 1.08589829, -0.12934896,  0.72966956,  0.68972799],\n",
              "       [-1.10824606,  0.09560575, -1.27728011, -1.44276436],\n",
              "       [-0.01117388, -0.57925837,  0.78701097,  1.6226934 ],\n",
              "       [-0.98634915,  0.77046987, -1.27728011, -1.30948358],\n",
              "       [-0.98634915,  0.99542457, -1.21993869, -0.7763605 ],\n",
              "       [ 0.11072303,  0.32056046,  0.61498672,  0.82300877],\n",
              "       [-0.86445224, -1.25412249, -0.41715882, -0.10995664],\n",
              "       [ 1.32969211,  0.32056046,  1.13105949,  1.48941263],\n",
              "       [ 0.23261993, -0.80421307,  0.78701097,  0.55644722],\n",
              "       [ 0.35451684, -1.02916778,  1.07371807,  0.28988568],\n",
              "       [ 2.30486738, -0.12934896,  1.36042516,  1.48941263],\n",
              "       [-0.37686461, -1.25412249,  0.15625537,  0.15660491],\n",
              "       [-1.7177306 , -0.35430366, -1.33462153, -1.30948358],\n",
              "       [-1.83962751, -0.12934896, -1.50664578, -1.44276436],\n",
              "       [ 0.23261993, -1.9289866 ,  0.72966956,  0.42316645],\n",
              "       [ 1.69538284,  0.32056046,  1.30308374,  0.82300877],\n",
              "       [-1.47393679,  0.09560575, -1.27728011, -1.30948358],\n",
              "       [-0.86445224,  0.99542457, -1.33462153, -1.17620281],\n",
              "       [-1.7177306 , -0.12934896, -1.39196294, -1.30948358],\n",
              "       [ 0.59831066, -1.25412249,  0.67232814,  0.42316645],\n",
              "       [ 0.59831066,  0.77046987,  1.07371807,  1.6226934 ],\n",
              "       [-1.47393679,  0.77046987, -1.33462153, -1.17620281],\n",
              "       [ 1.2077952 , -0.12934896,  1.01637665,  1.22285108],\n",
              "       [ 0.59831066,  0.54551516,  1.30308374,  1.75597417],\n",
              "       [-1.35203988,  0.32056046, -1.39196294, -1.30948358],\n",
              "       [ 0.35451684, -0.35430366,  0.5576453 ,  0.28988568],\n",
              "       [ 0.84210448, -0.57925837,  0.50030388,  0.42316645],\n",
              "       [ 0.47641375, -0.57925837,  0.61498672,  0.82300877],\n",
              "       [ 1.45158902,  0.32056046,  0.5576453 ,  0.28988568],\n",
              "       [ 0.72020757,  0.32056046,  0.90169381,  1.48941263],\n",
              "       [-0.86445224,  1.67028869, -1.21993869, -1.30948358],\n",
              "       [ 1.32969211,  0.09560575,  0.95903523,  1.22285108],\n",
              "       [ 0.11072303, -0.12934896,  0.2709382 ,  0.42316645],\n",
              "       [ 0.84210448, -0.12934896,  0.84435239,  1.08957031],\n",
              "       [-0.13307079, -1.02916778, -0.13045173, -0.24323741],\n",
              "       [-0.74255534, -0.80421307,  0.09891395,  0.28988568],\n",
              "       [ 0.35451684, -0.12934896,  0.50030388,  0.28988568],\n",
              "       [-1.5958337 , -1.7040319 , -1.39196294, -1.17620281],\n",
              "       [ 0.96400139, -0.35430366,  0.50030388,  0.15660491],\n",
              "       [-0.37686461, -1.02916778,  0.38562104,  0.02332414],\n",
              "       [-0.62065843,  1.44533399, -1.27728011, -1.30948358],\n",
              "       [-0.2549677 , -0.12934896,  0.21359679,  0.15660491],\n",
              "       [ 1.81727975, -0.35430366,  1.475108  ,  0.82300877],\n",
              "       [ 1.08589829,  0.54551516,  1.13105949,  1.22285108],\n",
              "       [-0.86445224,  1.44533399, -1.27728011, -1.04292204],\n",
              "       [-1.10824606, -1.47907719, -0.24513457, -0.24323741],\n",
              "       [ 1.08589829,  0.54551516,  1.13105949,  1.75597417],\n",
              "       [ 1.69538284, -0.12934896,  1.18840091,  0.55644722],\n",
              "       [-1.10824606,  0.09560575, -1.27728011, -1.44276436],\n",
              "       [ 1.08589829,  0.09560575,  1.07371807,  1.6226934 ],\n",
              "       [-1.10824606, -0.12934896, -1.33462153, -1.30948358],\n",
              "       [ 1.32969211,  0.09560575,  0.67232814,  0.42316645],\n",
              "       [ 1.93917666, -0.57925837,  1.36042516,  0.95628954],\n",
              "       [ 0.59831066, -0.35430366,  1.07371807,  0.82300877],\n",
              "       [-0.13307079, -0.57925837,  0.21359679,  0.15660491],\n",
              "       [ 0.84210448, -0.12934896,  1.01637665,  0.82300877],\n",
              "       [ 0.59831066, -1.7040319 ,  0.38562104,  0.15660491],\n",
              "       [ 0.72020757, -0.35430366,  0.32827962,  0.15660491],\n",
              "       [-0.2549677 , -0.57925837,  0.67232814,  1.08957031],\n",
              "       [ 0.11072303, -0.12934896,  0.78701097,  0.82300877],\n",
              "       [-0.49876152,  0.77046987, -1.16259727, -1.30948358],\n",
              "       [ 0.35451684, -0.57925837,  0.15625537,  0.15660491],\n",
              "       [-1.10824606, -1.25412249,  0.44296246,  0.68972799],\n",
              "       [-0.01117388,  2.1201981 , -1.44930436, -1.30948358],\n",
              "       [-0.01117388, -1.02916778,  0.15625537,  0.02332414],\n",
              "       [ 1.57348593, -0.12934896,  1.24574233,  1.22285108]])"
            ]
          },
          "metadata": {},
          "execution_count": 129
        }
      ],
      "source": [
        "o_ring_prepared"
      ]
    },
    {
      "cell_type": "code",
      "execution_count": 138,
      "metadata": {
        "colab": {
          "base_uri": "https://localhost:8080/"
        },
        "id": "cxWUC15-Ls60",
        "outputId": "5b4dbb9f-1735-4db0-dd47-61c966981597"
      },
      "outputs": [
        {
          "output_type": "execute_result",
          "data": {
            "text/plain": [
              "SGDClassifier(random_state=42)"
            ]
          },
          "metadata": {},
          "execution_count": 138
        }
      ],
      "source": [
        "# Here diverse types of regressive models are used: Support Vector Machines, Random Forests \n",
        "# and Linear Regressors\n",
        "\n",
        "from sklearn.linear_model import SGDClassifier\n",
        "\n",
        "sgd_clf = SGDClassifier(max_iter=1000, tol=1e-3, random_state=42)\n",
        "sgd_clf.fit(o_ring_prepared, o_ring_labels)\n",
        "\n",
        "#reg = RandomForestRegressor(n_estimators=10, random_state=42)\n",
        "#reg = SVR(kernel=\"linear\")\n",
        "#reg = LinearRegression()\n",
        "\n",
        "# The fit function trains the regressor (the model)\n",
        "\n",
        "#reg.fit(o_ring_prepared, o_ring_labels)"
      ]
    },
    {
      "cell_type": "code",
      "execution_count": 152,
      "metadata": {
        "id": "O8eQKtSDLs63"
      },
      "outputs": [],
      "source": [
        "\n",
        "some_data = o_ring.iloc[:10]\n",
        "some_labels = o_ring_labels.iloc[:10]\n",
        "# Part of the dataset (not used for training) is used to build for the prediction\n",
        "some_data_prepared = full_pipeline.transform(some_data)\n",
        "# sgd_clf.predict([some_digit])\n",
        "prediction=sgd_clf.predict(some_data_prepared)\n",
        "# print(\"Predictions:\", sgd_clf.predict([some_data_prepared]))"
      ]
    },
    {
      "cell_type": "code",
      "execution_count": 154,
      "metadata": {
        "colab": {
          "base_uri": "https://localhost:8080/"
        },
        "id": "MYIbhHvrLs66",
        "outputId": "bba530c9-04e7-4147-c515-059545f57e53"
      },
      "outputs": [
        {
          "output_type": "stream",
          "name": "stdout",
          "text": [
            "The accuracy socre is: 0.9\n"
          ]
        }
      ],
      "source": [
        "from sklearn import metrics\n",
        "#print(\"Labels:\", list(some_labels))\n",
        "y_test=list(some_labels)\n",
        "\n",
        "print (\"The accuracy socre is:\", metrics.accuracy_score(prediction,y_test))\n",
        "# print('The accuracy of the Decision Tree is',\"{:.3f}\".format(metrics.accuracy_score(prediction,y_test)))"
      ]
    },
    {
      "cell_type": "code",
      "execution_count": 141,
      "metadata": {
        "colab": {
          "base_uri": "https://localhost:8080/"
        },
        "id": "J33lgS-3Ls69",
        "outputId": "fcbc50ae-d7cf-43bb-9802-736b2b2cec38"
      },
      "outputs": [
        {
          "output_type": "stream",
          "name": "stdout",
          "text": [
            "RMSE: 0.5244044240850758\n"
          ]
        }
      ],
      "source": [
        "from sklearn.metrics import mean_squared_error\n",
        "# some metrics used to evaluate the error in the prediction\n",
        "o_ring_predictions = sgd_clf.predict(o_ring_prepared)\n",
        "mse = mean_squared_error(o_ring_labels, o_ring_predictions)\n",
        "rmse = np.sqrt(mse)\n",
        "print(\"RMSE:\", rmse)"
      ]
    },
    {
      "cell_type": "code",
      "execution_count": 142,
      "metadata": {
        "colab": {
          "base_uri": "https://localhost:8080/"
        },
        "id": "y4mrRX25Ls7A",
        "outputId": "4205b9a7-9f59-4285-833c-4eab9b09543e"
      },
      "outputs": [
        {
          "output_type": "stream",
          "name": "stdout",
          "text": [
            "MAE: 0.275\n"
          ]
        }
      ],
      "source": [
        "from sklearn.metrics import mean_absolute_error\n",
        "mae = mean_absolute_error(o_ring_labels, o_ring_predictions)\n",
        "print(\"MAE:\", mae)"
      ]
    },
    {
      "cell_type": "markdown",
      "metadata": {
        "id": "YHpcWmOZzB2t"
      },
      "source": [
        "# Cross validation on the training set - a better way of validation"
      ]
    },
    {
      "cell_type": "code",
      "execution_count": 143,
      "metadata": {
        "colab": {
          "base_uri": "https://localhost:8080/"
        },
        "id": "Zh7c87LszswQ",
        "outputId": "78aef6b7-193f-4380-9e46-5183ae562dcd"
      },
      "outputs": [
        {
          "output_type": "stream",
          "name": "stdout",
          "text": [
            "Scores: [0.70710678 0.57735027 0.5        0.5        0.57735027 0.76376262\n",
            " 0.40824829 0.57735027 0.70710678 0.76376262]\n",
            "Mean: 0.6082037892057782\n",
            "Standard deviation: 0.11585112916612704\n"
          ]
        }
      ],
      "source": [
        "def display_scores(scores):\n",
        "    print(\"Scores:\", scores)\n",
        "    print(\"Mean:\", scores.mean())\n",
        "    print(\"Standard deviation:\", scores.std())\n",
        "    \n",
        "from sklearn.model_selection import cross_val_score\n",
        "# cross_val_score is a way to use the cross-validation in sklearn.\n",
        "# cross validation https://scikit-learn.org/stable/modules/cross_validation.html\n",
        "cross_validation_scores = cross_val_score(sgd_clf, o_ring_prepared, o_ring_labels,\n",
        "                                          scoring=\"neg_mean_squared_error\", cv=10)\n",
        "rmse_scores = np.sqrt(-cross_validation_scores)\n",
        "display_scores(rmse_scores)"
      ]
    },
    {
      "cell_type": "markdown",
      "metadata": {
        "id": "Xyvt0QBgLs7C"
      },
      "source": [
        "## Accuracy Calculation\n"
      ]
    },
    {
      "cell_type": "code",
      "execution_count": 148,
      "metadata": {
        "colab": {
          "base_uri": "https://localhost:8080/"
        },
        "id": "tiN8-x1NLs7C",
        "outputId": "bb301318-16e6-41e2-a6a5-890fd725d3cc"
      },
      "outputs": [
        {
          "output_type": "execute_result",
          "data": {
            "text/plain": [
              "array([0.73333333, 0.6       , 0.73333333, 0.6       , 0.73333333,\n",
              "       0.6       , 0.66666667, 0.6       ])"
            ]
          },
          "metadata": {},
          "execution_count": 148
        }
      ],
      "source": [
        "from sklearn.base import BaseEstimator\n",
        "class Never5Classifier(BaseEstimator):\n",
        "    def fit(self, X, y=None):\n",
        "        pass\n",
        "    def predict(self, X):\n",
        "        return np.zeros((len(X), 1), dtype=bool)\n",
        "\n",
        "never_5_clf = Never5Classifier()\n",
        "cross_val_score(never_5_clf, o_ring_prepared, o_ring_labels, cv=8, scoring=\"accuracy\")\n"
      ]
    },
    {
      "cell_type": "code",
      "execution_count": 144,
      "metadata": {
        "id": "QdZJFPEs62Ad"
      },
      "outputs": [],
      "source": []
    }
  ],
  "metadata": {
    "colab": {
      "collapsed_sections": [],
      "provenance": [],
      "include_colab_link": true
    },
    "kernelspec": {
      "display_name": "Python 3 (ipykernel)",
      "language": "python",
      "name": "python3"
    },
    "language_info": {
      "codemirror_mode": {
        "name": "ipython",
        "version": 3
      },
      "file_extension": ".py",
      "mimetype": "text/x-python",
      "name": "python",
      "nbconvert_exporter": "python",
      "pygments_lexer": "ipython3",
      "version": "3.7.13"
    },
    "vscode": {
      "interpreter": {
        "hash": "0893c847e86b6989aca98574b3fb25672d9afd474b88350388891778551f8785"
      }
    }
  },
  "nbformat": 4,
  "nbformat_minor": 0
}