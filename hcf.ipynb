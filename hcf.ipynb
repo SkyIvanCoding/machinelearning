{
  "nbformat": 4,
  "nbformat_minor": 0,
  "metadata": {
    "colab": {
      "provenance": [],
      "collapsed_sections": [],
      "authorship_tag": "ABX9TyMlq8JUSNj4KmOhobsheAi7",
      "include_colab_link": true
    },
    "kernelspec": {
      "name": "python3",
      "display_name": "Python 3"
    },
    "language_info": {
      "name": "python"
    }
  },
  "cells": [
    {
      "cell_type": "markdown",
      "metadata": {
        "id": "view-in-github",
        "colab_type": "text"
      },
      "source": [
        "<a href=\"https://colab.research.google.com/github/parwinderau/machinelearning/blob/main/hcf.ipynb\" target=\"_parent\"><img src=\"https://colab.research.google.com/assets/colab-badge.svg\" alt=\"Open In Colab\"/></a>"
      ]
    },
    {
      "cell_type": "code",
      "execution_count": 16,
      "metadata": {
        "colab": {
          "base_uri": "https://localhost:8080/"
        },
        "id": "E1GLkJAjVaj4",
        "outputId": "d4ac4342-1579-401e-ec8e-665b97edc028"
      },
      "outputs": [
        {
          "output_type": "stream",
          "name": "stdout",
          "text": [
            "Min 35 Max 21\n",
            "1\n",
            "7\n",
            "HCF 7\n"
          ]
        }
      ],
      "source": [
        "x=35\n",
        "y=21\n",
        "min=0\n",
        "max=0\n",
        "cf=1\n",
        "hcf=1\n",
        "if x>y:\n",
        "    min=x\n",
        "    max=y\n",
        "else :\n",
        "    min=y\n",
        "    max=x\n",
        "print (\"Min\", min, \"Max\", max)\n",
        "\n",
        "for i in range(1, min):\n",
        "  if (min % i == 0) and (max % i == 0):\n",
        "    hcf=i\n",
        "    print (i)\n",
        "\n",
        "print (\"HCF\",hcf)"
      ]
    }
  ]
}