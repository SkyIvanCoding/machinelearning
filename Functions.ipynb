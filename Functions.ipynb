{
  "cells": [
    {
      "cell_type": "markdown",
      "metadata": {
        "id": "view-in-github",
        "colab_type": "text"
      },
      "source": [
        "<a href=\"https://colab.research.google.com/github/parwinderau/machinelearning/blob/main/Functions.ipynb\" target=\"_parent\"><img src=\"https://colab.research.google.com/assets/colab-badge.svg\" alt=\"Open In Colab\"/></a>"
      ]
    },
    {
      "cell_type": "code",
      "execution_count": 1,
      "metadata": {
        "id": "YvAw9kcT9w7U"
      },
      "outputs": [],
      "source": [
        "# << Functions >>\n",
        "# In python is possible, in general to create functions.\n",
        "# A fanction is a callto a set of instructions that can be used from the user to generate an output."
      ]
    },
    {
      "cell_type": "code",
      "execution_count": 2,
      "metadata": {
        "id": "ftZW6_Ga9w7W"
      },
      "outputs": [],
      "source": [
        "# Definition of a function\n",
        "# remember the syntax \n",
        "# def fun_name(input_parameters):\n",
        "# \":\" is important and also the indentation after the \"def\" line.\n",
        "def avg_calc(num_list):\n",
        "    # import numpy we need to convert into array\n",
        "    import numpy as np\n",
        "    # convert the list to array and calculate the sum\n",
        "    num_array = np.array(num_list); mysum = sum(num_array)\n",
        "    # take the number of elements in the list \n",
        "    num_in_list = len(num_list)\n",
        "    # return the value from the operation\n",
        "    return (mysum/num_in_list)\n"
      ]
    },
    {
      "cell_type": "code",
      "execution_count": 4,
      "metadata": {
        "id": "8ac7P3RH9w7Y"
      },
      "outputs": [],
      "source": [
        "# Sterting from this empty list\n",
        "my_numbers_list = []"
      ]
    },
    {
      "cell_type": "code",
      "execution_count": 7,
      "metadata": {
        "colab": {
          "base_uri": "https://localhost:8080/"
        },
        "id": "AW1R0Ujp9w7Z",
        "outputId": "2c6c1e2c-e2a4-459c-ccbb-c10ff1dc4af4"
      },
      "outputs": [
        {
          "output_type": "stream",
          "name": "stdout",
          "text": [
            "My random number list: [92, 92, 20, 66, 30, 6, 12, 25, 11, 76, 94, 94, 61, 5, 55, 72, 79, 6, 48, 15, 80, 70, 6, 55, 27, 77, 5, 7, 45, 62]\n",
            "Average of list 46.43333333333333\n"
          ]
        }
      ],
      "source": [
        "# Exercise: try to create a list of random numbers (see lecture 1 example) and calculate the average with the help \n",
        "# of the function we have just written\n",
        "import random\n",
        "n=10\n",
        "for i in range(n):\n",
        "    my_numbers_list.append(random.randint(1,99))\n",
        "print ('My random number list:', my_numbers_list)\n",
        "print ('Average of list', avg_calc(my_numbers_list))"
      ]
    },
    {
      "cell_type": "code",
      "execution_count": 10,
      "metadata": {
        "colab": {
          "base_uri": "https://localhost:8080/"
        },
        "id": "4OFEqPR79w7a",
        "outputId": "d3c7072c-e39a-4ebc-8577-f904accfb8f1"
      },
      "outputs": [
        {
          "output_type": "stream",
          "name": "stdout",
          "text": [
            "Area of the triangle with given base and height is: 120.0\n"
          ]
        }
      ],
      "source": [
        "# Example: Try to create a function which returns the area of a triangle\n",
        "def area_triangle_calc(base, pheight):\n",
        "    return 0.5*base*pheight\n",
        "\n",
        "print ('Area of the triangle with given base and height is:',area_triangle_calc(15, 16) )"
      ]
    },
    {
      "cell_type": "code",
      "execution_count": 13,
      "metadata": {
        "colab": {
          "base_uri": "https://localhost:8080/"
        },
        "id": "j8uPhJOG9w7b",
        "outputId": "05b2e748-7e99-4c8e-9ad3-1674c981ae23"
      },
      "outputs": [
        {
          "output_type": "stream",
          "name": "stdout",
          "text": [
            "The area of the cube of side  6 is: 150 and its volume is  125\n"
          ]
        }
      ],
      "source": [
        "# Example: Try to write a function that returns the area of the face and the volume of a cube,\n",
        "# supposing that has constant side measure. \n",
        "def area_n_vol_cube_calc(side):\n",
        "    return (6*side*side), (pow (side, 3))\n",
        "\n",
        "area, vol = area_n_vol_cube_calc (5)\n",
        "print('The area of the cube of side  6 is:', area, 'and its volume is ', vol )"
      ]
    }
  ],
  "metadata": {
    "kernelspec": {
      "display_name": "Python 3.9.13 ('venv')",
      "language": "python",
      "name": "python3"
    },
    "language_info": {
      "codemirror_mode": {
        "name": "ipython",
        "version": 3
      },
      "file_extension": ".py",
      "mimetype": "text/x-python",
      "name": "python",
      "nbconvert_exporter": "python",
      "pygments_lexer": "ipython3",
      "version": "3.9.13"
    },
    "orig_nbformat": 4,
    "vscode": {
      "interpreter": {
        "hash": "0893c847e86b6989aca98574b3fb25672d9afd474b88350388891778551f8785"
      }
    },
    "colab": {
      "provenance": [],
      "include_colab_link": true
    }
  },
  "nbformat": 4,
  "nbformat_minor": 0
}