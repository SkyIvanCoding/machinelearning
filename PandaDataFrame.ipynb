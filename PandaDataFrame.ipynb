{
  "nbformat": 4,
  "nbformat_minor": 0,
  "metadata": {
    "colab": {
      "provenance": [],
      "authorship_tag": "ABX9TyOHR0npSd0H3b22pwN/2k7g",
      "include_colab_link": true
    },
    "kernelspec": {
      "name": "python3",
      "display_name": "Python 3"
    },
    "language_info": {
      "name": "python"
    }
  },
  "cells": [
    {
      "cell_type": "markdown",
      "metadata": {
        "id": "view-in-github",
        "colab_type": "text"
      },
      "source": [
        "<a href=\"https://colab.research.google.com/github/parwinderau/machinelearning/blob/main/PandaDataFrame.ipynb\" target=\"_parent\"><img src=\"https://colab.research.google.com/assets/colab-badge.svg\" alt=\"Open In Colab\"/></a>"
      ]
    },
    {
      "cell_type": "code",
      "execution_count": 1,
      "metadata": {
        "colab": {
          "base_uri": "https://localhost:8080/"
        },
        "id": "Mjw24CMD72yc",
        "outputId": "14635ab8-6763-4c09-eeda-b8a1af3f4b0a"
      },
      "outputs": [
        {
          "output_type": "stream",
          "name": "stdout",
          "text": [
            "msg if pandas are loaded\n",
            "     Brand  Price(DKK)  Seat No Producer\n",
            "0  Renault      200000        5   France\n",
            "1   Toyata      250000        3    Japan\n",
            "2     Ford      220000        5       US\n",
            "3     Audi      350000        3  Germany\n"
          ]
        }
      ],
      "source": [
        "import pandas as pd\n",
        "print ('msg if pandas are loaded')\n",
        "\n",
        "cars = {'Brand': ['Renault', 'Toyata', 'Ford', 'Audi'],\n",
        "        'Price(DKK)' : [200000, 250000, 220000, 350000],\n",
        "        'Seat No' : [5,3,5,3],\n",
        "        'Producer' : ['France', 'Japan', 'US', 'Germany']\n",
        "        \n",
        "        }\n",
        "df = pd.DataFrame(cars);\n",
        "print (df)"
      ]
    }
  ]
}