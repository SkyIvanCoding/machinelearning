{
  "cells": [
    {
      "cell_type": "markdown",
      "metadata": {
        "id": "view-in-github",
        "colab_type": "text"
      },
      "source": [
        "<a href=\"https://colab.research.google.com/github/parwinderau/machinelearning/blob/main/Kaggle_DataSet_Linear_regressor_GDP.ipynb\" target=\"_parent\"><img src=\"https://colab.research.google.com/assets/colab-badge.svg\" alt=\"Open In Colab\"/></a>"
      ]
    },
    {
      "cell_type": "code",
      "execution_count": null,
      "metadata": {
        "colab": {
          "base_uri": "https://localhost:8080/"
        },
        "id": "5qfaZpxxGmbz",
        "outputId": "70cc1720-9efb-4500-a062-8488db3e71c3"
      },
      "outputs": [
        {
          "output_type": "stream",
          "name": "stdout",
          "text": [
            "Country name,Regional indicator,Ladder score,Standard error of ladder score,upperwhisker,lowerwhisker,Logged GDP per capita,Social support,Healthy life expectancy,Freedom to make life choices,Generosity,Perceptions of corruption,Ladder score in Dystopia,Explained by: Log GDP per capita,Explained by: Social support,Explained by: Healthy life expectancy,Explained by: Freedom to make life choices,Explained by: Generosity,Explained by: Perceptions of corruption,Dystopia + residual\n",
            "\n",
            "Finland,Western Europe,7.808700085,0.031156305,7.869766235,7.747633934,10.63926697,0.954329729,71.9008255,0.949172199,-0.059482019,0.195444584,1.972316742,1.285189509,1.499525905,0.961271405,0.66231674,0.159670442,0.477857262,2.762835026\n",
            "\n",
            "Denmark,Western Europe,7.645599842,0.033492286,7.711244583,7.579955101,10.77400112,0.955990791,72.40250397,0.951444268,0.066201776,0.168489456,1.972316742,1.326948524,1.503449202,0.979332566,0.665039897,0.242793396,0.495260328,2.432740688\n",
            "\n",
            "Switzerland,Western Europe,7.559899807,0.035014171,7.628527641,7.491271973,10.97993279,0.942846596,74.10244751,0.921336651,0.105911039,0.303728431,1.972316742,1.39077425,1.472403407,1.040533185,0.62895447,0.269055754,0.407945901,2.35026741\n",
            "\n"
          ]
        }
      ],
      "source": [
        "with open(\"./sample_data/WHR20_Data.csv\", 'r',encoding = \"latin-1\") as file:\n",
        "    for i in range(0,4):\n",
        "        print(file.readline())"
      ]
    },
    {
      "cell_type": "code",
      "execution_count": null,
      "metadata": {
        "colab": {
          "base_uri": "https://localhost:8080/"
        },
        "id": "EVwsz5R0Gmbf",
        "outputId": "6aca4a07-83a2-4c4f-846f-f48c75a943ff"
      },
      "outputs": [
        {
          "output_type": "stream",
          "name": "stdout",
          "text": [
            "If there are no errors, modules are load!\n"
          ]
        }
      ],
      "source": [
        "import matplotlib.pyplot as plt\n",
        "import numpy as np\n",
        "import sklearn.linear_model\n",
        "\n",
        "print(\"If there are no errors, modules are load!\")\n",
        "\n",
        "# this is a function to prepare the data to be trained. This solution is relative\n",
        "# to the provided example, do not be stressed for this at the moment.\n",
        "# We need firstly to understand data and have clear in mind what we want to obtain as output and what to we have as input.\n",
        "# In this case we have two files: GDP (Gross Domestic Product) for several nations indicating the \"average richness level\" ## of each country and the Life satisfaction. The goal is to correlate these two sets of values.\n",
        "\n",
        "# Firstly it is important to look at the data and see how they apppear:\n",
        "# This file has been taken from Kaggle: \n",
        "# https://www.kaggle.com/datasets/londeen/world-happiness-report-2020?resource=download"
      ]
    },
    {
      "cell_type": "code",
      "execution_count": null,
      "metadata": {
        "id": "F0DY3_BGGmb3",
        "outputId": "beff57c1-832e-4440-cba2-cdb22c5ecf00",
        "colab": {
          "base_uri": "https://localhost:8080/"
        }
      },
      "outputs": [
        {
          "output_type": "stream",
          "name": "stdout",
          "text": [
            "  Country name Regional indicator  Ladder score  \\\n",
            "0      Finland     Western Europe        7.8087   \n",
            "1      Denmark     Western Europe        7.6456   \n",
            "2  Switzerland     Western Europe        7.5599   \n",
            "3      Iceland     Western Europe        7.5045   \n",
            "4       Norway     Western Europe        7.4880   \n",
            "\n",
            "   Standard error of ladder score  upperwhisker  lowerwhisker  \\\n",
            "0                        0.031156      7.869766      7.747634   \n",
            "1                        0.033492      7.711245      7.579955   \n",
            "2                        0.035014      7.628528      7.491272   \n",
            "3                        0.059616      7.621347      7.387653   \n",
            "4                        0.034837      7.556281      7.419719   \n",
            "\n",
            "   Logged GDP per capita  Social support  Healthy life expectancy  \\\n",
            "0              10.639267        0.954330                71.900825   \n",
            "1              10.774001        0.955991                72.402504   \n",
            "2              10.979933        0.942847                74.102448   \n",
            "3              10.772559        0.974670                73.000000   \n",
            "4              11.087804        0.952487                73.200783   \n",
            "\n",
            "   Freedom to make life choices  Generosity  Perceptions of corruption  \\\n",
            "0                      0.949172   -0.059482                   0.195445   \n",
            "1                      0.951444    0.066202                   0.168489   \n",
            "2                      0.921337    0.105911                   0.303728   \n",
            "3                      0.948892    0.246944                   0.711710   \n",
            "4                      0.955750    0.134533                   0.263218   \n",
            "\n",
            "   Ladder score in Dystopia  Explained by: Log GDP per capita  \\\n",
            "0                  1.972317                          1.285190   \n",
            "1                  1.972317                          1.326949   \n",
            "2                  1.972317                          1.390774   \n",
            "3                  1.972317                          1.326502   \n",
            "4                  1.972317                          1.424207   \n",
            "\n",
            "   Explained by: Social support  Explained by: Healthy life expectancy  \\\n",
            "0                      1.499526                               0.961271   \n",
            "1                      1.503449                               0.979333   \n",
            "2                      1.472403                               1.040533   \n",
            "3                      1.547567                               1.000843   \n",
            "4                      1.495173                               1.008072   \n",
            "\n",
            "   Explained by: Freedom to make life choices  Explained by: Generosity  \\\n",
            "0                                    0.662317                  0.159670   \n",
            "1                                    0.665040                  0.242793   \n",
            "2                                    0.628954                  0.269056   \n",
            "3                                    0.661981                  0.362330   \n",
            "4                                    0.670201                  0.287985   \n",
            "\n",
            "   Explained by: Perceptions of corruption  Dystopia + residual  \n",
            "0                                 0.477857             2.762835  \n",
            "1                                 0.495260             2.432741  \n",
            "2                                 0.407946             2.350267  \n",
            "3                                 0.144541             2.460688  \n",
            "4                                 0.434101             2.168266  \n"
          ]
        }
      ],
      "source": [
        "import pandas as pd\n",
        "\n",
        "# Here we upload the data from csv files using pandas\n",
        "# the comma separates the coulms and we see the countries in each line.\n",
        "whdata = pd.read_csv(\"./sample_data/WHR20_Data.csv\", delimiter=',', encoding='latin1') \n",
        "print(whdata.head(5))\n",
        "# From this we understand there are two imporatnt colums \"Country\" and one with \"Value\" indicating the satisfaction per country. "
      ]
    },
    {
      "cell_type": "code",
      "execution_count": null,
      "metadata": {
        "id": "rSxkIpRVGmb6"
      },
      "outputs": [],
      "source": [
        "# From this we understand there are two important colums \"Country\" and one with \"Value\" indicating the satisfaction per country. \n",
        "\n",
        "# Now we want to separate those from the dataset\n",
        "whdata_ls_gdp = whdata[[\"Country name\", \"Ladder score\",\"Logged GDP per capita\"]]\n",
        "# print(whdata_ls_gdp)\n",
        "\n",
        "# Now we need to order the data according to the growing score\n",
        "whdata_ls_gdp_sorted = whdata_ls_gdp.sort_values(by=[\"Ladder score\"],ascending=True)\n",
        "#print (whdata_ls_gdp_sorted)\n",
        "\n",
        "## now we can plot the data\n",
        "#X = np.c_[whdata_ls_gdp_sorted[\"Logged GDP per capita\"]]\n",
        "\n",
        "list_x =  whdata_ls_gdp_sorted['Logged GDP per capita'].values.tolist()\n",
        "#print (list_x)\n",
        "X = np.array(list_x)\n",
        "#y = np.c_[whdata_ls_gdp_sorted[\"Ladder score\"]]\n",
        "list_y =  whdata_ls_gdp_sorted['Ladder score'].values.tolist()\n",
        "y = np.array(list_y)\n"
      ]
    },
    {
      "cell_type": "code",
      "execution_count": 39,
      "metadata": {
        "id": "3aEHRMiAGmb-",
        "outputId": "0b657287-57dd-4bff-af19-0ac110c080ae",
        "colab": {
          "base_uri": "https://localhost:8080/",
          "height": 298
        }
      },
      "outputs": [
        {
          "output_type": "execute_result",
          "data": {
            "text/plain": [
              "[<matplotlib.lines.Line2D at 0x7f2b7d747410>]"
            ]
          },
          "metadata": {},
          "execution_count": 39
        },
        {
          "output_type": "display_data",
          "data": {
            "text/plain": [
              "<Figure size 432x288 with 1 Axes>"
            ],
            "image/png": "[encoded data removed]"
          },
          "metadata": {
            "needs_background": "light"
          }
        }
      ],
      "source": [
        "# ployfit creates a \"curve\" starting from a set of points. In this case creates\n",
        "# a line because the order of the curve is 1.\n",
        "\n",
        "m, b = np.polyfit(list_x,list_y, 1)\n",
        "\n",
        "# Select a linear model\n",
        "\n",
        "\n",
        "# Train the model: the red dashed line represents the linear regressor to use for predictions\n",
        "\n",
        "\n",
        "\n",
        "# Visualize the data\n",
        "whdata_ls_gdp_sorted.plot(kind='scatter', x = \"Logged GDP per capita\", y = \"Ladder score\")\n",
        "plt.plot(np.array(list_x), m * np.array(list_x) + b, 'r--')\n",
        "#plt.show()\n",
        "\n",
        "\n"
      ]
    },
    {
      "cell_type": "code",
      "execution_count": 46,
      "metadata": {
        "id": "noX8b8PcGmcC",
        "outputId": "8f7abc6f-5232-469f-e06e-d589821576a0",
        "colab": {
          "base_uri": "https://localhost:8080/",
          "height": 316
        }
      },
      "outputs": [
        {
          "output_type": "stream",
          "name": "stdout",
          "text": [
            "Predited value [[5.4045481]]\n"
          ]
        },
        {
          "output_type": "execute_result",
          "data": {
            "text/plain": [
              "[<matplotlib.lines.Line2D at 0x7f2b7d495650>]"
            ]
          },
          "metadata": {},
          "execution_count": 46
        },
        {
          "output_type": "display_data",
          "data": {
            "text/plain": [
              "<Figure size 432x288 with 1 Axes>"
            ],
            "image/png": "[encoded data removed]"
          },
          "metadata": {
            "needs_background": "light"
          }
        }
      ],
      "source": [
        "# PREDICTION CELL\n",
        "#\n",
        "# Make a prediction for Cyprus for example:\n",
        "model = sklearn.linear_model.LinearRegression()\n",
        "X=X.reshape(-1,1)\n",
        "y=y.reshape(-1,1)\n",
        "model.fit(X,y)\n",
        "X_new = [[9.2]]  # Cyprus' GDP per capita\n",
        "Y_new = model.predict(X_new)\n",
        "\n",
        "print('Predited value',Y_new) # outputs \n",
        "\n",
        "## Exercise for home: try to add the new value to the old plot.\n",
        "\n",
        "# Visualisation of the data\n",
        "# Visualize the data\n",
        "whdata_ls_gdp_sorted.plot(kind='scatter', x = \"Logged GDP per capita\", y = \"Ladder score\")\n",
        "plt.plot(np.array(list_x), m * np.array(list_x) + b, 'r--')\n",
        "plt.plot(X_new,Y_new,'ro')\n",
        "\n",
        "#plt.show()\n"
      ]
    },
    {
      "cell_type": "code",
      "execution_count": null,
      "metadata": {
        "id": "Dw3y9cenGmcF"
      },
      "outputs": [],
      "source": [
        "# Task: create a new PREDICTION CELL. Copy by hand the previous cell line by line to familiarise with the language.\n",
        "# Reflect on the lines and try to think about what the meaning. Work in groups"
      ]
    }
  ],
  "metadata": {
    "kernelspec": {
      "display_name": "Python 3.9.13 ('venv')",
      "language": "python",
      "name": "python3"
    },
    "language_info": {
      "codemirror_mode": {
        "name": "ipython",
        "version": 3
      },
      "file_extension": ".py",
      "mimetype": "text/x-python",
      "name": "python",
      "nbconvert_exporter": "python",
      "pygments_lexer": "ipython3",
      "version": "3.9.13"
    },
    "orig_nbformat": 4,
    "vscode": {
      "interpreter": {
        "hash": "0893c847e86b6989aca98574b3fb25672d9afd474b88350388891778551f8785"
      }
    },
    "colab": {
      "provenance": [],
      "collapsed_sections": [],
      "include_colab_link": true
    }
  },
  "nbformat": 4,
  "nbformat_minor": 0
}