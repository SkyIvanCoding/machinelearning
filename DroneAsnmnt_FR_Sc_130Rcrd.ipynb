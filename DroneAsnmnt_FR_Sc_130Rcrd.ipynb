{
  "nbformat": 4,
  "nbformat_minor": 0,
  "metadata": {
    "colab": {
      "provenance": [],
      "include_colab_link": true
    },
    "kernelspec": {
      "name": "python3",
      "display_name": "Python 3"
    },
    "language_info": {
      "name": "python"
    }
  },
  "cells": [
    {
      "cell_type": "markdown",
      "metadata": {
        "id": "view-in-github",
        "colab_type": "text"
      },
      "source": [
        "<a href=\"https://colab.research.google.com/github/parwinderau/machinelearning/blob/main/DroneAsnmnt_FR_Sc_130Rcrd.ipynb\" target=\"_parent\"><img src=\"https://colab.research.google.com/assets/colab-badge.svg\" alt=\"Open In Colab\"/></a>"
      ]
    },
    {
      "cell_type": "code",
      "execution_count": 1,
      "metadata": {
        "colab": {
          "base_uri": "https://localhost:8080/"
        },
        "id": "kOPF3VNNCNVR",
        "outputId": "40b40ffe-9179-44e3-d7a6-cd90368525ac"
      },
      "outputs": [
        {
          "output_type": "stream",
          "name": "stdout",
          "text": [
            "﻿Model,L,W,H,P,V,S\n",
            "\n",
            "AAI Shadow 200,3400,4200,1050,1,2,48.61\n",
            "\n",
            "AAI Shadow 400,3841,5150,112,1,2,51.39\n",
            "\n",
            "AAI Shadow 600,4800,6830,1120,1,2,55.56\n",
            "\n"
          ]
        }
      ],
      "source": [
        "with open(\"./sample_data/Drone_Data_clnd130.csv\", 'r',encoding = \"utf-8\") as file:\n",
        "    for i in range(0,4):\n",
        "        print(file.readline())"
      ]
    },
    {
      "cell_type": "code",
      "source": [
        "import matplotlib.pyplot as plt\n",
        "import numpy as np\n",
        "import sklearn.linear_model\n",
        "\n",
        "print(\"If there are no errors, modules are load!\")"
      ],
      "metadata": {
        "colab": {
          "base_uri": "https://localhost:8080/"
        },
        "id": "K_Of0VfeCUuK",
        "outputId": "dcd87666-b7c2-461a-88ef-127f161ca7ed"
      },
      "execution_count": 2,
      "outputs": [
        {
          "output_type": "stream",
          "name": "stdout",
          "text": [
            "If there are no errors, modules are load!\n"
          ]
        }
      ]
    },
    {
      "cell_type": "code",
      "source": [
        "import pandas as pd\n",
        "\n",
        "# Here we upload the data from csv files using pandas\n",
        "# the comma separates the coulms and we see the countries in each line.\n",
        "dataFrame = pd.read_csv(\"./sample_data/Drone_Data_clnd130.csv\", delimiter=',', encoding='utf-8') \n",
        "\n",
        "#print(drdata.head())"
      ],
      "metadata": {
        "id": "tfZFXkLlCZYC"
      },
      "execution_count": 11,
      "outputs": []
    },
    {
      "cell_type": "code",
      "source": [
        "# Now we want to separate those from the dataset\n",
        "from sklearn import preprocessing\n",
        "df_l_w_h = dataFrame[[\"L\", \"W\",\"H\"]]\n",
        "#print(drdata_l_w_h.head())\n",
        "\n"
      ],
      "metadata": {
        "id": "MioP7VCIDi1L"
      },
      "execution_count": 12,
      "outputs": []
    },
    {
      "cell_type": "code",
      "source": [
        "#df_l_w_h.isnull()\n",
        "#Print Count of null values for each coloumn \n",
        "print(df_l_w_h.isnull().sum())"
      ],
      "metadata": {
        "colab": {
          "base_uri": "https://localhost:8080/"
        },
        "id": "tR76DIwKePBk",
        "outputId": "47f51fa6-0142-419e-a56c-24443f6c0fc1"
      },
      "execution_count": 13,
      "outputs": [
        {
          "output_type": "stream",
          "name": "stdout",
          "text": [
            "L     0\n",
            "W     0\n",
            "H    14\n",
            "dtype: int64\n"
          ]
        }
      ]
    },
    {
      "cell_type": "code",
      "source": [
        "\n",
        "# drop all rows with any NaN and NaT values\n",
        "df_l_w_h = df_l_w_h.dropna()\n",
        "print(df_l_w_h.isnull().sum())"
      ],
      "metadata": {
        "colab": {
          "base_uri": "https://localhost:8080/"
        },
        "id": "T50yTqQ7ePRx",
        "outputId": "ba0976aa-8b5d-48d0-af6f-c389e4070e0c"
      },
      "execution_count": 14,
      "outputs": [
        {
          "output_type": "stream",
          "name": "stdout",
          "text": [
            "L    0\n",
            "W    0\n",
            "H    0\n",
            "dtype: int64\n"
          ]
        }
      ]
    },
    {
      "cell_type": "code",
      "source": [
        "# Now we need to order the data according to the growing score\n",
        "df_sorted = df_l_w_h.sort_values(by=[\"H\"],ascending=True)\n",
        "#https://stackabuse.com/linear-regression-in-python-with-scikit-learn/\n",
        "\n",
        "df_sorted.dropna(\n",
        "    axis=0,\n",
        "    how='any',\n",
        "    thresh=None,\n",
        "    subset=None,\n",
        "    inplace=True\n",
        ")\n",
        "#Tell you rows and columns in oyur data\n",
        "df_sorted.shape\n",
        "\n",
        "#print(drdata_sorted.head(38))"
      ],
      "metadata": {
        "colab": {
          "base_uri": "https://localhost:8080/"
        },
        "id": "a_fKINKoFKsv",
        "outputId": "523730b5-e77b-4884-c547-c5dae2b788e7"
      },
      "execution_count": 15,
      "outputs": [
        {
          "output_type": "execute_result",
          "data": {
            "text/plain": [
              "(122, 3)"
            ]
          },
          "metadata": {},
          "execution_count": 15
        }
      ]
    },
    {
      "cell_type": "code",
      "source": [
        "#correlation between paramters\n",
        "print(df_sorted.corr())"
      ],
      "metadata": {
        "colab": {
          "base_uri": "https://localhost:8080/"
        },
        "id": "svxNDfss5Hae",
        "outputId": "7108ba23-e1c4-4ba2-909e-db8148736c28"
      },
      "execution_count": 16,
      "outputs": [
        {
          "output_type": "stream",
          "name": "stdout",
          "text": [
            "          L         W         H\n",
            "L  1.000000  0.793645  0.841842\n",
            "W  0.793645  1.000000  0.808515\n",
            "H  0.841842  0.808515  1.000000\n"
          ]
        }
      ]
    },
    {
      "cell_type": "code",
      "source": [
        "#d = preprocessing.normalize(df_sorted)\n",
        "d = df_sorted\n",
        "df_normalized = pd.DataFrame(d, columns=[\"L\", \"W\",\"H\"])\n",
        "df_normalized.head()"
      ],
      "metadata": {
        "colab": {
          "base_uri": "https://localhost:8080/",
          "height": 206
        },
        "id": "1fNGTXFf33lN",
        "outputId": "fbee6a0c-5e6b-4b98-bc5f-065d302fe059"
      },
      "execution_count": 17,
      "outputs": [
        {
          "output_type": "execute_result",
          "data": {
            "text/plain": [
              "        L     W      H\n",
              "98    155   300   60.0\n",
              "1    3841  5150  112.0\n",
              "35    820  1400  120.0\n",
              "124   680   860  200.0\n",
              "89   1200  1980  200.0"
            ],
            "text/html": [
              "\n",
              "  <div id=\"df-ba80e5ea-dcad-416b-b82b-4c67346fb573\">\n",
              "    <div class=\"colab-df-container\">\n",
              "      <div>\n",
              "<style scoped>\n",
              "    .dataframe tbody tr th:only-of-type {\n",
              "        vertical-align: middle;\n",
              "    }\n",
              "\n",
              "    .dataframe tbody tr th {\n",
              "        vertical-align: top;\n",
              "    }\n",
              "\n",
              "    .dataframe thead th {\n",
              "        text-align: right;\n",
              "    }\n",
              "</style>\n",
              "<table border=\"1\" class=\"dataframe\">\n",
              "  <thead>\n",
              "    <tr style=\"text-align: right;\">\n",
              "      <th></th>\n",
              "      <th>L</th>\n",
              "      <th>W</th>\n",
              "      <th>H</th>\n",
              "    </tr>\n",
              "  </thead>\n",
              "  <tbody>\n",
              "    <tr>\n",
              "      <th>98</th>\n",
              "      <td>155</td>\n",
              "      <td>300</td>\n",
              "      <td>60.0</td>\n",
              "    </tr>\n",
              "    <tr>\n",
              "      <th>1</th>\n",
              "      <td>3841</td>\n",
              "      <td>5150</td>\n",
              "      <td>112.0</td>\n",
              "    </tr>\n",
              "    <tr>\n",
              "      <th>35</th>\n",
              "      <td>820</td>\n",
              "      <td>1400</td>\n",
              "      <td>120.0</td>\n",
              "    </tr>\n",
              "    <tr>\n",
              "      <th>124</th>\n",
              "      <td>680</td>\n",
              "      <td>860</td>\n",
              "      <td>200.0</td>\n",
              "    </tr>\n",
              "    <tr>\n",
              "      <th>89</th>\n",
              "      <td>1200</td>\n",
              "      <td>1980</td>\n",
              "      <td>200.0</td>\n",
              "    </tr>\n",
              "  </tbody>\n",
              "</table>\n",
              "</div>\n",
              "      <button class=\"colab-df-convert\" onclick=\"convertToInteractive('df-ba80e5ea-dcad-416b-b82b-4c67346fb573')\"\n",
              "              title=\"Convert this dataframe to an interactive table.\"\n",
              "              style=\"display:none;\">\n",
              "        \n",
              "  <svg xmlns=\"http://www.w3.org/2000/svg\" height=\"24px\"viewBox=\"0 0 24 24\"\n",
              "       width=\"24px\">\n",
              "    <path d=\"M0 0h24v24H0V0z\" fill=\"none\"/>\n",
              "    <path d=\"M18.56 5.44l.94 2.06.94-2.06 2.06-.94-2.06-.94-.94-2.06-.94 2.06-2.06.94zm-11 1L8.5 8.5l.94-2.06 2.06-.94-2.06-.94L8.5 2.5l-.94 2.06-2.06.94zm10 10l.94 2.06.94-2.06 2.06-.94-2.06-.94-.94-2.06-.94 2.06-2.06.94z\"/><path d=\"M17.41 7.96l-1.37-1.37c-.4-.4-.92-.59-1.43-.59-.52 0-1.04.2-1.43.59L10.3 9.45l-7.72 7.72c-.78.78-.78 2.05 0 2.83L4 21.41c.39.39.9.59 1.41.59.51 0 1.02-.2 1.41-.59l7.78-7.78 2.81-2.81c.8-.78.8-2.07 0-2.86zM5.41 20L4 18.59l7.72-7.72 1.47 1.35L5.41 20z\"/>\n",
              "  </svg>\n",
              "      </button>\n",
              "      \n",
              "  <style>\n",
              "    .colab-df-container {\n",
              "      display:flex;\n",
              "      flex-wrap:wrap;\n",
              "      gap: 12px;\n",
              "    }\n",
              "\n",
              "    .colab-df-convert {\n",
              "      background-color: #E8F0FE;\n",
              "      border: none;\n",
              "      border-radius: 50%;\n",
              "      cursor: pointer;\n",
              "      display: none;\n",
              "      fill: #1967D2;\n",
              "      height: 32px;\n",
              "      padding: 0 0 0 0;\n",
              "      width: 32px;\n",
              "    }\n",
              "\n",
              "    .colab-df-convert:hover {\n",
              "      background-color: #E2EBFA;\n",
              "      box-shadow: 0px 1px 2px rgba(60, 64, 67, 0.3), 0px 1px 3px 1px rgba(60, 64, 67, 0.15);\n",
              "      fill: #174EA6;\n",
              "    }\n",
              "\n",
              "    [theme=dark] .colab-df-convert {\n",
              "      background-color: #3B4455;\n",
              "      fill: #D2E3FC;\n",
              "    }\n",
              "\n",
              "    [theme=dark] .colab-df-convert:hover {\n",
              "      background-color: #434B5C;\n",
              "      box-shadow: 0px 1px 3px 1px rgba(0, 0, 0, 0.15);\n",
              "      filter: drop-shadow(0px 1px 2px rgba(0, 0, 0, 0.3));\n",
              "      fill: #FFFFFF;\n",
              "    }\n",
              "  </style>\n",
              "\n",
              "      <script>\n",
              "        const buttonEl =\n",
              "          document.querySelector('#df-ba80e5ea-dcad-416b-b82b-4c67346fb573 button.colab-df-convert');\n",
              "        buttonEl.style.display =\n",
              "          google.colab.kernel.accessAllowed ? 'block' : 'none';\n",
              "\n",
              "        async function convertToInteractive(key) {\n",
              "          const element = document.querySelector('#df-ba80e5ea-dcad-416b-b82b-4c67346fb573');\n",
              "          const dataTable =\n",
              "            await google.colab.kernel.invokeFunction('convertToInteractive',\n",
              "                                                     [key], {});\n",
              "          if (!dataTable) return;\n",
              "\n",
              "          const docLinkHtml = 'Like what you see? Visit the ' +\n",
              "            '<a target=\"_blank\" href=https://colab.research.google.com/notebooks/data_table.ipynb>data table notebook</a>'\n",
              "            + ' to learn more about interactive tables.';\n",
              "          element.innerHTML = '';\n",
              "          dataTable['output_type'] = 'display_data';\n",
              "          await google.colab.output.renderOutput(dataTable, element);\n",
              "          const docLink = document.createElement('div');\n",
              "          docLink.innerHTML = docLinkHtml;\n",
              "          element.appendChild(docLink);\n",
              "        }\n",
              "      </script>\n",
              "    </div>\n",
              "  </div>\n",
              "  "
            ]
          },
          "metadata": {},
          "execution_count": 17
        }
      ]
    },
    {
      "cell_type": "code",
      "source": [
        "print(df_normalized.head(38))"
      ],
      "metadata": {
        "id": "LOFYqZ4FzwPM",
        "colab": {
          "base_uri": "https://localhost:8080/"
        },
        "outputId": "fb4d1deb-71cf-4090-c41d-9d51adcf448c"
      },
      "execution_count": 18,
      "outputs": [
        {
          "output_type": "stream",
          "name": "stdout",
          "text": [
            "        L     W      H\n",
            "98    155   300   60.0\n",
            "1    3841  5150  112.0\n",
            "35    820  1400  120.0\n",
            "124   680   860  200.0\n",
            "89   1200  1980  200.0\n",
            "77    860  1320  240.0\n",
            "78    700  1200  250.0\n",
            "55   1800  2000  300.0\n",
            "67    900  2000  300.0\n",
            "71   1400  1600  300.0\n",
            "102  1200  1300  300.0\n",
            "17   1820  2900  300.0\n",
            "25   1800  3400  300.0\n",
            "117  1000  1400  300.0\n",
            "79   2200  3000  350.0\n",
            "26    980  1500  350.0\n",
            "65    970  1200  360.0\n",
            "44    900   850  360.0\n",
            "72   2400  2800  380.0\n",
            "64   1980  3120  380.0\n",
            "92   1500  2100  400.0\n",
            "76   2400  3200  400.0\n",
            "34   1220  2440  400.0\n",
            "33    790  1200  400.0\n",
            "30   2400  3000  400.0\n",
            "63   1370  3110  400.0\n",
            "125  1800  2300  400.0\n",
            "24   1500  2000  400.0\n",
            "13   1830  3050  400.0\n",
            "103  2140  3120  400.0\n",
            "14   2080  3940  420.0\n",
            "131  1800  2210  430.0\n",
            "96   1830  3660  440.0\n",
            "52   2000  3300  440.0\n",
            "56   2600  3200  450.0\n",
            "88   2500  2350  450.0\n",
            "132  2500  3200  450.0\n",
            "108  3200  3500  460.0\n"
          ]
        }
      ]
    },
    {
      "cell_type": "code",
      "source": [
        "print(df_normalized.describe())"
      ],
      "metadata": {
        "colab": {
          "base_uri": "https://localhost:8080/"
        },
        "id": "b9M02OC6Jp8G",
        "outputId": "cef99751-84ac-42ca-981d-0a674c03b910"
      },
      "execution_count": 19,
      "outputs": [
        {
          "output_type": "stream",
          "name": "stdout",
          "text": [
            "                  L             W            H\n",
            "count    122.000000    122.000000   122.000000\n",
            "mean    4402.909836   6594.508197  1054.934426\n",
            "std     4286.015000   7598.433734   860.111820\n",
            "min      155.000000    300.000000    60.000000\n",
            "25%     2000.000000   2907.500000   422.500000\n",
            "50%     2800.000000   3920.000000   855.000000\n",
            "75%     4782.500000   6455.000000  1242.500000\n",
            "max    22000.000000  53000.000000  4200.000000\n"
          ]
        }
      ]
    },
    {
      "cell_type": "code",
      "source": [
        "#Multiple linear Regressor\n",
        "#https://www.analyticsvidhya.com/blog/2021/05/multiple-linear-regression-using-python-and-scikit-learn/\n",
        "\n",
        "%matplotlib inline\n",
        "import matplotlib.pyplot as plt\n",
        "df_normalized.hist(bins=50, figsize=(20,15))\n",
        "#save_fig('histograms')\n",
        "plt.show()"
      ],
      "metadata": {
        "id": "-NflgJ2WK0wR",
        "colab": {
          "base_uri": "https://localhost:8080/",
          "height": 654
        },
        "outputId": "cf70374c-0234-4899-973a-662791fd2237"
      },
      "execution_count": 33,
      "outputs": [
        {
          "output_type": "display_data",
          "data": {
            "text/plain": [
              "<Figure size 1440x1080 with 4 Axes>"
            ],
            "image/png": "[encoded data removed]"
          },
          "metadata": {
            "needs_background": "light"
          }
        }
      ]
    },
    {
      "cell_type": "code",
      "source": [
        "np.random.seed(42)\n",
        "from sklearn.model_selection import train_test_split\n",
        "'''\n",
        "d= df_normalized.drop(columns = 'H')\n",
        "d=preprocessing.normalize(d)\n",
        "X=pd.DataFrame(d, columns=[\"L\", \"W\"])\n",
        "'''\n",
        "X= df_normalized.drop(columns = 'H')\n",
        "y=df_normalized['H']\n",
        "X_train, X_test,y_train,y_test = train_test_split(X,y, test_size=0.2, random_state=42)\n",
        "#test_set.head()"
      ],
      "metadata": {
        "id": "dZqeyZjtMg7a"
      },
      "execution_count": 42,
      "outputs": []
    },
    {
      "cell_type": "code",
      "source": [
        "y.head(11)"
      ],
      "metadata": {
        "colab": {
          "base_uri": "https://localhost:8080/"
        },
        "id": "cb_nkhdS9le0",
        "outputId": "9c210f58-24b1-4e80-fd76-e4efdd45a741"
      },
      "execution_count": 43,
      "outputs": [
        {
          "output_type": "execute_result",
          "data": {
            "text/plain": [
              "98      60.0\n",
              "1      112.0\n",
              "35     120.0\n",
              "124    200.0\n",
              "89     200.0\n",
              "77     240.0\n",
              "78     250.0\n",
              "55     300.0\n",
              "67     300.0\n",
              "71     300.0\n",
              "102    300.0\n",
              "Name: H, dtype: float64"
            ]
          },
          "metadata": {},
          "execution_count": 43
        }
      ]
    },
    {
      "cell_type": "code",
      "source": [
        "\n",
        "d_names = (X_train, y_test)\n",
        "y_pos = range(len(d_names))\n",
        "plt.bar(\n",
        "    y_pos, \n",
        "    (X_train.shape[0], y_test.shape[0]), \n",
        "    align='center', \n",
        "    alpha=0.8\n",
        ")\n",
        "\n",
        "plt.ylabel('Number of rows') \n",
        "plt.title('😱 Train Vs Test Samples!')\n",
        "plt.show()\n"
      ],
      "metadata": {
        "colab": {
          "base_uri": "https://localhost:8080/",
          "height": 281
        },
        "id": "prCy342b8vnX",
        "outputId": "1e7ddf07-908d-4395-d4f2-bfb71ab4c7cc"
      },
      "execution_count": 44,
      "outputs": [
        {
          "output_type": "display_data",
          "data": {
            "text/plain": [
              "<Figure size 432x288 with 1 Axes>"
            ],
            "image/png": "[encoded data removed]"
          },
          "metadata": {
            "needs_background": "light"
          }
        }
      ]
    },
    {
      "cell_type": "code",
      "source": [
        "from sklearn.preprocessing import StandardScaler\n",
        "scaler = StandardScaler()\n",
        "X_train_scaled = scaler.fit_transform(X_train)\n",
        "X_test_scaled = scaler.transform(X_test)\n",
        "#X_train_scaled = X_train\n",
        "#X_test_scaled = X_test\n",
        "#df_prepared = full_pipeline.fit_transform(df_lw)\n",
        "#label_prepared = full_pipeline.transform(df_h_label) \n",
        "#df_prepared\n",
        "X_test_scaled"
      ],
      "metadata": {
        "colab": {
          "base_uri": "https://localhost:8080/"
        },
        "id": "ZSla9FLInQti",
        "outputId": "445dacae-914a-458b-ceb4-0900e4bbcc11"
      },
      "execution_count": 45,
      "outputs": [
        {
          "output_type": "execute_result",
          "data": {
            "text/plain": [
              "array([[-0.47757619, -0.50440539],\n",
              "       [-0.21985253, -0.1738755 ],\n",
              "       [-0.50100561, -0.54254345],\n",
              "       [ 0.36588306,  0.29649396],\n",
              "       [-0.75872927, -0.60864943],\n",
              "       [ 0.08472997, -0.16116281],\n",
              "       [-0.3838585 , -0.46626732],\n",
              "       [ 0.88133037,  0.41090815],\n",
              "       [-0.61815273, -0.57941025],\n",
              "       [-0.54786446, -0.38999119],\n",
              "       [ 1.48112362, -0.18277438],\n",
              "       [ 3.5991435 ,  1.93643072],\n",
              "       [-0.75872927, -0.69509571],\n",
              "       [-0.08396188, -0.08488668],\n",
              "       [ 0.28153713,  0.17445216],\n",
              "       [-0.61346685, -0.4916927 ],\n",
              "       [-0.94639895, -0.13573743],\n",
              "       [-0.57129388, -0.55525614],\n",
              "       [ 1.67793077,  2.76275544],\n",
              "       [-1.00356675, -0.82222259],\n",
              "       [-0.61815273, -0.56796883],\n",
              "       [-0.3838585 , -0.44084195],\n",
              "       [-0.43071734, -0.30100238],\n",
              "       [ 0.00975582, -0.08488668],\n",
              "       [-0.47757619, -0.47898001]])"
            ]
          },
          "metadata": {},
          "execution_count": 45
        }
      ]
    },
    {
      "cell_type": "code",
      "source": [
        "\n",
        "from sklearn.ensemble import RandomForestRegressor\n",
        "from sklearn.linear_model import LogisticRegression\n",
        "\n",
        "#reg = LogisticRegression(random_state=42)\n",
        "reg = RandomForestRegressor(n_estimators=10, random_state=42)\n",
        "#reg = SVR(kernel=\"linear\")\n",
        "#reg = LinearRegression()\n",
        "reg.fit(X_train_scaled,y_train)\n"
      ],
      "metadata": {
        "colab": {
          "base_uri": "https://localhost:8080/"
        },
        "id": "J2fvtAD-N5hs",
        "outputId": "422ab659-81bb-4289-9325-5dffe684ab58"
      },
      "execution_count": 46,
      "outputs": [
        {
          "output_type": "execute_result",
          "data": {
            "text/plain": [
              "RandomForestRegressor(n_estimators=10, random_state=42)"
            ]
          },
          "metadata": {},
          "execution_count": 46
        }
      ]
    },
    {
      "cell_type": "code",
      "source": [
        "reg.predict(X_train_scaled)\n"
      ],
      "metadata": {
        "colab": {
          "base_uri": "https://localhost:8080/"
        },
        "id": "DJzZUN5kf38y",
        "outputId": "811bcd3f-49fc-4333-cd94-d5b7ebda16cc"
      },
      "execution_count": 47,
      "outputs": [
        {
          "output_type": "execute_result",
          "data": {
            "text/plain": [
              "array([ 709.        , 2410.        , 1341.        ,  537.        ,\n",
              "       1760.        ,  338.        ,  330.        ,  830.75      ,\n",
              "        440.        , 2690.        ,  984.        , 1172.        ,\n",
              "        555.        ,  950.25      ,  899.        ,  305.        ,\n",
              "        510.        ,  416.        ,  772.        ,  374.        ,\n",
              "       3762.        , 2520.        ,  198.        ,  891.        ,\n",
              "        914.75      ,  726.        ,  745.66666667,  522.        ,\n",
              "        353.        ,  785.        ,  699.        , 1172.        ,\n",
              "        330.        ,  605.        , 1052.        ,  528.88095238,\n",
              "       1020.        ,  350.        ,  382.        , 1950.        ,\n",
              "       2240.        ,  310.        ,  311.        , 1172.        ,\n",
              "        230.        ,  354.        ,  550.        , 1275.        ,\n",
              "        265.        , 1016.        , 1906.        , 1560.        ,\n",
              "       1084.        ,  676.        , 1004.        ,  580.        ,\n",
              "       2159.        ,  950.25      , 3220.        , 1031.5       ,\n",
              "       1620.        ,  528.88095238,  766.        , 1029.        ,\n",
              "       1094.        , 3154.        ,  810.        ,  733.6       ,\n",
              "        456.        , 2420.        ,  909.        ,  949.        ,\n",
              "       2198.        ,  604.        ,  452.        , 2136.        ,\n",
              "        459.2       ,  745.66666667,  528.88095238,  172.        ,\n",
              "        354.        , 1680.        , 1341.        , 1102.        ,\n",
              "       2270.        , 1102.        , 1317.        , 1136.        ,\n",
              "       3906.        ,  420.        ,  860.        , 1002.        ,\n",
              "       2267.        ,  417.91666667, 2150.        ,  693.2       ,\n",
              "       2000.        ])"
            ]
          },
          "metadata": {},
          "execution_count": 47
        }
      ]
    },
    {
      "cell_type": "code",
      "source": [
        "reg.score(X_train_scaled,y_train)"
      ],
      "metadata": {
        "colab": {
          "base_uri": "https://localhost:8080/"
        },
        "id": "tt1zfsmNf7Ox",
        "outputId": "c34e60b9-64d7-43ff-e2b7-5f267fc2e8a3"
      },
      "execution_count": 48,
      "outputs": [
        {
          "output_type": "execute_result",
          "data": {
            "text/plain": [
              "0.9488747050593974"
            ]
          },
          "metadata": {},
          "execution_count": 48
        }
      ]
    },
    {
      "cell_type": "code",
      "source": [
        "reg.score(X_test_scaled,y_test)"
      ],
      "metadata": {
        "colab": {
          "base_uri": "https://localhost:8080/"
        },
        "id": "uE9AAdYEgLeh",
        "outputId": "9ffaaf58-17af-49ca-fbca-f6a08b182438"
      },
      "execution_count": 49,
      "outputs": [
        {
          "output_type": "execute_result",
          "data": {
            "text/plain": [
              "0.8218888859866584"
            ]
          },
          "metadata": {},
          "execution_count": 49
        }
      ]
    },
    {
      "cell_type": "code",
      "source": [
        "#value wise prediction\n",
        "some_data = X_train.iloc[:5]\n",
        "some_labels = y_train.iloc[:5]\n",
        "# Part of the dataset (not used for training) is used to build for the prediction\n",
        "some_data_prepared = scaler.transform(some_data)\n",
        "\n",
        "print(\"Predictions:\", reg.predict(some_data_prepared))\n",
        "print(\"Labels:\", list(some_labels))"
      ],
      "metadata": {
        "colab": {
          "base_uri": "https://localhost:8080/"
        },
        "id": "vsnCxF6FoWPS",
        "outputId": "f49a98be-227c-4434-ae7a-be338467d5fb"
      },
      "execution_count": 50,
      "outputs": [
        {
          "output_type": "stream",
          "name": "stdout",
          "text": [
            "Predictions: [ 709. 2410. 1341.  537. 1760.]\n",
            "Labels: [520.0, 1900.0, 1390.0, 450.0, 1760.0]\n"
          ]
        }
      ]
    },
    {
      "cell_type": "code",
      "source": [
        "from sklearn.metrics import mean_squared_error\n",
        "from sklearn.metrics import mean_absolute_error\n",
        "\n",
        "df_predictions = reg.predict(X_train_scaled)\n",
        "mse = mean_squared_error(y_train, df_predictions)\n",
        "rmse = np.sqrt(mse)\n",
        "mae = mean_absolute_error(y_train, df_predictions)\n",
        "#print('My name is', os.getlogin(), 'and I am', 42)\n",
        "print ('RMSE:', rmse, 'and MAE:', mae) "
      ],
      "metadata": {
        "id": "zoGGKOUWOh9n",
        "colab": {
          "base_uri": "https://localhost:8080/"
        },
        "outputId": "61ae9e1f-23e6-42d3-86c6-759fe143407c"
      },
      "execution_count": 51,
      "outputs": [
        {
          "output_type": "stream",
          "name": "stdout",
          "text": [
            "RMSE: 193.08089555025515 and MAE: 126.02093765341188\n"
          ]
        }
      ]
    },
    {
      "cell_type": "code",
      "source": [
        "def display_scores(scores):\n",
        "    print(\"Scores:\", scores)\n",
        "    print(\"Mean:\", scores.mean())\n",
        "    print(\"Standard deviation:\", scores.std())\n",
        "    \n",
        "from sklearn.model_selection import cross_val_score\n",
        "# cross_val_score is a way to use the cross-validation in sklearn.\n",
        "# cross validation https://scikit-learn.org/stable/modules/cross_validation.html\n",
        "cross_validation_scores = cross_val_score(reg, X_train_scaled, y_train,\n",
        "                                          scoring=\"neg_mean_squared_error\", cv=10)\n",
        "rmse_scores = np.sqrt(-cross_validation_scores)\n",
        "display_scores(rmse_scores)"
      ],
      "metadata": {
        "colab": {
          "base_uri": "https://localhost:8080/"
        },
        "id": "s0eZ4kOgxitz",
        "outputId": "35e0d2e1-d4cb-4525-952c-739ede5d5c28"
      },
      "execution_count": 52,
      "outputs": [
        {
          "output_type": "stream",
          "name": "stdout",
          "text": [
            "Scores: [668.64471134 238.5890295  242.05202127 265.80475813 262.65395485\n",
            " 774.9531831  583.86699437 448.28085883 318.2615975  677.39655363]\n",
            "Mean: 448.050366252226\n",
            "Standard deviation: 199.32711438028704\n"
          ]
        }
      ]
    }
  ]
}