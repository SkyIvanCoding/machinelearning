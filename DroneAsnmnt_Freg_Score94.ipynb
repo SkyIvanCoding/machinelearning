{
  "nbformat": 4,
  "nbformat_minor": 0,
  "metadata": {
    "colab": {
      "provenance": [],
      "authorship_tag": "ABX9TyMbYO8DV819x0Beh+wgScHO",
      "include_colab_link": true
    },
    "kernelspec": {
      "name": "python3",
      "display_name": "Python 3"
    },
    "language_info": {
      "name": "python"
    }
  },
  "cells": [
    {
      "cell_type": "markdown",
      "metadata": {
        "id": "view-in-github",
        "colab_type": "text"
      },
      "source": [
        "<a href=\"https://colab.research.google.com/github/parwinderau/machinelearning/blob/main/DroneAsnmnt_Freg_Score94.ipynb\" target=\"_parent\"><img src=\"https://colab.research.google.com/assets/colab-badge.svg\" alt=\"Open In Colab\"/></a>"
      ]
    },
    {
      "cell_type": "code",
      "execution_count": 14,
      "metadata": {
        "colab": {
          "base_uri": "https://localhost:8080/"
        },
        "id": "kOPF3VNNCNVR",
        "outputId": "bf4c846a-58ce-48a4-9d9a-ab36c745b73e"
      },
      "outputs": [
        {
          "output_type": "stream",
          "name": "stdout",
          "text": [
            "﻿Model,L,W,H,Propellers total,Vertical stabilizer Winglets,Max speed,,,,,,,,,,,,,,,,,,,,,\n",
            "\n",
            "Aerob 4D,1450,3600,440,1,2,41.67,,,,,,,,,,,,,,,,,,,,,\n",
            "\n",
            "AeroVironment Wasp III,380,720,150,1,1,18.06,,,,,,,,,,,,,,,,,,,,,\n",
            "\n",
            "Apex,1850,4300,500,1,2,27.78,,,,,,,,,,,,,,,,,,,,,\n",
            "\n"
          ]
        }
      ],
      "source": [
        "with open(\"./sample_data/Drone_Data_clnd.csv\", 'r',encoding = \"utf-8\") as file:\n",
        "    for i in range(0,4):\n",
        "        print(file.readline())"
      ]
    },
    {
      "cell_type": "code",
      "source": [
        "import matplotlib.pyplot as plt\n",
        "import numpy as np\n",
        "import sklearn.linear_model\n",
        "\n",
        "print(\"If there are no errors, modules are load!\")"
      ],
      "metadata": {
        "colab": {
          "base_uri": "https://localhost:8080/"
        },
        "id": "K_Of0VfeCUuK",
        "outputId": "11bc5051-1bf7-4c60-9ffc-fe06a48db4d0"
      },
      "execution_count": 15,
      "outputs": [
        {
          "output_type": "stream",
          "name": "stdout",
          "text": [
            "If there are no errors, modules are load!\n"
          ]
        }
      ]
    },
    {
      "cell_type": "code",
      "source": [
        "import pandas as pd\n",
        "\n",
        "# Here we upload the data from csv files using pandas\n",
        "# the comma separates the coulms and we see the countries in each line.\n",
        "dataFrame = pd.read_csv(\"./sample_data/Drone_Data_clnd.csv\", delimiter=',', encoding='utf-8') \n",
        "\n",
        "#print(drdata.head())"
      ],
      "metadata": {
        "id": "tfZFXkLlCZYC"
      },
      "execution_count": 16,
      "outputs": []
    },
    {
      "cell_type": "code",
      "source": [
        "# Now we want to separate those from the dataset\n",
        "from sklearn import preprocessing\n",
        "df_l_w_h = dataFrame[[\"L\", \"W\",\"H\"]]\n",
        "#print(drdata_l_w_h.head())\n",
        "#df_l_w_h.isnull()\n"
      ],
      "metadata": {
        "id": "MioP7VCIDi1L"
      },
      "execution_count": 17,
      "outputs": []
    },
    {
      "cell_type": "code",
      "source": [
        "# Now we need to order the data according to the growing score\n",
        "df_sorted = df_l_w_h.sort_values(by=[\"H\"],ascending=True)\n",
        "#https://stackabuse.com/linear-regression-in-python-with-scikit-learn/\n",
        "\n",
        "df_sorted.dropna(\n",
        "    axis=0,\n",
        "    how='any',\n",
        "    thresh=None,\n",
        "    subset=None,\n",
        "    inplace=True\n",
        ")\n",
        "#Tell you rows and columns in oyur data\n",
        "df_sorted.shape\n",
        "\n",
        "#print(drdata_sorted.head(38))"
      ],
      "metadata": {
        "colab": {
          "base_uri": "https://localhost:8080/"
        },
        "id": "a_fKINKoFKsv",
        "outputId": "f8a716b8-c76a-42d6-86f2-44405f5666d2"
      },
      "execution_count": 18,
      "outputs": [
        {
          "output_type": "execute_result",
          "data": {
            "text/plain": [
              "(38, 3)"
            ]
          },
          "metadata": {},
          "execution_count": 18
        }
      ]
    },
    {
      "cell_type": "code",
      "source": [
        "#correlation between paramters\n",
        "print(df_sorted.corr())"
      ],
      "metadata": {
        "colab": {
          "base_uri": "https://localhost:8080/"
        },
        "id": "svxNDfss5Hae",
        "outputId": "2dd2aba3-0d8d-437b-e410-9c987fd2ea1d"
      },
      "execution_count": 19,
      "outputs": [
        {
          "output_type": "stream",
          "name": "stdout",
          "text": [
            "          L         W         H\n",
            "L  1.000000  0.958773  0.920486\n",
            "W  0.958773  1.000000  0.907141\n",
            "H  0.920486  0.907141  1.000000\n"
          ]
        }
      ]
    },
    {
      "cell_type": "code",
      "source": [
        "#d = preprocessing.normalize(df_sorted)\n",
        "d = df_sorted\n",
        "df_normalized = pd.DataFrame(d, columns=[\"L\", \"W\",\"H\"])\n",
        "df_normalized.head()"
      ],
      "metadata": {
        "colab": {
          "base_uri": "https://localhost:8080/",
          "height": 206
        },
        "id": "1fNGTXFf33lN",
        "outputId": "d266a0de-f3b3-4f62-8fcc-790c55264d6e"
      },
      "execution_count": 55,
      "outputs": [
        {
          "output_type": "execute_result",
          "data": {
            "text/plain": [
              "         L       W      H\n",
              "4    190.0   150.0    5.0\n",
              "14  4500.0  3660.0   31.0\n",
              "8    450.0  1470.0  120.0\n",
              "15   720.0  1280.0  128.0\n",
              "1    380.0   720.0  150.0"
            ],
            "text/html": [
              "\n",
              "  <div id=\"df-81bf1d3a-f1b4-46e1-b182-5787b5045b6e\">\n",
              "    <div class=\"colab-df-container\">\n",
              "      <div>\n",
              "<style scoped>\n",
              "    .dataframe tbody tr th:only-of-type {\n",
              "        vertical-align: middle;\n",
              "    }\n",
              "\n",
              "    .dataframe tbody tr th {\n",
              "        vertical-align: top;\n",
              "    }\n",
              "\n",
              "    .dataframe thead th {\n",
              "        text-align: right;\n",
              "    }\n",
              "</style>\n",
              "<table border=\"1\" class=\"dataframe\">\n",
              "  <thead>\n",
              "    <tr style=\"text-align: right;\">\n",
              "      <th></th>\n",
              "      <th>L</th>\n",
              "      <th>W</th>\n",
              "      <th>H</th>\n",
              "    </tr>\n",
              "  </thead>\n",
              "  <tbody>\n",
              "    <tr>\n",
              "      <th>4</th>\n",
              "      <td>190.0</td>\n",
              "      <td>150.0</td>\n",
              "      <td>5.0</td>\n",
              "    </tr>\n",
              "    <tr>\n",
              "      <th>14</th>\n",
              "      <td>4500.0</td>\n",
              "      <td>3660.0</td>\n",
              "      <td>31.0</td>\n",
              "    </tr>\n",
              "    <tr>\n",
              "      <th>8</th>\n",
              "      <td>450.0</td>\n",
              "      <td>1470.0</td>\n",
              "      <td>120.0</td>\n",
              "    </tr>\n",
              "    <tr>\n",
              "      <th>15</th>\n",
              "      <td>720.0</td>\n",
              "      <td>1280.0</td>\n",
              "      <td>128.0</td>\n",
              "    </tr>\n",
              "    <tr>\n",
              "      <th>1</th>\n",
              "      <td>380.0</td>\n",
              "      <td>720.0</td>\n",
              "      <td>150.0</td>\n",
              "    </tr>\n",
              "  </tbody>\n",
              "</table>\n",
              "</div>\n",
              "      <button class=\"colab-df-convert\" onclick=\"convertToInteractive('df-81bf1d3a-f1b4-46e1-b182-5787b5045b6e')\"\n",
              "              title=\"Convert this dataframe to an interactive table.\"\n",
              "              style=\"display:none;\">\n",
              "        \n",
              "  <svg xmlns=\"http://www.w3.org/2000/svg\" height=\"24px\"viewBox=\"0 0 24 24\"\n",
              "       width=\"24px\">\n",
              "    <path d=\"M0 0h24v24H0V0z\" fill=\"none\"/>\n",
              "    <path d=\"M18.56 5.44l.94 2.06.94-2.06 2.06-.94-2.06-.94-.94-2.06-.94 2.06-2.06.94zm-11 1L8.5 8.5l.94-2.06 2.06-.94-2.06-.94L8.5 2.5l-.94 2.06-2.06.94zm10 10l.94 2.06.94-2.06 2.06-.94-2.06-.94-.94-2.06-.94 2.06-2.06.94z\"/><path d=\"M17.41 7.96l-1.37-1.37c-.4-.4-.92-.59-1.43-.59-.52 0-1.04.2-1.43.59L10.3 9.45l-7.72 7.72c-.78.78-.78 2.05 0 2.83L4 21.41c.39.39.9.59 1.41.59.51 0 1.02-.2 1.41-.59l7.78-7.78 2.81-2.81c.8-.78.8-2.07 0-2.86zM5.41 20L4 18.59l7.72-7.72 1.47 1.35L5.41 20z\"/>\n",
              "  </svg>\n",
              "      </button>\n",
              "      \n",
              "  <style>\n",
              "    .colab-df-container {\n",
              "      display:flex;\n",
              "      flex-wrap:wrap;\n",
              "      gap: 12px;\n",
              "    }\n",
              "\n",
              "    .colab-df-convert {\n",
              "      background-color: #E8F0FE;\n",
              "      border: none;\n",
              "      border-radius: 50%;\n",
              "      cursor: pointer;\n",
              "      display: none;\n",
              "      fill: #1967D2;\n",
              "      height: 32px;\n",
              "      padding: 0 0 0 0;\n",
              "      width: 32px;\n",
              "    }\n",
              "\n",
              "    .colab-df-convert:hover {\n",
              "      background-color: #E2EBFA;\n",
              "      box-shadow: 0px 1px 2px rgba(60, 64, 67, 0.3), 0px 1px 3px 1px rgba(60, 64, 67, 0.15);\n",
              "      fill: #174EA6;\n",
              "    }\n",
              "\n",
              "    [theme=dark] .colab-df-convert {\n",
              "      background-color: #3B4455;\n",
              "      fill: #D2E3FC;\n",
              "    }\n",
              "\n",
              "    [theme=dark] .colab-df-convert:hover {\n",
              "      background-color: #434B5C;\n",
              "      box-shadow: 0px 1px 3px 1px rgba(0, 0, 0, 0.15);\n",
              "      filter: drop-shadow(0px 1px 2px rgba(0, 0, 0, 0.3));\n",
              "      fill: #FFFFFF;\n",
              "    }\n",
              "  </style>\n",
              "\n",
              "      <script>\n",
              "        const buttonEl =\n",
              "          document.querySelector('#df-81bf1d3a-f1b4-46e1-b182-5787b5045b6e button.colab-df-convert');\n",
              "        buttonEl.style.display =\n",
              "          google.colab.kernel.accessAllowed ? 'block' : 'none';\n",
              "\n",
              "        async function convertToInteractive(key) {\n",
              "          const element = document.querySelector('#df-81bf1d3a-f1b4-46e1-b182-5787b5045b6e');\n",
              "          const dataTable =\n",
              "            await google.colab.kernel.invokeFunction('convertToInteractive',\n",
              "                                                     [key], {});\n",
              "          if (!dataTable) return;\n",
              "\n",
              "          const docLinkHtml = 'Like what you see? Visit the ' +\n",
              "            '<a target=\"_blank\" href=https://colab.research.google.com/notebooks/data_table.ipynb>data table notebook</a>'\n",
              "            + ' to learn more about interactive tables.';\n",
              "          element.innerHTML = '';\n",
              "          dataTable['output_type'] = 'display_data';\n",
              "          await google.colab.output.renderOutput(dataTable, element);\n",
              "          const docLink = document.createElement('div');\n",
              "          docLink.innerHTML = docLinkHtml;\n",
              "          element.appendChild(docLink);\n",
              "        }\n",
              "      </script>\n",
              "    </div>\n",
              "  </div>\n",
              "  "
            ]
          },
          "metadata": {},
          "execution_count": 55
        }
      ]
    },
    {
      "cell_type": "code",
      "source": [
        "print(df_normalized.head(38))"
      ],
      "metadata": {
        "id": "LOFYqZ4FzwPM",
        "colab": {
          "base_uri": "https://localhost:8080/"
        },
        "outputId": "e0f31478-ff22-4b07-c89a-0ee0aeda4414"
      },
      "execution_count": 56,
      "outputs": [
        {
          "output_type": "stream",
          "name": "stdout",
          "text": [
            "          L        W       H\n",
            "4     190.0    150.0     5.0\n",
            "14   4500.0   3660.0    31.0\n",
            "8     450.0   1470.0   120.0\n",
            "15    720.0   1280.0   128.0\n",
            "1     380.0    720.0   150.0\n",
            "33    350.0   1000.0   180.0\n",
            "10    560.0   1420.0   180.0\n",
            "19    400.0   1000.0   200.0\n",
            "22    700.0   2000.0   200.0\n",
            "11    300.0    800.0   200.0\n",
            "16    800.0   1360.0   200.0\n",
            "26    600.0   1680.0   200.0\n",
            "6     460.0   1200.0   200.0\n",
            "28    720.0   3500.0   200.0\n",
            "30    400.0    640.0   200.0\n",
            "24    540.0    980.0   200.0\n",
            "18    520.0    820.0   240.0\n",
            "37    800.0   2200.0   240.0\n",
            "36    620.0   1600.0   250.0\n",
            "32   1200.0   3000.0   250.0\n",
            "29    700.0   1800.0   250.0\n",
            "27    644.0   1948.0   250.0\n",
            "20    450.0   1100.0   250.0\n",
            "13    450.0   1470.0   280.0\n",
            "34   1000.0   2400.0   280.0\n",
            "23    450.0   1470.0   300.0\n",
            "25   1200.0   1500.0   300.0\n",
            "17   1200.0   2300.0   300.0\n",
            "35    610.0   2000.0   300.0\n",
            "21   1000.0   2300.0   300.0\n",
            "12    830.0   2200.0   380.0\n",
            "9     860.0   2200.0   380.0\n",
            "3    1100.0   2300.0   400.0\n",
            "0    1450.0   3600.0   440.0\n",
            "2    1850.0   4300.0   500.0\n",
            "7    3350.0   3200.0  1800.0\n",
            "31  10250.0  11500.0  2700.0\n",
            "5   11000.0  15000.0  3000.0\n"
          ]
        }
      ]
    },
    {
      "cell_type": "code",
      "source": [
        "#https://www.shanelynn.ie/pandas-drop-delete-dataframe-rows-columns/\n",
        "'''\n",
        "df_sorted.drop(\n",
        "    \n",
        "    labels=[31,5,14],\n",
        "    axis=0,\n",
        "    inplace=True\n",
        ")\n",
        "'''"
      ],
      "metadata": {
        "colab": {
          "base_uri": "https://localhost:8080/",
          "height": 35
        },
        "id": "fSzJytqQ0iGm",
        "outputId": "560416b5-5237-45fe-f3a4-cfeea31c79d6"
      },
      "execution_count": 22,
      "outputs": [
        {
          "output_type": "execute_result",
          "data": {
            "text/plain": [
              "'\\ndf_sorted.drop(\\n    \\n    labels=[31,5,14],\\n    axis=0,\\n    inplace=True\\n)\\n'"
            ],
            "application/vnd.google.colaboratory.intrinsic+json": {
              "type": "string"
            }
          },
          "metadata": {},
          "execution_count": 22
        }
      ]
    },
    {
      "cell_type": "code",
      "source": [],
      "metadata": {
        "id": "zCEZuqv5I7mq"
      },
      "execution_count": null,
      "outputs": []
    },
    {
      "cell_type": "code",
      "source": [
        "print(df_normalized.describe())"
      ],
      "metadata": {
        "colab": {
          "base_uri": "https://localhost:8080/"
        },
        "id": "b9M02OC6Jp8G",
        "outputId": "7ab085c0-d8d4-4dea-9299-8ba3f7eb8870"
      },
      "execution_count": 57,
      "outputs": [
        {
          "output_type": "stream",
          "name": "stdout",
          "text": [
            "                  L             W            H\n",
            "count     38.000000     38.000000    38.000000\n",
            "mean    1410.631579   2449.157895   420.631579\n",
            "std     2347.173348   2772.085160   641.210739\n",
            "min      190.000000    150.000000     5.000000\n",
            "25%      452.500000   1220.000000   200.000000\n",
            "50%      700.000000   1740.000000   250.000000\n",
            "75%     1075.000000   2300.000000   300.000000\n",
            "max    11000.000000  15000.000000  3000.000000\n"
          ]
        }
      ]
    },
    {
      "cell_type": "code",
      "source": [
        "#Multiple linear Regressor\n",
        "#https://www.analyticsvidhya.com/blog/2021/05/multiple-linear-regression-using-python-and-scikit-learn/\n",
        "\n",
        "%matplotlib inline\n",
        "import matplotlib.pyplot as plt\n",
        "df_normalized.hist(bins=50, figsize=(20,15))\n",
        "#save_fig('histograms')\n",
        "plt.show()"
      ],
      "metadata": {
        "id": "-NflgJ2WK0wR",
        "colab": {
          "base_uri": "https://localhost:8080/",
          "height": 659
        },
        "outputId": "df84ea31-81f3-4834-b077-b907260608ec"
      },
      "execution_count": 58,
      "outputs": [
        {
          "output_type": "display_data",
          "data": {
            "text/plain": [
              "<Figure size 1440x1080 with 4 Axes>"
            ],
            "image/png": "[encoded data removed]"
          },
          "metadata": {
            "needs_background": "light"
          }
        }
      ]
    },
    {
      "cell_type": "code",
      "source": [
        "np.random.seed(42)\n",
        "from sklearn.model_selection import train_test_split\n",
        "X= df_normalized.drop(columns = 'H')\n",
        "y=df_normalized['H']\n",
        "X_train, X_test,y_train,y_test = train_test_split(X,y, test_size=0.2, random_state=42)\n",
        "#test_set.head()"
      ],
      "metadata": {
        "id": "dZqeyZjtMg7a"
      },
      "execution_count": 71,
      "outputs": []
    },
    {
      "cell_type": "code",
      "source": [
        "y.head(11)"
      ],
      "metadata": {
        "colab": {
          "base_uri": "https://localhost:8080/"
        },
        "id": "cb_nkhdS9le0",
        "outputId": "354ac435-e926-412d-9006-2408cb91a443"
      },
      "execution_count": 72,
      "outputs": [
        {
          "output_type": "execute_result",
          "data": {
            "text/plain": [
              "4       5.0\n",
              "14     31.0\n",
              "8     120.0\n",
              "15    128.0\n",
              "1     150.0\n",
              "33    180.0\n",
              "10    180.0\n",
              "19    200.0\n",
              "22    200.0\n",
              "11    200.0\n",
              "16    200.0\n",
              "Name: H, dtype: float64"
            ]
          },
          "metadata": {},
          "execution_count": 72
        }
      ]
    },
    {
      "cell_type": "code",
      "source": [
        "'''\n",
        "d_names = (train_set, test_set)\n",
        "#print (d_names)\n",
        "y_pos = range(len(d_names))\n",
        "plt.bar(\n",
        "    y_pos, \n",
        "    (train_set.shape[0], test_set.shape[0]), \n",
        "    align='center', \n",
        "    alpha=0.8\n",
        ")\n",
        "#plt.xticks(y_pos, d_names)\n",
        "plt.ylabel('Number of rows') \n",
        "plt.title('😱 Train Vs Test Samples!')\n",
        "plt.show()\n",
        "'''"
      ],
      "metadata": {
        "colab": {
          "base_uri": "https://localhost:8080/",
          "height": 70
        },
        "id": "prCy342b8vnX",
        "outputId": "3dba9711-05ec-4b92-e11a-4d129b051a37"
      },
      "execution_count": 41,
      "outputs": [
        {
          "output_type": "execute_result",
          "data": {
            "text/plain": [
              "\"\\nd_names = (train_set, test_set)\\n#print (d_names)\\ny_pos = range(len(d_names))\\nplt.bar(\\n    y_pos, \\n    (train_set.shape[0], test_set.shape[0]), \\n    align='center', \\n    alpha=0.8\\n)\\n#plt.xticks(y_pos, d_names)\\nplt.ylabel('Number of rows') \\nplt.title('😱 Train Vs Test Samples!')\\nplt.show()\\n\""
            ],
            "application/vnd.google.colaboratory.intrinsic+json": {
              "type": "string"
            }
          },
          "metadata": {},
          "execution_count": 41
        }
      ]
    },
    {
      "cell_type": "code",
      "source": [
        "'''\n",
        "df_lw = train_set.drop(\"H\", axis=1) # drop labels for training set\n",
        "df_h_label = train_set[\"H\"].copy()\n",
        "'''"
      ],
      "metadata": {
        "id": "C_-tkLSWMyS2",
        "colab": {
          "base_uri": "https://localhost:8080/",
          "height": 35
        },
        "outputId": "fd37d76e-2034-4bea-c865-6ab40b065f99"
      },
      "execution_count": 13,
      "outputs": [
        {
          "output_type": "execute_result",
          "data": {
            "text/plain": [
              "'\\ndf_lw = train_set.drop(\"H\", axis=1) # drop labels for training set\\ndf_h_label = train_set[\"H\"].copy()\\n'"
            ],
            "application/vnd.google.colaboratory.intrinsic+json": {
              "type": "string"
            }
          },
          "metadata": {},
          "execution_count": 13
        }
      ]
    },
    {
      "cell_type": "code",
      "source": [
        "'''\n",
        "df_lw.head()\n",
        "'''"
      ],
      "metadata": {
        "id": "H3PDY6cCNEyF"
      },
      "execution_count": null,
      "outputs": []
    },
    {
      "cell_type": "code",
      "source": [
        "#df_h_label.head()"
      ],
      "metadata": {
        "id": "c7Z0MP41NKVP"
      },
      "execution_count": null,
      "outputs": []
    },
    {
      "cell_type": "code",
      "source": [
        "'''\n",
        "from sklearn.pipeline import Pipeline\n",
        "from sklearn.preprocessing import StandardScaler\n",
        "\n",
        "num_pipeline = Pipeline([\n",
        "        ('std_scaler', StandardScaler()),\n",
        "    ])\n",
        "from sklearn.compose import ColumnTransformer\n",
        "'''"
      ],
      "metadata": {
        "id": "L7drjQMeNSyz"
      },
      "execution_count": null,
      "outputs": []
    },
    {
      "cell_type": "code",
      "source": [
        "'''\n",
        "num_attribs = list(df_lw)\n",
        "\n",
        "full_pipeline = ColumnTransformer([\n",
        "        (\"num\", num_pipeline, num_attribs),\n",
        "    ])\n",
        "'''\n",
        "from sklearn.preprocessing import StandardScaler\n",
        "scaler = StandardScaler()\n",
        "#X_train_scaled = scaler.fit_transform(X_train)\n",
        "#X_test_scaled = scaler.transform(X_test)\n",
        "X_train_scaled = X_train\n",
        "X_test_scaled = X_test\n",
        "#df_prepared = full_pipeline.fit_transform(df_lw)\n",
        "#label_prepared = full_pipeline.transform(df_h_label) \n",
        "#df_prepared\n",
        "X_test_scaled"
      ],
      "metadata": {
        "id": "0tnOkW8UNaha",
        "colab": {
          "base_uri": "https://localhost:8080/",
          "height": 300
        },
        "outputId": "cfc1d42a-d8e8-40d9-db83-a6f13fdc1284"
      },
      "execution_count": 73,
      "outputs": [
        {
          "output_type": "execute_result",
          "data": {
            "text/plain": [
              "          L        W\n",
              "0    1450.0   3600.0\n",
              "31  10250.0  11500.0\n",
              "1     380.0    720.0\n",
              "28    720.0   3500.0\n",
              "12    830.0   2200.0\n",
              "25   1200.0   1500.0\n",
              "10    560.0   1420.0\n",
              "17   1200.0   2300.0"
            ],
            "text/html": [
              "\n",
              "  <div id=\"df-24dcdf8d-2dfa-4218-8b8d-1fd4864f0954\">\n",
              "    <div class=\"colab-df-container\">\n",
              "      <div>\n",
              "<style scoped>\n",
              "    .dataframe tbody tr th:only-of-type {\n",
              "        vertical-align: middle;\n",
              "    }\n",
              "\n",
              "    .dataframe tbody tr th {\n",
              "        vertical-align: top;\n",
              "    }\n",
              "\n",
              "    .dataframe thead th {\n",
              "        text-align: right;\n",
              "    }\n",
              "</style>\n",
              "<table border=\"1\" class=\"dataframe\">\n",
              "  <thead>\n",
              "    <tr style=\"text-align: right;\">\n",
              "      <th></th>\n",
              "      <th>L</th>\n",
              "      <th>W</th>\n",
              "    </tr>\n",
              "  </thead>\n",
              "  <tbody>\n",
              "    <tr>\n",
              "      <th>0</th>\n",
              "      <td>1450.0</td>\n",
              "      <td>3600.0</td>\n",
              "    </tr>\n",
              "    <tr>\n",
              "      <th>31</th>\n",
              "      <td>10250.0</td>\n",
              "      <td>11500.0</td>\n",
              "    </tr>\n",
              "    <tr>\n",
              "      <th>1</th>\n",
              "      <td>380.0</td>\n",
              "      <td>720.0</td>\n",
              "    </tr>\n",
              "    <tr>\n",
              "      <th>28</th>\n",
              "      <td>720.0</td>\n",
              "      <td>3500.0</td>\n",
              "    </tr>\n",
              "    <tr>\n",
              "      <th>12</th>\n",
              "      <td>830.0</td>\n",
              "      <td>2200.0</td>\n",
              "    </tr>\n",
              "    <tr>\n",
              "      <th>25</th>\n",
              "      <td>1200.0</td>\n",
              "      <td>1500.0</td>\n",
              "    </tr>\n",
              "    <tr>\n",
              "      <th>10</th>\n",
              "      <td>560.0</td>\n",
              "      <td>1420.0</td>\n",
              "    </tr>\n",
              "    <tr>\n",
              "      <th>17</th>\n",
              "      <td>1200.0</td>\n",
              "      <td>2300.0</td>\n",
              "    </tr>\n",
              "  </tbody>\n",
              "</table>\n",
              "</div>\n",
              "      <button class=\"colab-df-convert\" onclick=\"convertToInteractive('df-24dcdf8d-2dfa-4218-8b8d-1fd4864f0954')\"\n",
              "              title=\"Convert this dataframe to an interactive table.\"\n",
              "              style=\"display:none;\">\n",
              "        \n",
              "  <svg xmlns=\"http://www.w3.org/2000/svg\" height=\"24px\"viewBox=\"0 0 24 24\"\n",
              "       width=\"24px\">\n",
              "    <path d=\"M0 0h24v24H0V0z\" fill=\"none\"/>\n",
              "    <path d=\"M18.56 5.44l.94 2.06.94-2.06 2.06-.94-2.06-.94-.94-2.06-.94 2.06-2.06.94zm-11 1L8.5 8.5l.94-2.06 2.06-.94-2.06-.94L8.5 2.5l-.94 2.06-2.06.94zm10 10l.94 2.06.94-2.06 2.06-.94-2.06-.94-.94-2.06-.94 2.06-2.06.94z\"/><path d=\"M17.41 7.96l-1.37-1.37c-.4-.4-.92-.59-1.43-.59-.52 0-1.04.2-1.43.59L10.3 9.45l-7.72 7.72c-.78.78-.78 2.05 0 2.83L4 21.41c.39.39.9.59 1.41.59.51 0 1.02-.2 1.41-.59l7.78-7.78 2.81-2.81c.8-.78.8-2.07 0-2.86zM5.41 20L4 18.59l7.72-7.72 1.47 1.35L5.41 20z\"/>\n",
              "  </svg>\n",
              "      </button>\n",
              "      \n",
              "  <style>\n",
              "    .colab-df-container {\n",
              "      display:flex;\n",
              "      flex-wrap:wrap;\n",
              "      gap: 12px;\n",
              "    }\n",
              "\n",
              "    .colab-df-convert {\n",
              "      background-color: #E8F0FE;\n",
              "      border: none;\n",
              "      border-radius: 50%;\n",
              "      cursor: pointer;\n",
              "      display: none;\n",
              "      fill: #1967D2;\n",
              "      height: 32px;\n",
              "      padding: 0 0 0 0;\n",
              "      width: 32px;\n",
              "    }\n",
              "\n",
              "    .colab-df-convert:hover {\n",
              "      background-color: #E2EBFA;\n",
              "      box-shadow: 0px 1px 2px rgba(60, 64, 67, 0.3), 0px 1px 3px 1px rgba(60, 64, 67, 0.15);\n",
              "      fill: #174EA6;\n",
              "    }\n",
              "\n",
              "    [theme=dark] .colab-df-convert {\n",
              "      background-color: #3B4455;\n",
              "      fill: #D2E3FC;\n",
              "    }\n",
              "\n",
              "    [theme=dark] .colab-df-convert:hover {\n",
              "      background-color: #434B5C;\n",
              "      box-shadow: 0px 1px 3px 1px rgba(0, 0, 0, 0.15);\n",
              "      filter: drop-shadow(0px 1px 2px rgba(0, 0, 0, 0.3));\n",
              "      fill: #FFFFFF;\n",
              "    }\n",
              "  </style>\n",
              "\n",
              "      <script>\n",
              "        const buttonEl =\n",
              "          document.querySelector('#df-24dcdf8d-2dfa-4218-8b8d-1fd4864f0954 button.colab-df-convert');\n",
              "        buttonEl.style.display =\n",
              "          google.colab.kernel.accessAllowed ? 'block' : 'none';\n",
              "\n",
              "        async function convertToInteractive(key) {\n",
              "          const element = document.querySelector('#df-24dcdf8d-2dfa-4218-8b8d-1fd4864f0954');\n",
              "          const dataTable =\n",
              "            await google.colab.kernel.invokeFunction('convertToInteractive',\n",
              "                                                     [key], {});\n",
              "          if (!dataTable) return;\n",
              "\n",
              "          const docLinkHtml = 'Like what you see? Visit the ' +\n",
              "            '<a target=\"_blank\" href=https://colab.research.google.com/notebooks/data_table.ipynb>data table notebook</a>'\n",
              "            + ' to learn more about interactive tables.';\n",
              "          element.innerHTML = '';\n",
              "          dataTable['output_type'] = 'display_data';\n",
              "          await google.colab.output.renderOutput(dataTable, element);\n",
              "          const docLink = document.createElement('div');\n",
              "          docLink.innerHTML = docLinkHtml;\n",
              "          element.appendChild(docLink);\n",
              "        }\n",
              "      </script>\n",
              "    </div>\n",
              "  </div>\n",
              "  "
            ]
          },
          "metadata": {},
          "execution_count": 73
        }
      ]
    },
    {
      "cell_type": "code",
      "source": [
        "'''\n",
        "from sklearn.linear_model import LinearRegression\n",
        "from sklearn.svm import SVR\n",
        "from sklearn.ensemble import RandomForestRegressor\n",
        "'''\n",
        "from sklearn.ensemble import RandomForestRegressor\n",
        "from sklearn.linear_model import LogisticRegression\n",
        "\n",
        "#reg = LogisticRegression(random_state=42)\n",
        "reg = RandomForestRegressor(n_estimators=10, random_state=42)\n",
        "#reg = SVR(kernel=\"linear\")\n",
        "#reg = LinearRegression()\n",
        "reg.fit(X_train_scaled,y_train)\n"
      ],
      "metadata": {
        "colab": {
          "base_uri": "https://localhost:8080/"
        },
        "id": "J2fvtAD-N5hs",
        "outputId": "6c607df9-072c-43c5-9f37-12e06f55bdf4"
      },
      "execution_count": 74,
      "outputs": [
        {
          "output_type": "execute_result",
          "data": {
            "text/plain": [
              "RandomForestRegressor(n_estimators=10, random_state=42)"
            ]
          },
          "metadata": {},
          "execution_count": 74
        }
      ]
    },
    {
      "cell_type": "code",
      "source": [
        "reg.predict(X_train_scaled)\n"
      ],
      "metadata": {
        "colab": {
          "base_uri": "https://localhost:8080/"
        },
        "id": "DJzZUN5kf38y",
        "outputId": "08a6e7ad-6ae2-464b-8d30-fd2e3a502b4f"
      },
      "execution_count": 75,
      "outputs": [
        {
          "output_type": "execute_result",
          "data": {
            "text/plain": [
              "array([ 314. ,  221. ,  259. ,  210. ,  224. ,  202.8,  303. ,  196. ,\n",
              "        370. ,   98.5,  241. ,  186. ,  230. ,  384.8, 2406.2,  255. ,\n",
              "        241. ,  330. , 1446.2,  142.4,  398.1,  241. ,  336. ,  185.6,\n",
              "        235. ,  230. ,  240. ,  194. ,  200. ,  265. ])"
            ]
          },
          "metadata": {},
          "execution_count": 75
        }
      ]
    },
    {
      "cell_type": "code",
      "source": [
        "reg.score(X_train_scaled,y_train)"
      ],
      "metadata": {
        "colab": {
          "base_uri": "https://localhost:8080/"
        },
        "id": "tt1zfsmNf7Ox",
        "outputId": "3c0138a4-d655-4228-f2b5-95c3e88aff0c"
      },
      "execution_count": 76,
      "outputs": [
        {
          "output_type": "execute_result",
          "data": {
            "text/plain": [
              "0.9329345653931755"
            ]
          },
          "metadata": {},
          "execution_count": 76
        }
      ]
    },
    {
      "cell_type": "code",
      "source": [
        "reg.score(X_test_scaled,y_test)"
      ],
      "metadata": {
        "colab": {
          "base_uri": "https://localhost:8080/"
        },
        "id": "uE9AAdYEgLeh",
        "outputId": "7554d7e3-1189-4454-a7cb-d2bfa5923d53"
      },
      "execution_count": 77,
      "outputs": [
        {
          "output_type": "execute_result",
          "data": {
            "text/plain": [
              "0.9760292379695534"
            ]
          },
          "metadata": {},
          "execution_count": 77
        }
      ]
    },
    {
      "cell_type": "code",
      "source": [
        "from sklearn.metrics import mean_squared_error\n",
        "from sklearn.metrics import mean_absolute_error\n",
        "\n",
        "df_predictions = reg.predict(X_test_scaled)\n",
        "mse = mean_squared_error(y_test, df_predictions)\n",
        "rmse = np.sqrt(mse)\n",
        "mae = mean_absolute_error(y_test, df_predictions)\n",
        "#print('My name is', os.getlogin(), 'and I am', 42)\n",
        "print ('RMSE:', rmse, 'and MAE:', mae) "
      ],
      "metadata": {
        "id": "zoGGKOUWOh9n",
        "colab": {
          "base_uri": "https://localhost:8080/"
        },
        "outputId": "460535a9-99fb-4be7-956d-8c0d6e3d83e2"
      },
      "execution_count": 79,
      "outputs": [
        {
          "output_type": "stream",
          "name": "stdout",
          "text": [
            "RMSE: 124.82490737028412 and MAE: 90.10000000000002\n"
          ]
        }
      ]
    }
  ]
}