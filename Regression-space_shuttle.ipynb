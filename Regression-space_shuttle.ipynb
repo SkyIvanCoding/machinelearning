{
  "cells": [
    {
      "cell_type": "markdown",
      "metadata": {
        "id": "view-in-github",
        "colab_type": "text"
      },
      "source": [
        "<a href=\"https://colab.research.google.com/github/parwinderau/machinelearning/blob/main/Regression-space_shuttle.ipynb\" target=\"_parent\"><img src=\"https://colab.research.google.com/assets/colab-badge.svg\" alt=\"Open In Colab\"/></a>"
      ]
    },
    {
      "cell_type": "markdown",
      "metadata": {
        "id": "Xty_zgqCLs5d"
      },
      "source": [
        "# Predicting the number of distressed O-rings for space shuttles\n",
        "\n",
        "Please keep in mind that the number of data samples is very low for this example."
      ]
    },
    {
      "cell_type": "code",
      "execution_count": 1,
      "metadata": {
        "id": "YLac_-XdLs5f"
      },
      "outputs": [],
      "source": [
        "# Case scenario:\n",
        "# On January 28, 1986, a routine launch was anticipated for the Challenger space shuttle. \n",
        "# Seventy-three seconds into the flight, disaster happened: the shuttle broke apart, killing all \n",
        "# seven crew members on board. An investigation into the cause of the disaster focused on a critical # seal called an O-ring, and it is believed that damage to these O-rings during a shuttle launch may # be related to the ambient temperature during the launch. The table below summarizes observational # data on O-rings for 23 shuttle missions, where the mission order is based on the temperature at\n",
        "# the time of the launch.\n",
        "#\n",
        "# The goal is to predict the number of O-rings that will experience thermal distress for a given \n",
        "# flight when the launch temperature is below freezing.\n",
        "\n",
        "# To support both python 2 and python 3\n",
        "from __future__ import division, print_function, unicode_literals\n",
        "\n",
        "# Common imports\n",
        "import numpy as np\n",
        "import os\n",
        "\n",
        "# to make this notebook's output stable across runs\n",
        "np.random.seed(42)\n",
        "\n",
        "# To plot pretty figures\n",
        "%matplotlib inline\n",
        "import matplotlib as mpl\n",
        "import matplotlib.pyplot as plt\n",
        "mpl.rc('axes', labelsize=14)\n",
        "mpl.rc('xtick', labelsize=12)\n",
        "mpl.rc('ytick', labelsize=12)\n",
        "\n",
        "# function definition to save the figure\n",
        "def save_fig(fig_id, tight_layout=True, fig_extension=\"png\", resolution=300):\n",
        "    file = fig_id + \".\" + fig_extension\n",
        "    print(\"Saving figure\", fig_id)\n",
        "    if tight_layout:\n",
        "        plt.tight_layout()\n",
        "    plt.savefig(file, format=fig_extension, dpi=resolution)\n",
        "\n",
        "# Ignore useless warnings (see SciPy issue #5998)\n",
        "import warnings\n",
        "warnings.filterwarnings(action=\"ignore\", message=\"^internal gelsd\")"
      ]
    },
    {
      "cell_type": "code",
      "execution_count": 2,
      "metadata": {
        "id": "jDdCBIa7Ls5o"
      },
      "outputs": [],
      "source": [
        "# import pandas to import the dataset\n",
        "import pandas as pd\n",
        "# import the dataset\n",
        "\n",
        "def load_o_ring_data():\n",
        "    # a way to save the name of the file as a string\n",
        "    csv_file =  'o-ring-erosion-only.data'\n",
        "    # The separator in this dataset is given by a space instad of ','\n",
        "    data = pd.read_csv(csv_file, sep = ' '); df = pd.DataFrame(data)\n",
        "    return df"
      ]
    },
    {
      "cell_type": "code",
      "execution_count": 3,
      "metadata": {
        "colab": {
          "base_uri": "https://localhost:8080/",
          "height": 206
        },
        "id": "UJv4l3XNLs5u",
        "outputId": "596798e3-0eac-434f-bf08-f79da0b8007f"
      },
      "outputs": [
        {
          "output_type": "execute_result",
          "data": {
            "text/plain": [
              "   O_rings  O_rings_thermal_distress  Launch_Temperature  Leak_Check_Pressure  \\\n",
              "0        6                         0                  66                   50   \n",
              "1        6                         1                  70                   50   \n",
              "2        6                         0                  69                   50   \n",
              "3        6                         0                  68                   50   \n",
              "4        6                         0                  67                   50   \n",
              "\n",
              "   Nr_of_Flight  \n",
              "0             1  \n",
              "1             2  \n",
              "2             3  \n",
              "3             4  \n",
              "4             5  "
            ],
            "text/html": [
              "\n",
              "  <div id=\"df-16dad484-dbd1-493f-8c40-be315f6af3d7\">\n",
              "    <div class=\"colab-df-container\">\n",
              "      <div>\n",
              "<style scoped>\n",
              "    .dataframe tbody tr th:only-of-type {\n",
              "        vertical-align: middle;\n",
              "    }\n",
              "\n",
              "    .dataframe tbody tr th {\n",
              "        vertical-align: top;\n",
              "    }\n",
              "\n",
              "    .dataframe thead th {\n",
              "        text-align: right;\n",
              "    }\n",
              "</style>\n",
              "<table border=\"1\" class=\"dataframe\">\n",
              "  <thead>\n",
              "    <tr style=\"text-align: right;\">\n",
              "      <th></th>\n",
              "      <th>O_rings</th>\n",
              "      <th>O_rings_thermal_distress</th>\n",
              "      <th>Launch_Temperature</th>\n",
              "      <th>Leak_Check_Pressure</th>\n",
              "      <th>Nr_of_Flight</th>\n",
              "    </tr>\n",
              "  </thead>\n",
              "  <tbody>\n",
              "    <tr>\n",
              "      <th>0</th>\n",
              "      <td>6</td>\n",
              "      <td>0</td>\n",
              "      <td>66</td>\n",
              "      <td>50</td>\n",
              "      <td>1</td>\n",
              "    </tr>\n",
              "    <tr>\n",
              "      <th>1</th>\n",
              "      <td>6</td>\n",
              "      <td>1</td>\n",
              "      <td>70</td>\n",
              "      <td>50</td>\n",
              "      <td>2</td>\n",
              "    </tr>\n",
              "    <tr>\n",
              "      <th>2</th>\n",
              "      <td>6</td>\n",
              "      <td>0</td>\n",
              "      <td>69</td>\n",
              "      <td>50</td>\n",
              "      <td>3</td>\n",
              "    </tr>\n",
              "    <tr>\n",
              "      <th>3</th>\n",
              "      <td>6</td>\n",
              "      <td>0</td>\n",
              "      <td>68</td>\n",
              "      <td>50</td>\n",
              "      <td>4</td>\n",
              "    </tr>\n",
              "    <tr>\n",
              "      <th>4</th>\n",
              "      <td>6</td>\n",
              "      <td>0</td>\n",
              "      <td>67</td>\n",
              "      <td>50</td>\n",
              "      <td>5</td>\n",
              "    </tr>\n",
              "  </tbody>\n",
              "</table>\n",
              "</div>\n",
              "      <button class=\"colab-df-convert\" onclick=\"convertToInteractive('df-16dad484-dbd1-493f-8c40-be315f6af3d7')\"\n",
              "              title=\"Convert this dataframe to an interactive table.\"\n",
              "              style=\"display:none;\">\n",
              "        \n",
              "  <svg xmlns=\"http://www.w3.org/2000/svg\" height=\"24px\"viewBox=\"0 0 24 24\"\n",
              "       width=\"24px\">\n",
              "    <path d=\"M0 0h24v24H0V0z\" fill=\"none\"/>\n",
              "    <path d=\"M18.56 5.44l.94 2.06.94-2.06 2.06-.94-2.06-.94-.94-2.06-.94 2.06-2.06.94zm-11 1L8.5 8.5l.94-2.06 2.06-.94-2.06-.94L8.5 2.5l-.94 2.06-2.06.94zm10 10l.94 2.06.94-2.06 2.06-.94-2.06-.94-.94-2.06-.94 2.06-2.06.94z\"/><path d=\"M17.41 7.96l-1.37-1.37c-.4-.4-.92-.59-1.43-.59-.52 0-1.04.2-1.43.59L10.3 9.45l-7.72 7.72c-.78.78-.78 2.05 0 2.83L4 21.41c.39.39.9.59 1.41.59.51 0 1.02-.2 1.41-.59l7.78-7.78 2.81-2.81c.8-.78.8-2.07 0-2.86zM5.41 20L4 18.59l7.72-7.72 1.47 1.35L5.41 20z\"/>\n",
              "  </svg>\n",
              "      </button>\n",
              "      \n",
              "  <style>\n",
              "    .colab-df-container {\n",
              "      display:flex;\n",
              "      flex-wrap:wrap;\n",
              "      gap: 12px;\n",
              "    }\n",
              "\n",
              "    .colab-df-convert {\n",
              "      background-color: #E8F0FE;\n",
              "      border: none;\n",
              "      border-radius: 50%;\n",
              "      cursor: pointer;\n",
              "      display: none;\n",
              "      fill: #1967D2;\n",
              "      height: 32px;\n",
              "      padding: 0 0 0 0;\n",
              "      width: 32px;\n",
              "    }\n",
              "\n",
              "    .colab-df-convert:hover {\n",
              "      background-color: #E2EBFA;\n",
              "      box-shadow: 0px 1px 2px rgba(60, 64, 67, 0.3), 0px 1px 3px 1px rgba(60, 64, 67, 0.15);\n",
              "      fill: #174EA6;\n",
              "    }\n",
              "\n",
              "    [theme=dark] .colab-df-convert {\n",
              "      background-color: #3B4455;\n",
              "      fill: #D2E3FC;\n",
              "    }\n",
              "\n",
              "    [theme=dark] .colab-df-convert:hover {\n",
              "      background-color: #434B5C;\n",
              "      box-shadow: 0px 1px 3px 1px rgba(0, 0, 0, 0.15);\n",
              "      filter: drop-shadow(0px 1px 2px rgba(0, 0, 0, 0.3));\n",
              "      fill: #FFFFFF;\n",
              "    }\n",
              "  </style>\n",
              "\n",
              "      <script>\n",
              "        const buttonEl =\n",
              "          document.querySelector('#df-16dad484-dbd1-493f-8c40-be315f6af3d7 button.colab-df-convert');\n",
              "        buttonEl.style.display =\n",
              "          google.colab.kernel.accessAllowed ? 'block' : 'none';\n",
              "\n",
              "        async function convertToInteractive(key) {\n",
              "          const element = document.querySelector('#df-16dad484-dbd1-493f-8c40-be315f6af3d7');\n",
              "          const dataTable =\n",
              "            await google.colab.kernel.invokeFunction('convertToInteractive',\n",
              "                                                     [key], {});\n",
              "          if (!dataTable) return;\n",
              "\n",
              "          const docLinkHtml = 'Like what you see? Visit the ' +\n",
              "            '<a target=\"_blank\" href=https://colab.research.google.com/notebooks/data_table.ipynb>data table notebook</a>'\n",
              "            + ' to learn more about interactive tables.';\n",
              "          element.innerHTML = '';\n",
              "          dataTable['output_type'] = 'display_data';\n",
              "          await google.colab.output.renderOutput(dataTable, element);\n",
              "          const docLink = document.createElement('div');\n",
              "          docLink.innerHTML = docLinkHtml;\n",
              "          element.appendChild(docLink);\n",
              "        }\n",
              "      </script>\n",
              "    </div>\n",
              "  </div>\n",
              "  "
            ]
          },
          "metadata": {},
          "execution_count": 3
        }
      ],
      "source": [
        "# call of function to load the dataset and display it\n",
        "o_ring = load_o_ring_data(); o_ring.head()"
      ]
    },
    {
      "cell_type": "code",
      "execution_count": 4,
      "metadata": {
        "colab": {
          "base_uri": "https://localhost:8080/"
        },
        "id": "GCLZEtXmLs50",
        "outputId": "c85d57c2-dd8d-42ff-a149-64004e56b781"
      },
      "outputs": [
        {
          "output_type": "stream",
          "name": "stdout",
          "text": [
            "<class 'pandas.core.frame.DataFrame'>\n",
            "RangeIndex: 23 entries, 0 to 22\n",
            "Data columns (total 5 columns):\n",
            " #   Column                    Non-Null Count  Dtype\n",
            "---  ------                    --------------  -----\n",
            " 0   O_rings                   23 non-null     int64\n",
            " 1   O_rings_thermal_distress  23 non-null     int64\n",
            " 2   Launch_Temperature        23 non-null     int64\n",
            " 3   Leak_Check_Pressure       23 non-null     int64\n",
            " 4   Nr_of_Flight              23 non-null     int64\n",
            "dtypes: int64(5)\n",
            "memory usage: 1.0 KB\n"
          ]
        }
      ],
      "source": [
        "# we can also observe some information about the data\n",
        "o_ring.info()"
      ]
    },
    {
      "cell_type": "code",
      "execution_count": 5,
      "metadata": {
        "colab": {
          "base_uri": "https://localhost:8080/"
        },
        "id": "YRhwxxqyLs55",
        "outputId": "37c15528-6d69-4a6c-f582-9dc7032c08a9"
      },
      "outputs": [
        {
          "output_type": "execute_result",
          "data": {
            "text/plain": [
              "0    17\n",
              "1     5\n",
              "2     1\n",
              "Name: O_rings_thermal_distress, dtype: int64"
            ]
          },
          "metadata": {},
          "execution_count": 5
        }
      ],
      "source": [
        "# we count the number of time the values in O_rings_thermal_distress are repeated\n",
        "o_ring[\"O_rings_thermal_distress\"].value_counts()"
      ]
    },
    {
      "cell_type": "code",
      "execution_count": null,
      "metadata": {
        "colab": {
          "base_uri": "https://localhost:8080/",
          "height": 297
        },
        "id": "BkMRKmWSLs5-",
        "outputId": "913e7b80-71ac-47bc-ec62-9c1208a6e7ce"
      },
      "outputs": [
        {
          "data": {
            "text/html": [
              "<div>\n",
              "<style scoped>\n",
              "    .dataframe tbody tr th:only-of-type {\n",
              "        vertical-align: middle;\n",
              "    }\n",
              "\n",
              "    .dataframe tbody tr th {\n",
              "        vertical-align: top;\n",
              "    }\n",
              "\n",
              "    .dataframe thead th {\n",
              "        text-align: right;\n",
              "    }\n",
              "</style>\n",
              "<table border=\"1\" class=\"dataframe\">\n",
              "  <thead>\n",
              "    <tr style=\"text-align: right;\">\n",
              "      <th></th>\n",
              "      <th>O_rings</th>\n",
              "      <th>O_rings_thermal_distress</th>\n",
              "      <th>Launch_Temperature</th>\n",
              "      <th>Leak_Check_Pressure</th>\n",
              "      <th>Nr_of_Flight</th>\n",
              "    </tr>\n",
              "  </thead>\n",
              "  <tbody>\n",
              "    <tr>\n",
              "      <th>count</th>\n",
              "      <td>23.0</td>\n",
              "      <td>23.000000</td>\n",
              "      <td>23.000000</td>\n",
              "      <td>23.000000</td>\n",
              "      <td>23.00000</td>\n",
              "    </tr>\n",
              "    <tr>\n",
              "      <th>mean</th>\n",
              "      <td>6.0</td>\n",
              "      <td>0.304348</td>\n",
              "      <td>69.565217</td>\n",
              "      <td>152.173913</td>\n",
              "      <td>12.00000</td>\n",
              "    </tr>\n",
              "    <tr>\n",
              "      <th>std</th>\n",
              "      <td>0.0</td>\n",
              "      <td>0.558796</td>\n",
              "      <td>7.057080</td>\n",
              "      <td>68.221332</td>\n",
              "      <td>6.78233</td>\n",
              "    </tr>\n",
              "    <tr>\n",
              "      <th>min</th>\n",
              "      <td>6.0</td>\n",
              "      <td>0.000000</td>\n",
              "      <td>53.000000</td>\n",
              "      <td>50.000000</td>\n",
              "      <td>1.00000</td>\n",
              "    </tr>\n",
              "    <tr>\n",
              "      <th>25%</th>\n",
              "      <td>6.0</td>\n",
              "      <td>0.000000</td>\n",
              "      <td>67.000000</td>\n",
              "      <td>75.000000</td>\n",
              "      <td>6.50000</td>\n",
              "    </tr>\n",
              "    <tr>\n",
              "      <th>50%</th>\n",
              "      <td>6.0</td>\n",
              "      <td>0.000000</td>\n",
              "      <td>70.000000</td>\n",
              "      <td>200.000000</td>\n",
              "      <td>12.00000</td>\n",
              "    </tr>\n",
              "    <tr>\n",
              "      <th>75%</th>\n",
              "      <td>6.0</td>\n",
              "      <td>0.500000</td>\n",
              "      <td>75.000000</td>\n",
              "      <td>200.000000</td>\n",
              "      <td>17.50000</td>\n",
              "    </tr>\n",
              "    <tr>\n",
              "      <th>max</th>\n",
              "      <td>6.0</td>\n",
              "      <td>2.000000</td>\n",
              "      <td>81.000000</td>\n",
              "      <td>200.000000</td>\n",
              "      <td>23.00000</td>\n",
              "    </tr>\n",
              "  </tbody>\n",
              "</table>\n",
              "</div>"
            ],
            "text/plain": [
              "       O_rings  O_rings_thermal_distress  Launch_Temperature  \\\n",
              "count     23.0                 23.000000           23.000000   \n",
              "mean       6.0                  0.304348           69.565217   \n",
              "std        0.0                  0.558796            7.057080   \n",
              "min        6.0                  0.000000           53.000000   \n",
              "25%        6.0                  0.000000           67.000000   \n",
              "50%        6.0                  0.000000           70.000000   \n",
              "75%        6.0                  0.500000           75.000000   \n",
              "max        6.0                  2.000000           81.000000   \n",
              "\n",
              "       Leak_Check_Pressure  Nr_of_Flight  \n",
              "count            23.000000      23.00000  \n",
              "mean            152.173913      12.00000  \n",
              "std              68.221332       6.78233  \n",
              "min              50.000000       1.00000  \n",
              "25%              75.000000       6.50000  \n",
              "50%             200.000000      12.00000  \n",
              "75%             200.000000      17.50000  \n",
              "max             200.000000      23.00000  "
            ]
          },
          "execution_count": 6,
          "metadata": {},
          "output_type": "execute_result"
        }
      ],
      "source": [
        "# This is in case you want to show also some statistics of the data \n",
        "o_ring.describe()"
      ]
    },
    {
      "cell_type": "code",
      "execution_count": null,
      "metadata": {
        "colab": {
          "base_uri": "https://localhost:8080/",
          "height": 675
        },
        "id": "vmPxCMlULs6D",
        "outputId": "f180c5c2-4d3e-4372-c0e7-1c7c59f1c132"
      },
      "outputs": [
        {
          "name": "stdout",
          "output_type": "stream",
          "text": [
            "Saving figure histograms\n"
          ]
        },
        {
          "data": {
            "image/png": "[encoded data removed]",
            "text/plain": [
              "<Figure size 2000x1500 with 6 Axes>"
            ]
          },
          "metadata": {},
          "output_type": "display_data"
        }
      ],
      "source": [
        "# We want to dsiplay the values of the dataset\n",
        "# Display the plots in line\n",
        "%matplotlib inline\n",
        "import matplotlib.pyplot as plt\n",
        "o_ring.hist(bins=10, figsize=(20,15))\n",
        "save_fig('histograms')\n",
        "plt.show()"
      ]
    },
    {
      "cell_type": "code",
      "execution_count": null,
      "metadata": {
        "id": "B90GOs1KLs6J"
      },
      "outputs": [],
      "source": [
        "# to make this notebook's output identical at every run\n",
        "np.random.seed(42)"
      ]
    },
    {
      "cell_type": "code",
      "execution_count": null,
      "metadata": {
        "id": "LTdziLLaLs6P"
      },
      "outputs": [],
      "source": [
        "from sklearn.model_selection import train_test_split\n",
        "# split the data into training and test set.\n",
        "train_set, test_set = train_test_split(o_ring, test_size=0.2, random_state=42)"
      ]
    },
    {
      "cell_type": "code",
      "execution_count": null,
      "metadata": {
        "colab": {
          "base_uri": "https://localhost:8080/",
          "height": 204
        },
        "id": "rALXRzo8Ls6T",
        "outputId": "5ba85265-41ad-4619-bf61-3d32c4466ad3"
      },
      "outputs": [
        {
          "data": {
            "text/html": [
              "<div>\n",
              "<style scoped>\n",
              "    .dataframe tbody tr th:only-of-type {\n",
              "        vertical-align: middle;\n",
              "    }\n",
              "\n",
              "    .dataframe tbody tr th {\n",
              "        vertical-align: top;\n",
              "    }\n",
              "\n",
              "    .dataframe thead th {\n",
              "        text-align: right;\n",
              "    }\n",
              "</style>\n",
              "<table border=\"1\" class=\"dataframe\">\n",
              "  <thead>\n",
              "    <tr style=\"text-align: right;\">\n",
              "      <th></th>\n",
              "      <th>O_rings</th>\n",
              "      <th>O_rings_thermal_distress</th>\n",
              "      <th>Launch_Temperature</th>\n",
              "      <th>Leak_Check_Pressure</th>\n",
              "      <th>Nr_of_Flight</th>\n",
              "    </tr>\n",
              "  </thead>\n",
              "  <tbody>\n",
              "    <tr>\n",
              "      <th>15</th>\n",
              "      <td>6</td>\n",
              "      <td>0</td>\n",
              "      <td>75</td>\n",
              "      <td>200</td>\n",
              "      <td>16</td>\n",
              "    </tr>\n",
              "    <tr>\n",
              "      <th>9</th>\n",
              "      <td>6</td>\n",
              "      <td>1</td>\n",
              "      <td>63</td>\n",
              "      <td>200</td>\n",
              "      <td>10</td>\n",
              "    </tr>\n",
              "    <tr>\n",
              "      <th>0</th>\n",
              "      <td>6</td>\n",
              "      <td>0</td>\n",
              "      <td>66</td>\n",
              "      <td>50</td>\n",
              "      <td>1</td>\n",
              "    </tr>\n",
              "    <tr>\n",
              "      <th>8</th>\n",
              "      <td>6</td>\n",
              "      <td>1</td>\n",
              "      <td>57</td>\n",
              "      <td>200</td>\n",
              "      <td>9</td>\n",
              "    </tr>\n",
              "    <tr>\n",
              "      <th>17</th>\n",
              "      <td>6</td>\n",
              "      <td>0</td>\n",
              "      <td>81</td>\n",
              "      <td>200</td>\n",
              "      <td>18</td>\n",
              "    </tr>\n",
              "  </tbody>\n",
              "</table>\n",
              "</div>"
            ],
            "text/plain": [
              "    O_rings  O_rings_thermal_distress  Launch_Temperature  \\\n",
              "15        6                         0                  75   \n",
              "9         6                         1                  63   \n",
              "0         6                         0                  66   \n",
              "8         6                         1                  57   \n",
              "17        6                         0                  81   \n",
              "\n",
              "    Leak_Check_Pressure  Nr_of_Flight  \n",
              "15                  200            16  \n",
              "9                   200            10  \n",
              "0                    50             1  \n",
              "8                   200             9  \n",
              "17                  200            18  "
            ]
          },
          "execution_count": 10,
          "metadata": {},
          "output_type": "execute_result"
        }
      ],
      "source": [
        "test_set.head()"
      ]
    },
    {
      "cell_type": "code",
      "execution_count": null,
      "metadata": {
        "id": "PCIvHGN-Ls6X"
      },
      "outputs": [],
      "source": [
        "# To \"filter\" the dataset and create the one needed for the training\n",
        "# drop the labels for training set to create the input training set\n",
        "o_ring = train_set.drop(\"O_rings_thermal_distress\", axis=1) \n",
        "o_ring = o_ring.drop(\"Nr_of_Flight\", axis=1)\n",
        "# The label for the training is characterised by the column with the\n",
        "# \"O_rings_thermal_distress\"\n",
        "o_ring_labels = train_set[\"O_rings_thermal_distress\"].copy()"
      ]
    },
    {
      "cell_type": "code",
      "execution_count": null,
      "metadata": {
        "colab": {
          "base_uri": "https://localhost:8080/",
          "height": 204
        },
        "id": "L9fuJKbBLs6a",
        "outputId": "08aff966-1f23-4c43-88d8-d7153ba10068"
      },
      "outputs": [
        {
          "data": {
            "text/html": [
              "<div>\n",
              "<style scoped>\n",
              "    .dataframe tbody tr th:only-of-type {\n",
              "        vertical-align: middle;\n",
              "    }\n",
              "\n",
              "    .dataframe tbody tr th {\n",
              "        vertical-align: top;\n",
              "    }\n",
              "\n",
              "    .dataframe thead th {\n",
              "        text-align: right;\n",
              "    }\n",
              "</style>\n",
              "<table border=\"1\" class=\"dataframe\">\n",
              "  <thead>\n",
              "    <tr style=\"text-align: right;\">\n",
              "      <th></th>\n",
              "      <th>O_rings</th>\n",
              "      <th>O_rings_thermal_distress</th>\n",
              "      <th>Launch_Temperature</th>\n",
              "      <th>Leak_Check_Pressure</th>\n",
              "      <th>Nr_of_Flight</th>\n",
              "    </tr>\n",
              "  </thead>\n",
              "  <tbody>\n",
              "    <tr>\n",
              "      <th>12</th>\n",
              "      <td>6</td>\n",
              "      <td>0</td>\n",
              "      <td>67</td>\n",
              "      <td>200</td>\n",
              "      <td>13</td>\n",
              "    </tr>\n",
              "    <tr>\n",
              "      <th>1</th>\n",
              "      <td>6</td>\n",
              "      <td>1</td>\n",
              "      <td>70</td>\n",
              "      <td>50</td>\n",
              "      <td>2</td>\n",
              "    </tr>\n",
              "    <tr>\n",
              "      <th>13</th>\n",
              "      <td>6</td>\n",
              "      <td>2</td>\n",
              "      <td>53</td>\n",
              "      <td>200</td>\n",
              "      <td>14</td>\n",
              "    </tr>\n",
              "    <tr>\n",
              "      <th>5</th>\n",
              "      <td>6</td>\n",
              "      <td>0</td>\n",
              "      <td>72</td>\n",
              "      <td>50</td>\n",
              "      <td>6</td>\n",
              "    </tr>\n",
              "    <tr>\n",
              "      <th>2</th>\n",
              "      <td>6</td>\n",
              "      <td>0</td>\n",
              "      <td>69</td>\n",
              "      <td>50</td>\n",
              "      <td>3</td>\n",
              "    </tr>\n",
              "  </tbody>\n",
              "</table>\n",
              "</div>"
            ],
            "text/plain": [
              "    O_rings  O_rings_thermal_distress  Launch_Temperature  \\\n",
              "12        6                         0                  67   \n",
              "1         6                         1                  70   \n",
              "13        6                         2                  53   \n",
              "5         6                         0                  72   \n",
              "2         6                         0                  69   \n",
              "\n",
              "    Leak_Check_Pressure  Nr_of_Flight  \n",
              "12                  200            13  \n",
              "1                    50             2  \n",
              "13                  200            14  \n",
              "5                    50             6  \n",
              "2                    50             3  "
            ]
          },
          "execution_count": 12,
          "metadata": {},
          "output_type": "execute_result"
        }
      ],
      "source": [
        "train_set.head()"
      ]
    },
    {
      "cell_type": "code",
      "execution_count": null,
      "metadata": {
        "colab": {
          "base_uri": "https://localhost:8080/",
          "height": 204
        },
        "id": "C-97jFvVLs6f",
        "outputId": "84a8324a-e08a-469d-e575-af0290e7396e"
      },
      "outputs": [
        {
          "data": {
            "text/html": [
              "<div>\n",
              "<style scoped>\n",
              "    .dataframe tbody tr th:only-of-type {\n",
              "        vertical-align: middle;\n",
              "    }\n",
              "\n",
              "    .dataframe tbody tr th {\n",
              "        vertical-align: top;\n",
              "    }\n",
              "\n",
              "    .dataframe thead th {\n",
              "        text-align: right;\n",
              "    }\n",
              "</style>\n",
              "<table border=\"1\" class=\"dataframe\">\n",
              "  <thead>\n",
              "    <tr style=\"text-align: right;\">\n",
              "      <th></th>\n",
              "      <th>O_rings</th>\n",
              "      <th>Launch_Temperature</th>\n",
              "      <th>Leak_Check_Pressure</th>\n",
              "    </tr>\n",
              "  </thead>\n",
              "  <tbody>\n",
              "    <tr>\n",
              "      <th>12</th>\n",
              "      <td>6</td>\n",
              "      <td>67</td>\n",
              "      <td>200</td>\n",
              "    </tr>\n",
              "    <tr>\n",
              "      <th>1</th>\n",
              "      <td>6</td>\n",
              "      <td>70</td>\n",
              "      <td>50</td>\n",
              "    </tr>\n",
              "    <tr>\n",
              "      <th>13</th>\n",
              "      <td>6</td>\n",
              "      <td>53</td>\n",
              "      <td>200</td>\n",
              "    </tr>\n",
              "    <tr>\n",
              "      <th>5</th>\n",
              "      <td>6</td>\n",
              "      <td>72</td>\n",
              "      <td>50</td>\n",
              "    </tr>\n",
              "    <tr>\n",
              "      <th>2</th>\n",
              "      <td>6</td>\n",
              "      <td>69</td>\n",
              "      <td>50</td>\n",
              "    </tr>\n",
              "  </tbody>\n",
              "</table>\n",
              "</div>"
            ],
            "text/plain": [
              "    O_rings  Launch_Temperature  Leak_Check_Pressure\n",
              "12        6                  67                  200\n",
              "1         6                  70                   50\n",
              "13        6                  53                  200\n",
              "5         6                  72                   50\n",
              "2         6                  69                   50"
            ]
          },
          "execution_count": 13,
          "metadata": {},
          "output_type": "execute_result"
        }
      ],
      "source": [
        "o_ring.head()"
      ]
    },
    {
      "cell_type": "code",
      "execution_count": null,
      "metadata": {
        "colab": {
          "base_uri": "https://localhost:8080/",
          "height": 119
        },
        "id": "OQGGPPOWLs6i",
        "outputId": "43daa12c-cc6a-4400-936d-7bf860e98ecd"
      },
      "outputs": [
        {
          "data": {
            "text/plain": [
              "12    0\n",
              "1     1\n",
              "13    2\n",
              "5     0\n",
              "2     0\n",
              "Name: O_rings_thermal_distress, dtype: int64"
            ]
          },
          "execution_count": 14,
          "metadata": {},
          "output_type": "execute_result"
        }
      ],
      "source": [
        "o_ring_labels.head()"
      ]
    },
    {
      "cell_type": "code",
      "execution_count": null,
      "metadata": {
        "id": "zGvc9WzrLs6m",
        "outputId": "70a1020f-cdd3-4b3d-b6e5-162e8cf5e67b"
      },
      "outputs": [
        {
          "name": "stdout",
          "output_type": "stream",
          "text": [
            "Pipeline(steps=[('std_scaler', StandardScaler())])\n"
          ]
        }
      ],
      "source": [
        "# To prepare the data it is possible to use a Pipeline\n",
        "# I leave to you to look into the information about Pipelines and Transformers.\n",
        "# Here some suggestions: https://www.databricks.com/glossary/what-are-ml-pipelines\n",
        "# http://scikit-learn.org/stable/modules/generated/sklearn.pipeline.Pipeline.html \n",
        "\n",
        "from sklearn.pipeline import Pipeline\n",
        "from sklearn.preprocessing import StandardScaler\n",
        "\n",
        "num_pipeline = Pipeline([\n",
        "        ('std_scaler', StandardScaler()),\n",
        "    ])\n",
        "print(num_pipeline)"
      ]
    },
    {
      "cell_type": "code",
      "execution_count": null,
      "metadata": {
        "id": "nFZQrpXdLs6p"
      },
      "outputs": [],
      "source": [
        "from sklearn.compose import ColumnTransformer"
      ]
    },
    {
      "cell_type": "code",
      "execution_count": null,
      "metadata": {
        "id": "UXJ4G22JLs6u"
      },
      "outputs": [],
      "source": [
        "\n",
        "num_attribs = list(o_ring)\n",
        "\n",
        "full_pipeline = ColumnTransformer([\n",
        "        (\"num\", num_pipeline, num_attribs),\n",
        "    ])\n",
        "\n",
        "o_ring_prepared = full_pipeline.fit_transform(o_ring)"
      ]
    },
    {
      "cell_type": "code",
      "execution_count": null,
      "metadata": {
        "colab": {
          "base_uri": "https://localhost:8080/",
          "height": 323
        },
        "id": "Zso9GTf7Ls6x",
        "outputId": "f2fc8105-7916-4c3d-d701-00db02297d8a"
      },
      "outputs": [
        {
          "data": {
            "text/plain": [
              "array([[ 0.        , -0.45684395,  0.78023648],\n",
              "       [ 0.        ,  0.01757092, -1.43727773],\n",
              "       [ 0.        , -2.67077999,  0.78023648],\n",
              "       [ 0.        ,  0.3338475 , -1.43727773],\n",
              "       [ 0.        , -0.14056737, -1.43727773],\n",
              "       [ 0.        ,  1.28267723,  0.78023648],\n",
              "       [ 0.        ,  0.80826237,  0.78023648],\n",
              "       [ 0.        , -0.29870566, -1.43727773],\n",
              "       [ 0.        , -0.45684395, -1.43727773],\n",
              "       [ 0.        ,  0.96640065,  0.78023648],\n",
              "       [ 0.        ,  0.01757092,  0.78023648],\n",
              "       [ 0.        ,  0.96640065,  0.78023648],\n",
              "       [ 0.        , -1.88008855,  0.78023648],\n",
              "       [ 0.        ,  0.01757092, -0.69810633],\n",
              "       [ 0.        ,  0.01757092,  0.78023648],\n",
              "       [ 0.        , -0.45684395,  0.78023648],\n",
              "       [ 0.        ,  1.44081552,  0.78023648],\n",
              "       [ 0.        ,  0.49198579, -0.69810633]])"
            ]
          },
          "execution_count": 18,
          "metadata": {},
          "output_type": "execute_result"
        }
      ],
      "source": [
        "o_ring_prepared"
      ]
    },
    {
      "cell_type": "code",
      "execution_count": null,
      "metadata": {
        "colab": {
          "base_uri": "https://localhost:8080/",
          "height": 51
        },
        "id": "cxWUC15-Ls60",
        "outputId": "42a027c1-f210-4fd6-a81b-8b370ba76c1e"
      },
      "outputs": [
        {
          "data": {
            "text/plain": [
              "SVR(kernel='linear')"
            ]
          },
          "execution_count": 19,
          "metadata": {},
          "output_type": "execute_result"
        }
      ],
      "source": [
        "# Here diverse types of regressive models are used: Support Vector Machines, Random Forests \n",
        "# and Linear Regressors\n",
        "\n",
        "from sklearn.linear_model import LinearRegression\n",
        "from sklearn.svm import SVR\n",
        "from sklearn.ensemble import RandomForestRegressor\n",
        "\n",
        "#reg = RandomForestRegressor(n_estimators=10, random_state=42)\n",
        "reg = SVR(kernel=\"linear\")\n",
        "#reg = LinearRegression()\n",
        "\n",
        "# The fit function trains the regressor (the model)\n",
        "reg.fit(o_ring_prepared, o_ring_labels)"
      ]
    },
    {
      "cell_type": "code",
      "execution_count": null,
      "metadata": {
        "colab": {
          "base_uri": "https://localhost:8080/",
          "height": 34
        },
        "id": "O8eQKtSDLs63",
        "outputId": "c3982eb5-2ade-43f1-e05b-70da5db6ac92"
      },
      "outputs": [
        {
          "name": "stdout",
          "output_type": "stream",
          "text": [
            "Predictions: [ 0.45255248 -0.00115266  1.14909444 -0.10065866  0.04860033]\n"
          ]
        }
      ],
      "source": [
        "\n",
        "some_data = o_ring.iloc[:5]\n",
        "some_labels = o_ring_labels.iloc[:5]\n",
        "# Part of the dataset (not used for training) is used to build for the prediction\n",
        "some_data_prepared = full_pipeline.transform(some_data)\n",
        "\n",
        "print(\"Predictions:\", reg.predict(some_data_prepared))"
      ]
    },
    {
      "cell_type": "code",
      "execution_count": null,
      "metadata": {
        "colab": {
          "base_uri": "https://localhost:8080/",
          "height": 34
        },
        "id": "MYIbhHvrLs66",
        "outputId": "0981b57c-f755-4149-ece8-366124e41865"
      },
      "outputs": [
        {
          "name": "stdout",
          "output_type": "stream",
          "text": [
            "Labels: [0, 1, 2, 0, 0]\n"
          ]
        }
      ],
      "source": [
        "\n",
        "print(\"Labels:\", list(some_labels))"
      ]
    },
    {
      "cell_type": "code",
      "execution_count": null,
      "metadata": {
        "colab": {
          "base_uri": "https://localhost:8080/",
          "height": 34
        },
        "id": "J33lgS-3Ls69",
        "outputId": "e70639c0-f5a0-4cfe-9b7d-850bb9e90c20"
      },
      "outputs": [
        {
          "name": "stdout",
          "output_type": "stream",
          "text": [
            "RMSE: 0.3952992511413112\n"
          ]
        }
      ],
      "source": [
        "from sklearn.metrics import mean_squared_error\n",
        "# some metrics used to evaluate the error in the prediction\n",
        "o_ring_predictions = reg.predict(o_ring_prepared)\n",
        "mse = mean_squared_error(o_ring_labels, o_ring_predictions)\n",
        "rmse = np.sqrt(mse)\n",
        "print(\"RMSE:\", rmse)"
      ]
    },
    {
      "cell_type": "code",
      "execution_count": null,
      "metadata": {
        "colab": {
          "base_uri": "https://localhost:8080/",
          "height": 34
        },
        "id": "y4mrRX25Ls7A",
        "outputId": "d2c0a3da-e787-4e84-8218-93cb3076fd1f"
      },
      "outputs": [
        {
          "name": "stdout",
          "output_type": "stream",
          "text": [
            "MAE: 0.2613947146090829\n"
          ]
        }
      ],
      "source": [
        "from sklearn.metrics import mean_absolute_error\n",
        "mae = mean_absolute_error(o_ring_labels, o_ring_predictions)\n",
        "print(\"MAE:\", mae)"
      ]
    },
    {
      "cell_type": "markdown",
      "metadata": {
        "id": "YHpcWmOZzB2t"
      },
      "source": [
        "# Cross validation on the training set - a better way of validation"
      ]
    },
    {
      "cell_type": "code",
      "execution_count": null,
      "metadata": {
        "colab": {
          "base_uri": "https://localhost:8080/",
          "height": 85
        },
        "id": "Zh7c87LszswQ",
        "outputId": "84a9d399-2487-4ad8-f661-932615282da1"
      },
      "outputs": [
        {
          "name": "stdout",
          "output_type": "stream",
          "text": [
            "Scores: [0.84374494 1.07778895 0.07539087 0.07951209 0.10623842 0.24941339\n",
            " 0.45167518 0.58834101 0.14974239 0.0489296 ]\n",
            "Mean: 0.36707768343348973\n",
            "Standard deviation: 0.34446282287646957\n"
          ]
        }
      ],
      "source": [
        "def display_scores(scores):\n",
        "    print(\"Scores:\", scores)\n",
        "    print(\"Mean:\", scores.mean())\n",
        "    print(\"Standard deviation:\", scores.std())\n",
        "    \n",
        "from sklearn.model_selection import cross_val_score\n",
        "# cross_val_score is a way to use the cross-validation in sklearn.\n",
        "# cross validation https://scikit-learn.org/stable/modules/cross_validation.html\n",
        "cross_validation_scores = cross_val_score(reg, o_ring_prepared, o_ring_labels,\n",
        "                                          scoring=\"neg_mean_squared_error\", cv=10)\n",
        "rmse_scores = np.sqrt(-cross_validation_scores)\n",
        "display_scores(rmse_scores)"
      ]
    },
    {
      "cell_type": "markdown",
      "metadata": {
        "id": "Xyvt0QBgLs7C"
      },
      "source": [
        "## Examination of the role of the temperature"
      ]
    },
    {
      "cell_type": "code",
      "execution_count": null,
      "metadata": {
        "colab": {
          "base_uri": "https://localhost:8080/",
          "height": 303
        },
        "id": "tiN8-x1NLs7C",
        "outputId": "ecc5bb37-c1da-409a-e7c5-b7c3076d3527"
      },
      "outputs": [
        {
          "data": {
            "text/plain": [
              "<AxesSubplot:xlabel='Launch_Temperature', ylabel='O_rings_thermal_distress'>"
            ]
          },
          "execution_count": 25,
          "metadata": {},
          "output_type": "execute_result"
        },
        {
          "data": {
            "image/png": "[encoded data removed]",
            "text/plain": [
              "<Figure size 640x480 with 1 Axes>"
            ]
          },
          "metadata": {},
          "output_type": "display_data"
        }
      ],
      "source": [
        "# plot of the results \n",
        "pd.concat([train_set, test_set]).plot(kind=\"scatter\", x=\"Launch_Temperature\", y=\"O_rings_thermal_distress\", alpha=0.7)"
      ]
    },
    {
      "cell_type": "code",
      "execution_count": null,
      "metadata": {
        "id": "QdZJFPEs62Ad"
      },
      "outputs": [],
      "source": []
    }
  ],
  "metadata": {
    "colab": {
      "collapsed_sections": [],
      "provenance": [],
      "include_colab_link": true
    },
    "kernelspec": {
      "display_name": "Python 3 (ipykernel)",
      "language": "python",
      "name": "python3"
    },
    "language_info": {
      "codemirror_mode": {
        "name": "ipython",
        "version": 3
      },
      "file_extension": ".py",
      "mimetype": "text/x-python",
      "name": "python",
      "nbconvert_exporter": "python",
      "pygments_lexer": "ipython3",
      "version": "3.7.13"
    },
    "vscode": {
      "interpreter": {
        "hash": "0893c847e86b6989aca98574b3fb25672d9afd474b88350388891778551f8785"
      }
    }
  },
  "nbformat": 4,
  "nbformat_minor": 0
}