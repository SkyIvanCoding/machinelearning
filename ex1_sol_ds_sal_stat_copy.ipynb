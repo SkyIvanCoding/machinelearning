{
  "cells": [
    {
      "cell_type": "markdown",
      "metadata": {
        "id": "view-in-github",
        "colab_type": "text"
      },
      "source": [
        "<a href=\"https://colab.research.google.com/github/parwinderau/machinelearning/blob/main/ex1_sol_ds_sal_stat_copy.ipynb\" target=\"_parent\"><img src=\"https://colab.research.google.com/assets/colab-badge.svg\" alt=\"Open In Colab\"/></a>"
      ]
    },
    {
      "cell_type": "code",
      "execution_count": null,
      "metadata": {
        "colab": {
          "base_uri": "https://localhost:8080/"
        },
        "id": "fqjWcdp_4bHV",
        "outputId": "b59b33f5-fb60-4d20-8804-8a71415e8a49"
      },
      "outputs": [
        {
          "output_type": "stream",
          "name": "stdout",
          "text": [
            "   Unnamed: 0  work_year experience_level employment_type  \\\n",
            "0           0       2020               MI              FT   \n",
            "1           1       2020               SE              FT   \n",
            "2           2       2020               SE              FT   \n",
            "3           3       2020               MI              FT   \n",
            "\n",
            "                    job_title  salary salary_currency  salary_in_usd  \\\n",
            "0              Data Scientist   70000             EUR          79833   \n",
            "1  Machine Learning Scientist  260000             USD         260000   \n",
            "2           Big Data Engineer   85000             GBP         109024   \n",
            "3        Product Data Analyst   20000             USD          20000   \n",
            "\n",
            "  employee_residence  remote_ratio company_location company_size  \n",
            "0                 DE             0               DE            L  \n",
            "1                 JP             0               JP            S  \n",
            "2                 GB            50               GB            M  \n",
            "3                 HN             0               HN            S  \n"
          ]
        }
      ],
      "source": [
        "# Solution for the exercise 1, lecture 1\n",
        "#\n",
        "# Kaggle Dataset link: https://www.kaggle.com/datasets/ruchi798/data-science-job-salaries\n",
        "\n",
        "import pandas as pd\n",
        "# pandas cheatsheet\n",
        "# https://pandas.pydata.org/Pandas_Cheat_Sheet.pdf\n",
        "\n",
        "# take the data from the file\n",
        "data = pd.read_csv(\"ds_salaries.csv\", delimiter=\",\")\n",
        "# conveder the data into dataframe\n",
        "ds_sal=pd.DataFrame(data)\n",
        "#\n",
        "\n",
        "print(ds_sal.head(4))"
      ]
    },
    {
      "cell_type": "code",
      "execution_count": null,
      "metadata": {
        "colab": {
          "base_uri": "https://localhost:8080/"
        },
        "id": "oflqIfY64bHa",
        "outputId": "c590e17b-a569-4e6f-cab4-d7e0c17a9f35"
      },
      "outputs": [
        {
          "output_type": "stream",
          "name": "stdout",
          "text": [
            "Average salary calculated from array =  62680.0\n",
            "Average salary calculated with a loop =  62680.0\n",
            "Average salary calculated directly with pandas =  62680.0\n"
          ]
        }
      ],
      "source": [
        "# Task-1: find the average salary for Data Scientists at Senior level (average salary in Euro)\n",
        "import numpy as np\n",
        "# numnpy cheatsheet:\n",
        "# https://assets.datacamp.com/blog_assets/Numpy_Python_Cheat_Sheet.pdf\n",
        "\n",
        "# Take the correct column from the dataframe\n",
        "#print (ds_sal['salary'])\n",
        "ds_sn = ds_sal[(ds_sal['experience_level']=='SE') & (ds_sal['job_title']=='Data Scientist') & (ds_sal['salary_currency']=='EUR')]\n",
        "\n",
        "# And from the new dataframe take only the salary column\n",
        "ds_sn_sal = ds_sn['salary']\n",
        "\n",
        "# Convert to list and then to array. These operations can be done direclty in one shot using\n",
        "# \"to_array()\" pandas method, but in this case we did in few steps just for fun.\n",
        "ds_sn_sal_li = []\n",
        "ds_sn_sal_li = ds_sn_sal.values.tolist()\n",
        "ds_sn_sal_ar = np.array(ds_sn_sal_li)\n",
        "\n",
        "# Calculate the average of the array \n",
        "avg_1 = np.mean(ds_sn_sal_ar)\n",
        "\n",
        "# Could have been also \n",
        "sum_v = 0.0; avg_v = 0.0\n",
        "\n",
        "for i in ds_sn_sal_ar:\n",
        "    sum_v += i\n",
        "\n",
        "avg_2 = sum_v/len(ds_sn_sal_ar)\n",
        "\n",
        "# Could have been also \n",
        "avg_3 = ds_sn_sal.mean()\n",
        "\n",
        "print('Average salary calculated from array = ',avg_1)\n",
        "print('Average salary calculated with a loop = ',avg_2)\n",
        "print('Average salary calculated directly with pandas = ',avg_3)"
      ]
    },
    {
      "cell_type": "code",
      "execution_count": null,
      "metadata": {
        "colab": {
          "base_uri": "https://localhost:8080/",
          "height": 282
        },
        "id": "GQhLdY0v4bHb",
        "outputId": "b08b57ea-951a-4354-a1f7-4f3ba767c356"
      },
      "outputs": [
        {
          "output_type": "execute_result",
          "data": {
            "text/plain": [
              "<BarContainer object of 3 artists>"
            ]
          },
          "metadata": {},
          "execution_count": 5
        },
        {
          "output_type": "display_data",
          "data": {
            "text/plain": [
              "<Figure size 432x288 with 1 Axes>"
            ],
            "image/png": "[encoded data removed]"
          },
          "metadata": {
            "needs_background": "light"
          }
        }
      ],
      "source": [
        "# Task-2: visualise the salary trend for a Data Analyst of EN level, for 2020, 2021, 2022.\n",
        "\n",
        "da_sn20 = ds_sal[(ds_sal['job_title']=='Data Analyst') & (ds_sal['experience_level']=='EN') & (ds_sal['work_year']== 2020)]\n",
        "da_sn20_sal = da_sn20['salary']\n",
        "da_sn21 = ds_sal[(ds_sal['job_title']=='Data Analyst') & (ds_sal['experience_level']=='EN') & (ds_sal['work_year']== 2021)]\n",
        "da_sn21_sal = da_sn21['salary']\n",
        "da_sn22 = ds_sal[(ds_sal['job_title']=='Data Analyst') & (ds_sal['experience_level']=='EN') & (ds_sal['work_year']== 2022)]\n",
        "da_sn22_sal = da_sn22['salary']\n",
        "\n",
        "# convert the data found into lists\n",
        "da_sn20_l = da_sn20_sal.values.tolist()\n",
        "# convert than into arrays\n",
        "da_sn20_ar = np.array(da_sn20_l)\n",
        "# calculate the mean\n",
        "avg20 = np.mean(da_sn20_ar)\n",
        "\n",
        "da_sn21_l = da_sn21_sal.values.tolist()\n",
        "da_sn21_ar = np.array(da_sn21_l)\n",
        "avg21 = np.mean(da_sn21_ar)\n",
        "\n",
        "da_sn22_l = da_sn22_sal.values.tolist()\n",
        "da_sn22_ar = np.array(da_sn22_l)\n",
        "avg22 = np.mean(da_sn22_ar)\n",
        "\n",
        "# an example of simple plot\n",
        "import matplotlib.pyplot as plt\n",
        "# Matplotlip cheatsheet\n",
        "# https://matplotlib.org/cheatsheets/_images/cheatsheets-1.png\n",
        "\n",
        "# put in the horizontal axis the years and in the average values\n",
        "plt.bar([2020, 2021, 2022],[avg20, avg21, avg22])\n"
      ]
    },
    {
      "cell_type": "code",
      "execution_count": null,
      "metadata": {
        "id": "cyHnPCuK4bHc"
      },
      "outputs": [],
      "source": [
        "# Task-3: substitute all the Data Analyst figures (identified as \"Data Analyist\" in the job_title column) \n",
        "# salaries with NaN values for 2021. \n",
        "\n",
        "num_rows = len(ds_sal.index)\n",
        "\n",
        "# We could copy the dataframe\n",
        "ds_sal_nan = ds_sal\n",
        "\n",
        "for i in range(num_rows):\n",
        "    if ((ds_sal.iloc[i,4] == 'Data Analyst') and (ds_sal.iloc[i,1]==2021)):\n",
        "        ds_sal_nan.iloc[i,5] = np.nan \n",
        "        ds_sal_nan.iloc[i,7] = np.nan \n",
        "\n",
        "# Check if this worked by saving the file and checking it\n",
        "ds_sal_nan.to_csv(\"data2.csv\")\n"
      ]
    },
    {
      "cell_type": "code",
      "execution_count": null,
      "metadata": {
        "id": "07aejwFx4bHd",
        "outputId": "4bf1495e-6ee1-40bb-e9d4-9865de8ec7b1",
        "colab": {
          "base_uri": "https://localhost:8080/",
          "height": 1000
        }
      },
      "outputs": [
        {
          "output_type": "stream",
          "name": "stdout",
          "text": [
            "#################################################################################\n",
            "    Unnamed: 0  work_year experience_level employment_type     job_title  \\\n",
            "5            5       2020               EN              FT  Data Analyst   \n",
            "14          14       2020               MI              FT  Data Analyst   \n",
            "15          15       2020               MI              FT  Data Analyst   \n",
            "34          34       2020               MI              FT  Data Analyst   \n",
            "38          38       2020               EN              FT  Data Analyst   \n",
            "50          50       2020               EN              FT  Data Analyst   \n",
            "51          51       2020               EN              FT  Data Analyst   \n",
            "\n",
            "      salary salary_currency  salary_in_usd employee_residence  remote_ratio  \\\n",
            "5    72000.0             USD        72000.0                 US           100   \n",
            "14   85000.0             USD        85000.0                 US           100   \n",
            "15    8000.0             USD         8000.0                 PK            50   \n",
            "34   41000.0             EUR        46759.0                 FR            50   \n",
            "38   10000.0             USD        10000.0                 NG           100   \n",
            "50  450000.0             INR         6072.0                 IN             0   \n",
            "51   91000.0             USD        91000.0                 US           100   \n",
            "\n",
            "   company_location company_size  \n",
            "5                US            L  \n",
            "14               US            L  \n",
            "15               PK            L  \n",
            "34               FR            L  \n",
            "38               NG            S  \n",
            "50               IN            S  \n",
            "51               US            L  \n",
            "#################################################################################\n",
            "    Unnamed: 0  work_year experience_level employment_type     job_title  \\\n",
            "5            5       2020               EN              FT  Data Analyst   \n",
            "38          38       2020               EN              FT  Data Analyst   \n",
            "50          50       2020               EN              FT  Data Analyst   \n",
            "51          51       2020               EN              FT  Data Analyst   \n",
            "\n",
            "      salary salary_currency  salary_in_usd employee_residence  remote_ratio  \\\n",
            "5    72000.0             USD        72000.0                 US           100   \n",
            "38   10000.0             USD        10000.0                 NG           100   \n",
            "50  450000.0             INR         6072.0                 IN             0   \n",
            "51   91000.0             USD        91000.0                 US           100   \n",
            "\n",
            "   company_location company_size  \n",
            "5                US            L  \n",
            "38               NG            S  \n",
            "50               IN            S  \n",
            "51               US            L  \n",
            "++++++++++++++++++++++++++++++++++++++++++++++++++++++++++++++++++++++++++++++++++\n"
          ]
        },
        {
          "output_type": "error",
          "ename": "KeyboardInterrupt",
          "evalue": "ignored",
          "traceback": [
            "\u001b[0;31m---------------------------------------------------------------------------\u001b[0m",
            "\u001b[0;31mKeyboardInterrupt\u001b[0m                         Traceback (most recent call last)",
            "\u001b[0;32m<ipython-input-16-e809f70b0719>\u001b[0m in \u001b[0;36m<module>\u001b[0;34m\u001b[0m\n\u001b[1;32m     41\u001b[0m         \u001b[0mprint\u001b[0m \u001b[0;34m(\u001b[0m\u001b[0mdf_DA_y\u001b[0m\u001b[0;34m[\u001b[0m\u001b[0mdf_DA_y\u001b[0m\u001b[0;34m[\u001b[0m\u001b[0;34m'experience_level'\u001b[0m\u001b[0;34m]\u001b[0m \u001b[0;34m==\u001b[0m \u001b[0mwl\u001b[0m\u001b[0;34m]\u001b[0m\u001b[0;34m)\u001b[0m\u001b[0;34m\u001b[0m\u001b[0;34m\u001b[0m\u001b[0m\n\u001b[1;32m     42\u001b[0m         \u001b[0mprint\u001b[0m\u001b[0;34m(\u001b[0m\u001b[0;34m'++++++++++++++++++++++++++++++++++++++++++++++++++++++++++++++++++++++++++++++++++'\u001b[0m\u001b[0;34m)\u001b[0m\u001b[0;34m\u001b[0m\u001b[0;34m\u001b[0m\u001b[0m\n\u001b[0;32m---> 43\u001b[0;31m         \u001b[0mwait\u001b[0m \u001b[0;34m=\u001b[0m \u001b[0minput\u001b[0m\u001b[0;34m(\u001b[0m\u001b[0;34m\"Press Enter to continue.\"\u001b[0m\u001b[0;34m)\u001b[0m\u001b[0;34m\u001b[0m\u001b[0;34m\u001b[0m\u001b[0m\n\u001b[0m\u001b[1;32m     44\u001b[0m         \u001b[0;31m# for each experience level in the wl_l we create a dataframe\u001b[0m\u001b[0;34m\u001b[0m\u001b[0;34m\u001b[0m\u001b[0;34m\u001b[0m\u001b[0m\n\u001b[1;32m     45\u001b[0m         \u001b[0mdf_DA_wl\u001b[0m \u001b[0;34m=\u001b[0m \u001b[0mdf_DA_y\u001b[0m\u001b[0;34m[\u001b[0m\u001b[0mdf_DA_y\u001b[0m\u001b[0;34m[\u001b[0m\u001b[0;34m'experience_level'\u001b[0m\u001b[0;34m]\u001b[0m \u001b[0;34m==\u001b[0m \u001b[0mwl\u001b[0m\u001b[0;34m]\u001b[0m\u001b[0;34m\u001b[0m\u001b[0;34m\u001b[0m\u001b[0m\n",
            "\u001b[0;32m/usr/local/lib/python3.7/dist-packages/ipykernel/kernelbase.py\u001b[0m in \u001b[0;36mraw_input\u001b[0;34m(self, prompt)\u001b[0m\n\u001b[1;32m    861\u001b[0m             \u001b[0mself\u001b[0m\u001b[0;34m.\u001b[0m\u001b[0m_parent_ident\u001b[0m\u001b[0;34m,\u001b[0m\u001b[0;34m\u001b[0m\u001b[0;34m\u001b[0m\u001b[0m\n\u001b[1;32m    862\u001b[0m             \u001b[0mself\u001b[0m\u001b[0;34m.\u001b[0m\u001b[0m_parent_header\u001b[0m\u001b[0;34m,\u001b[0m\u001b[0;34m\u001b[0m\u001b[0;34m\u001b[0m\u001b[0m\n\u001b[0;32m--> 863\u001b[0;31m             \u001b[0mpassword\u001b[0m\u001b[0;34m=\u001b[0m\u001b[0;32mFalse\u001b[0m\u001b[0;34m,\u001b[0m\u001b[0;34m\u001b[0m\u001b[0;34m\u001b[0m\u001b[0m\n\u001b[0m\u001b[1;32m    864\u001b[0m         )\n\u001b[1;32m    865\u001b[0m \u001b[0;34m\u001b[0m\u001b[0m\n",
            "\u001b[0;32m/usr/local/lib/python3.7/dist-packages/ipykernel/kernelbase.py\u001b[0m in \u001b[0;36m_input_request\u001b[0;34m(self, prompt, ident, parent, password)\u001b[0m\n\u001b[1;32m    902\u001b[0m             \u001b[0;32mexcept\u001b[0m \u001b[0mKeyboardInterrupt\u001b[0m\u001b[0;34m:\u001b[0m\u001b[0;34m\u001b[0m\u001b[0;34m\u001b[0m\u001b[0m\n\u001b[1;32m    903\u001b[0m                 \u001b[0;31m# re-raise KeyboardInterrupt, to truncate traceback\u001b[0m\u001b[0;34m\u001b[0m\u001b[0;34m\u001b[0m\u001b[0;34m\u001b[0m\u001b[0m\n\u001b[0;32m--> 904\u001b[0;31m                 \u001b[0;32mraise\u001b[0m \u001b[0mKeyboardInterrupt\u001b[0m\u001b[0;34m(\u001b[0m\u001b[0;34m\"Interrupted by user\"\u001b[0m\u001b[0;34m)\u001b[0m \u001b[0;32mfrom\u001b[0m \u001b[0;32mNone\u001b[0m\u001b[0;34m\u001b[0m\u001b[0;34m\u001b[0m\u001b[0m\n\u001b[0m\u001b[1;32m    905\u001b[0m             \u001b[0;32mexcept\u001b[0m \u001b[0mException\u001b[0m \u001b[0;32mas\u001b[0m \u001b[0me\u001b[0m\u001b[0;34m:\u001b[0m\u001b[0;34m\u001b[0m\u001b[0;34m\u001b[0m\u001b[0m\n\u001b[1;32m    906\u001b[0m                 \u001b[0mself\u001b[0m\u001b[0;34m.\u001b[0m\u001b[0mlog\u001b[0m\u001b[0;34m.\u001b[0m\u001b[0mwarning\u001b[0m\u001b[0;34m(\u001b[0m\u001b[0;34m\"Invalid Message:\"\u001b[0m\u001b[0;34m,\u001b[0m \u001b[0mexc_info\u001b[0m\u001b[0;34m=\u001b[0m\u001b[0;32mTrue\u001b[0m\u001b[0;34m)\u001b[0m\u001b[0;34m\u001b[0m\u001b[0;34m\u001b[0m\u001b[0m\n",
            "\u001b[0;31mKeyboardInterrupt\u001b[0m: Interrupted by user"
          ]
        }
      ],
      "source": [
        "# Task-4: substitute the NaN values of the previous task with an averaged value between 2020 and 2022.\n",
        "# Try to use the same work for the average values (e.g. Data Analyst MI level nan salary should be\n",
        "# substituted with an Data Analyst salary value, averaged between 2020 and 2022 at the same Data Analyst).\n",
        "# Note that not all the figures are present in the dataset and this can be a problem \n",
        "# (e.g. ML Engineer MI level can be in 2021 but not in 2020). In this case you could try to substitute it with a random\n",
        "# value that could not be far from the actual one.\n",
        "\n",
        "# ML Engineer 2020 dafarame\n",
        "df_DA_20 = ds_sal_nan[(ds_sal_nan['job_title'] == \"Data Analyst\") & (ds_sal_nan['work_year'] == 2020)]\n",
        "# ML Engineer 2022 dafarame\n",
        "df_DA_22 = ds_sal_nan[(ds_sal_nan['job_title'] == \"Data Analyst\") & (ds_sal_nan['work_year'] == 2022)]\n",
        "\n",
        "# we put all salareis them in a list\n",
        "df_DA_y_l = []; df_DA_y_l.append(df_DA_20); df_DA_y_l.append(df_DA_22)\n",
        "\n",
        "\n",
        "\n",
        "# We know from the dataset that the expertise levels are four: EN, MI, SE, EX. \n",
        "# firstily we can try to see wich data we have, given the current data set:\n",
        "#\n",
        "# averaged salary list with two dimensions where to place the results.\n",
        "#\n",
        "avg_sal_l = [[],[]];\n",
        "\n",
        "# experience level list\n",
        "exl_l = ['EN','MI','SE','EX']\n",
        "\n",
        "# dataframes list\n",
        "#\n",
        "df_count = 0\n",
        "\n",
        "for df_DA_y in df_DA_y_l:\n",
        "    # average salary per year list\n",
        "\n",
        "    avg_sal_y_l = []\n",
        "    # for each single level of expertise\n",
        "    for wl in exl_l:\n",
        "        print('########################Data from from External Loop####################################################')\n",
        "        print (df_DA_y)\n",
        "        print('#####################FILTERED LIST based on Internal Loop#######################################################')\n",
        "        print (df_DA_y[df_DA_y['experience_level'] == wl])\n",
        "        print('++++++++++++++++++++++++++++++++++++++++++++++++++++++++++++++++++++++++++++++++++')\n",
        "        #wait = input(\"Press Enter to continue.\")\n",
        "        # for each experience level in the wl_l we create a dataframe\n",
        "        df_DA_wl = df_DA_y[df_DA_y['experience_level'] == wl]\n",
        "        # convert the salary values into a list wl_sa_l\n",
        "        wl_sa_l = df_DA_wl['salary_in_usd'].values.tolist()\n",
        "        # make the averaged value and append it to avg_sal_y_l\n",
        "        # in this list there are the average salary of each level but only for 2020 or 2022\n",
        "        avg_sal_y_l.append(np.around(np.mean(np.array(wl_sa_l))))\n",
        "    # once the list avg_sal_y_l is full put it in avg_sal_l list\n",
        "    # so we create a list of lists, which contains the average salaries list for 2020 and 2022\n",
        "    avg_sal_l[df_count] = avg_sal_y_l\n",
        "    avg_sal_y = []\n",
        "    df_count += 1\n",
        "\n",
        "# The final value list has two NaN because there is no indication of SE and EX salary in the original \n",
        "# dataframe. In this case you can complete the list in the way you think is better, for example, making \n",
        "# making a resarch on web on the data. For example in US the salary is  $97,814 and $106,500 for SE and # EX levels respectively. \n",
        "\n",
        "avg_sal_l[0][2] = 97814.0; avg_sal_l[0][3] = 106500.0\n",
        "\n",
        "# averaged list of values for 2021\n",
        "avg_sal_21_l = []\n",
        "\n",
        "# calculate the mean value between 2020 and 2022 and write the results in the list.\n",
        "# The list contains at the end the everage values of salary for a Data Analyst for each level of expetise\n",
        "# That is why is a list with four values inside, one for each level \n",
        "\n",
        "for i in range(4):\n",
        "    avg_sal_21_l.append(np.mean([avg_sal_l[0][i], avg_sal_l[1][i]]))\n",
        "\n",
        "# We now need to insert the resulting values in the dataframe, firstly we can copy the dataframe \n",
        "# to not lose it.\n",
        "\n",
        "ds_sal_fixed = ds_sal_nan\n",
        "\n",
        "# list of indexes list from the dataset for the Data Analyst we need to fix\n",
        "# We create a list with the number of the rows where we expect a NaN because is \n",
        "# Data Analyst row \n",
        "index_l = []\n",
        "# \n",
        "for exl in exl_l:\n",
        "    index_l.append(ds_sal_fixed[(ds_sal_fixed['experience_level'] == exl) & \n",
        "    (ds_sal_fixed['job_title'] == 'Data Analyst') & \n",
        "    (ds_sal_fixed['work_year'] == 2021)].index.tolist())\n",
        "\n",
        "\n",
        "\n",
        "# From the list of index we see that we have \n",
        "index_level = 0\n",
        "usd_sal_col = 7\n",
        "\n",
        "# for each index reporting the job expertise level\n",
        "for ind_l in index_l:\n",
        "    # for each element of that indexes list\n",
        "    for ind in ind_l:\n",
        "        # change each NaN in 2021 usd salary column\n",
        "        ds_sal_fixed.iloc[ind, usd_sal_col] = avg_sal_21_l[index_level]\n",
        "        if ds_sal_fixed.iloc[ind, usd_sal_col - 1] == 'EUR':\n",
        "            ds_sal_fixed.iloc[ind, usd_sal_col - 2] = 0.98 * avg_sal_21_l[index_level]\n",
        "        elif ds_sal_fixed.iloc[ind, usd_sal_col - 1] == 'CAD':\n",
        "            ds_sal_fixed.iloc[ind, usd_sal_col - 2] = 1.29 * avg_sal_21_l[index_level]\n",
        "        elif ds_sal_fixed.iloc[ind, usd_sal_col - 1] == 'USD':\n",
        "            ds_sal_fixed.iloc[ind, usd_sal_col - 2] = avg_sal_21_l[index_level]\n",
        "        elif ds_sal_fixed.iloc[ind, usd_sal_col - 1] == 'GBP':\n",
        "            ds_sal_fixed.iloc[ind, usd_sal_col - 2] = 0.83 * avg_sal_21_l[index_level]\n",
        "    index_level += 1\n",
        "#\n",
        "ds_sal_fixed.to_csv('ds_sal_fixed.csv')\n",
        "\n",
        "# The result is quite aproximative, because we simply averaged the salaries from diverse countries, but we \n",
        "# filled the data again using pandas and python.\n"
      ]
    }
  ],
  "metadata": {
    "colab": {
      "collapsed_sections": [],
      "provenance": [],
      "include_colab_link": true
    },
    "kernelspec": {
      "display_name": "Python 3.9.13 ('venv')",
      "language": "python",
      "name": "python3"
    },
    "language_info": {
      "codemirror_mode": {
        "name": "ipython",
        "version": 3
      },
      "file_extension": ".py",
      "mimetype": "text/x-python",
      "name": "python",
      "nbconvert_exporter": "python",
      "pygments_lexer": "ipython3",
      "version": "3.9.13"
    },
    "orig_nbformat": 4,
    "vscode": {
      "interpreter": {
        "hash": "3ad9529cf51658cc0958e2cd041f9aab72aa7019a90a08cfb93bdaed3837589a"
      }
    }
  },
  "nbformat": 4,
  "nbformat_minor": 0
}