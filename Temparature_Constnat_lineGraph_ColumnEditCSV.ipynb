{
  "cells": [
    {
      "cell_type": "markdown",
      "metadata": {
        "id": "view-in-github",
        "colab_type": "text"
      },
      "source": [
        "<a href=\"https://colab.research.google.com/github/parwinderau/machinelearning/blob/main/Temparature_Constnat_lineGraph_ColumnEditCSV.ipynb\" target=\"_parent\"><img src=\"https://colab.research.google.com/assets/colab-badge.svg\" alt=\"Open In Colab\"/></a>"
      ]
    },
    {
      "cell_type": "code",
      "execution_count": null,
      "metadata": {
        "id": "fTE9l9IQDEcu"
      },
      "outputs": [],
      "source": [
        "# Exercise Herning temperature\n",
        "# \n",
        "# Load the file Herning_temperature_CSV.csv. The file contains the min and max temperatures min_T and max_T\n",
        "# and an empty column with the average temperatures. avg_T"
      ]
    },
    {
      "cell_type": "code",
      "execution_count": 16,
      "metadata": {
        "id": "BAQxlHG6DEcy"
      },
      "outputs": [],
      "source": [
        "# we import pandas for the file read\n",
        "import pandas as pd\n",
        "import matplotlib.pyplot as plt\n",
        "data_import = pd.read_csv('Herning_temperature_CSV.csv', delimiter = ',')\n",
        "# and we convert it to dataframe\n",
        "df = pd.DataFrame(data_import)\n",
        "df.drop(df.columns[df.columns.str.contains('Unnamed:',case = False)],axis = 1, inplace = True)"
      ]
    },
    {
      "cell_type": "code",
      "execution_count": 17,
      "metadata": {
        "id": "qiA9bgkIDEcz",
        "colab": {
          "base_uri": "https://localhost:8080/",
          "height": 716
        },
        "outputId": "b0278f42-52ac-4d09-df9c-137ed8dfb15f"
      },
      "outputs": [
        {
          "output_type": "stream",
          "name": "stdout",
          "text": [
            "0      1.50\n",
            "1      1.45\n",
            "2      3.20\n",
            "3      6.40\n",
            "4     12.45\n",
            "5     15.85\n",
            "6     16.20\n",
            "7     17.10\n",
            "8     14.20\n",
            "9     11.75\n",
            "10     5.60\n",
            "11     5.40\n",
            "Name: avg_T, dtype: float64\n",
            "    month  min_T  max_T  avg_T  const_0\n",
            "0       1   -1.2    4.2   1.50        0\n",
            "1       2   -1.8    4.7   1.45        0\n",
            "2       3    0.3    6.1   3.20        0\n",
            "3       4    2.6   10.2   6.40        0\n",
            "4       5    7.5   17.4  12.45        0\n",
            "5       6   12.6   19.1  15.85        0\n",
            "6       7   12.8   19.6  16.20        0\n",
            "7       8   13.1   21.1  17.10        0\n",
            "8       9   10.1   18.3  14.20        0\n",
            "9      10    7.4   16.1  11.75        0\n",
            "10     11    2.7    8.5   5.60        0\n",
            "11     12    3.6    7.2   5.40        0\n"
          ]
        },
        {
          "output_type": "display_data",
          "data": {
            "text/plain": [
              "<Figure size 432x288 with 1 Axes>"
            ],
            "image/png": "[encoded data removed]"
          },
          "metadata": {
            "needs_background": "light"
          }
        }
      ],
      "source": [
        "# Task 1: plot the min_T and max_T columns (see the file) as a blue and red curve respectively.\n",
        "# Represent them in a plot which contains also a constant line with the 0 temperature. \n",
        "#df.plot(min_T, color=blue)\n",
        "df['avg_T']=(df['min_T']+df['max_T'])/2\n",
        "df['const_0'] = 0\n",
        "print (df['avg_T'])\n",
        "\n",
        "print (df)\n",
        "ax = plt.gca()\n",
        "df.plot(kind='line',y='min_T',color='blue',ax=ax)\n",
        "df.plot(kind='line',y='max_T', color='red', ax=ax)\n",
        "df.plot(kind='line',y='avg_T', color='black', ax=ax)\n",
        "df.plot(kind='line',y='const_0', color='yellow', ax=ax)\n",
        "plt.show()"
      ]
    },
    {
      "cell_type": "code",
      "execution_count": null,
      "metadata": {
        "id": "JV8SwiHZDEc1"
      },
      "outputs": [],
      "source": [
        "# Task 2: calculate the average temperature between min_T and max_T and display it as a yellow\n",
        "# curve in matplotlib.  Suggestion: make the average value between each single couple of values \n",
        "# of min_t and max_t and make the plot.\n"
      ]
    },
    {
      "cell_type": "code",
      "execution_count": null,
      "metadata": {
        "id": "i5xkBZkbDEc2"
      },
      "outputs": [],
      "source": [
        "# Task 3: complete the Herning_temperature_CSV.csv with filling the numbers in the last avg_T coulm\n",
        "# Save the file as Herning_temperature_CSV_complete.csv.  Suggestion: insert the numbers in the \n",
        "# dataframe in the opportune column and use the function \"to_csv()\" of pandas to finish the work.\n",
        "# https://pandas.pydata.org/docs/reference/api/pandas.DataFrame.to_csv.html\n",
        "#\n",
        "\n"
      ]
    }
  ],
  "metadata": {
    "kernelspec": {
      "display_name": "Python 3.9.13 ('venv')",
      "language": "python",
      "name": "python3"
    },
    "language_info": {
      "codemirror_mode": {
        "name": "ipython",
        "version": 3
      },
      "file_extension": ".py",
      "mimetype": "text/x-python",
      "name": "python",
      "nbconvert_exporter": "python",
      "pygments_lexer": "ipython3",
      "version": "3.9.13"
    },
    "orig_nbformat": 4,
    "vscode": {
      "interpreter": {
        "hash": "0893c847e86b6989aca98574b3fb25672d9afd474b88350388891778551f8785"
      }
    },
    "colab": {
      "provenance": [],
      "collapsed_sections": [],
      "include_colab_link": true
    }
  },
  "nbformat": 4,
  "nbformat_minor": 0
}